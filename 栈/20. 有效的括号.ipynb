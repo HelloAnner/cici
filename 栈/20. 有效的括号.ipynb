{
 "cells": [
  {
   "cell_type": "markdown",
   "metadata": {},
   "source": [
    "给定一个只包括 '('，')'，'{'，'}'，'['，']' 的字符串 s ，判断字符串是否有效。\n",
    "\n",
    "有效字符串需满足：\n",
    "\n",
    "左括号必须用相同类型的右括号闭合。\n",
    "左括号必须以正确的顺序闭合。\n",
    "每个右括号都有一个对应的相同类型的左括号。"
   ]
  },
  {
   "cell_type": "code",
   "execution_count": null,
   "metadata": {},
   "outputs": [],
   "source": [
    "class Solution:\n",
    "    def isValid(self, s: str) -> bool:\n",
    "        dic = {\"{\": \"}\", \"[\": \"]\", \"(\": \")\", \"?\": \"?\"}\n",
    "        stack = [\"?\"]\n",
    "        for c in s:\n",
    "            if c in dic:\n",
    "                stack.append(c) \n",
    "            elif dic[stack.pop()] != c:\n",
    "                return False\n",
    "        return len(stack) == 1"
   ]
  }
 ],
 "metadata": {
  "language_info": {
   "name": "python"
  }
 },
 "nbformat": 4,
 "nbformat_minor": 2
}
