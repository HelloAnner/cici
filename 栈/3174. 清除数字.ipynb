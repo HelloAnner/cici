{
 "cells": [
  {
   "metadata": {},
   "cell_type": "markdown",
   "source": [
    "给你一个字符串 s 。\n",
    "\n",
    "你的任务是重复以下操作删除 所有 数字字符：\n",
    "\n",
    "删除 第一个数字字符 以及它左边 最近 的 非数字 字符。\n",
    "请你返回删除所有数字字符以后剩下的字符串。"
   ],
   "id": "61b1fea768dd7fe6"
  },
  {
   "cell_type": "code",
   "execution_count": null,
   "id": "initial_id",
   "metadata": {
    "collapsed": true
   },
   "outputs": [],
   "source": [
    "class Solution:\n",
    "    def clearDigits(self, s: str) -> str:\n",
    "        st = []\n",
    "        for c in s:\n",
    "            if c.isdigit():\n",
    "                st.pop()\n",
    "            else:\n",
    "                st.append(c)\n",
    "        return ''.join(st)"
   ]
  }
 ],
 "metadata": {
  "kernelspec": {
   "display_name": "Python 3",
   "language": "python",
   "name": "python3"
  },
  "language_info": {
   "codemirror_mode": {
    "name": "ipython",
    "version": 2
   },
   "file_extension": ".py",
   "mimetype": "text/x-python",
   "name": "python",
   "nbconvert_exporter": "python",
   "pygments_lexer": "ipython2",
   "version": "2.7.6"
  }
 },
 "nbformat": 4,
 "nbformat_minor": 5
}
