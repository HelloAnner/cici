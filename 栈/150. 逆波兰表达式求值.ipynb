{
 "cells": [
  {
   "cell_type": "markdown",
   "metadata": {},
   "source": [
    "给你一个字符串数组 tokens ，表示一个根据 逆波兰表示法 表示的算术表达式。\n",
    "\n",
    "请你计算该表达式。返回一个表示表达式值的整数。\n",
    "\n",
    "注意：\n",
    "\n",
    "有效的算符为 '+'、'-'、'*' 和 '/' 。\n",
    "每个操作数（运算对象）都可以是一个整数或者另一个表达式。\n",
    "两个整数之间的除法总是 向零截断 。\n",
    "表达式中不含除零运算。\n",
    "输入是一个根据逆波兰表示法表示的算术表达式。\n",
    "答案及所有中间计算结果可以用 32 位 整数表示。\n",
    " \n",
    "\n",
    "示例 1：\n",
    "\n",
    "输入：tokens = [\"2\",\"1\",\"+\",\"3\",\"*\"]\n",
    "输出：9\n",
    "解释：该算式转化为常见的中缀算术表达式为：((2 + 1) * 3) = 9"
   ]
  },
  {
   "cell_type": "code",
   "execution_count": null,
   "metadata": {},
   "outputs": [],
   "source": [
    "from operator import add, mul, sub\n",
    "from typing import List\n",
    "\n",
    "\n",
    "class Solution:\n",
    "    def evalRPN(self, tokens: List[str]) -> int:\n",
    "        op_to_binary_fn = {\"+\": add, \"-\": sub, \"*\": mul, \"/\": lambda x, y: int(x / y)}\n",
    "\n",
    "        stack = list()\n",
    "        for token in tokens:\n",
    "            try:\n",
    "                num = int(token)\n",
    "            except ValueError:\n",
    "                num2 = stack.pop()\n",
    "                num1 = stack.pop()\n",
    "                num = op_to_binary_fn[token](num1, num2)\n",
    "            finally:\n",
    "                stack.append(num)\n",
    "        return stack[0]"
   ]
  }
 ],
 "metadata": {
  "language_info": {
   "name": "python"
  }
 },
 "nbformat": 4,
 "nbformat_minor": 2
}
