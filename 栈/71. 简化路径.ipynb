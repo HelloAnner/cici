{
 "cells": [
  {
   "cell_type": "markdown",
   "metadata": {},
   "source": [
    "给你一个字符串 path ，表示指向某一文件或目录的 Unix 风格 绝对路径 （以 '/' 开头），请你将其转化为更加简洁的规范路径。\n",
    "\n",
    "在 Unix 风格的文件系统中，一个点（.）表示当前目录本身；此外，两个点 （..） 表示将目录切换到上一级（指向父目录）；两者都可以是复杂相对路径的组成部分。任意多个连续的斜杠（即，'//'）都被视为单个斜杠 '/' 。 对于此问题，任何其他格式的点（例如，'...'）均被视为文件/目录名称。\n",
    "\n",
    "请注意，返回的 规范路径 必须遵循下述格式：\n",
    "\n",
    "始终以斜杠 '/' 开头。\n",
    "两个目录名之间必须只有一个斜杠 '/' 。\n",
    "最后一个目录名（如果存在）不能 以 '/' 结尾。\n",
    "此外，路径仅包含从根目录到目标文件或目录的路径上的目录（即，不含 '.' 或 '..'）。\n",
    "返回简化后得到的 规范路径 。\n",
    "\n",
    " \n",
    "\n",
    "示例 1：\n",
    "\n",
    "输入：path = \"/home/\"\n",
    "输出：\"/home\"\n",
    "解释：注意，最后一个目录名后面没有斜杠。 \n",
    "示例 2：\n",
    "\n",
    "输入：path = \"/../\"\n",
    "输出：\"/\"\n",
    "解释：从根目录向上一级是不可行的，因为根目录是你可以到达的最高级。\n",
    "示例 3：\n",
    "\n",
    "输入：path = \"/home//foo/\"\n",
    "输出：\"/home/foo\"\n",
    "解释：在规范路径中，多个连续斜杠需要用一个斜杠替换。"
   ]
  },
  {
   "cell_type": "code",
   "execution_count": null,
   "metadata": {},
   "outputs": [],
   "source": [
    "class Solution:\n",
    "    def simplifyPath(self, path: str) -> str:\n",
    "        names = path.split(\"/\")\n",
    "        stack = list()\n",
    "        for name in names:\n",
    "            if name == \"..\":\n",
    "                if stack:\n",
    "                    stack.pop()\n",
    "            elif name and name != \".\":\n",
    "                stack.append(name)\n",
    "        return \"/\" + \"/\".join(stack)"
   ]
  }
 ],
 "metadata": {
  "language_info": {
   "name": "python"
  }
 },
 "nbformat": 4,
 "nbformat_minor": 2
}
