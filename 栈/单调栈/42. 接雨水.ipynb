{
 "cells": [
  {
   "cell_type": "markdown",
   "metadata": {},
   "source": [
    "给定 n 个非负整数表示每个宽度为 1 的柱子的高度图，计算按此排列的柱子，下雨之后能接多少雨水。"
   ]
  },
  {
   "cell_type": "markdown",
   "metadata": {},
   "source": [
    "找上一个更大元素，在找的过程中填坑"
   ]
  },
  {
   "cell_type": "code",
   "execution_count": null,
   "metadata": {},
   "outputs": [],
   "source": [
    "from typing import List\n",
    "\n",
    "\n",
    "class Solution:\n",
    "    def trap(self, height: List[int]) -> int:\n",
    "        ans = 0\n",
    "        st = []\n",
    "        for i, h in enumerate(height):\n",
    "            while st and h >= height[st[-1]]:\n",
    "                bottom_h = height[st.pop()]\n",
    "                if not st:  # len(st) == 0\n",
    "                    break\n",
    "                left = st[-1]\n",
    "                dh = min(height[left], h) - bottom_h  # 面积的高\n",
    "                ans += dh * (i - left - 1)\n",
    "            st.append(i)\n",
    "        return ans"
   ]
  }
 ],
 "metadata": {
  "language_info": {
   "name": "python"
  }
 },
 "nbformat": 4,
 "nbformat_minor": 2
}
