{
 "cells": [
  {
   "cell_type": "markdown",
   "metadata": {},
   "source": [
    "给定一个整数数组 temperatures ，表示每天的温度，返回一个数组 answer ，其中 answer[i] 是指对于第 i 天，下一个更高温度出现在几天后。如果气温在这之后都不会升高，请在该位置用 0 来代替。\n",
    "\n",
    "示例 1:\n",
    "输入: temperatures = [73,74,75,71,69,72,76,73]\n",
    "输出: [1,1,4,2,1,1,0,0]"
   ]
  },
  {
   "cell_type": "markdown",
   "metadata": {},
   "source": [
    "从右向左 - 单调栈： 栈中记录下一个更大元素的「候选项」。"
   ]
  },
  {
   "cell_type": "code",
   "execution_count": null,
   "metadata": {},
   "outputs": [],
   "source": [
    "from typing import List\n",
    "\n",
    "\n",
    "class Solution:\n",
    "    def dailyTemperatures(self, temperatures: List[int]) -> List[int]:\n",
    "        n = len(temperatures)\n",
    "        ans = [0] * n\n",
    "        st = []\n",
    "        for i in range(n - 1, -1, -1):\n",
    "            t = temperatures[i]\n",
    "            while st and t >= temperatures[st[-1]]:\n",
    "                st.pop()\n",
    "            if st:\n",
    "                ans[i] = st[-1] - i\n",
    "            st.append(i)\n",
    "        return ans"
   ]
  },
  {
   "cell_type": "markdown",
   "metadata": {},
   "source": [
    "从左向右 - 栈中记录还没算出「下一个更大元素」的那些数（的下标）。\n",
    "\n",
    "不直观"
   ]
  },
  {
   "cell_type": "code",
   "execution_count": null,
   "metadata": {},
   "outputs": [],
   "source": [
    "class Solution:\n",
    "    def dailyTemperatures(self, temperatures: List[int]) -> List[int]:\n",
    "        n = len(temperatures)\n",
    "        ans = [0] * n\n",
    "        st = []\n",
    "        for i, t in enumerate(temperatures):\n",
    "            while st and t > temperatures[st[-1]]:\n",
    "                j = st.pop()\n",
    "                ans[j] = i - j\n",
    "            st.append(i)\n",
    "        return ans"
   ]
  }
 ],
 "metadata": {
  "language_info": {
   "name": "python"
  }
 },
 "nbformat": 4,
 "nbformat_minor": 2
}
