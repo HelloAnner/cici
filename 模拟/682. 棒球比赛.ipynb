{
 "cells": [
  {
   "cell_type": "markdown",
   "metadata": {},
   "source": [
    "你现在是一场采用特殊赛制棒球比赛的记录员。这场比赛由若干回合组成，过去几回合的得分可能会影响以后几回合的得分。\n",
    "\n",
    "比赛开始时，记录是空白的。你会得到一个记录操作的字符串列表 ops，其中 ops[i] 是你需要记录的第 i 项操作，ops 遵循下述规则：\n",
    "\n",
    "整数 x - 表示本回合新获得分数 x\n",
    "\"+\" - 表示本回合新获得的得分是前两次得分的总和。题目数据保证记录此操作时前面总是存在两个有效的分数。\n",
    "\"D\" - 表示本回合新获得的得分是前一次得分的两倍。题目数据保证记录此操作时前面总是存在一个有效的分数。\n",
    "\"C\" - 表示前一次得分无效，将其从记录中移除。题目数据保证记录此操作时前面总是存在一个有效的分数。\n",
    "请你返回记录中所有得分的总和。\n",
    "\n",
    " \n",
    "示例 1：\n",
    "输入：ops = [\"5\",\"2\",\"C\",\"D\",\"+\"]\n",
    "输出：30\n",
    "解释：\n",
    "\"5\" - 记录加 5 ，记录现在是 [5]\n",
    "\"2\" - 记录加 2 ，记录现在是 [5, 2]\n",
    "\"C\" - 使前一次得分的记录无效并将其移除，记录现在是 [5].\n",
    "\"D\" - 记录加 2 * 5 = 10 ，记录现在是 [5, 10].\n",
    "\"+\" - 记录加 5 + 10 = 15 ，记录现在是 [5, 10, 15].\n",
    "所有得分的总和 5 + 10 + 15 = 30"
   ]
  },
  {
   "cell_type": "code",
   "execution_count": null,
   "metadata": {},
   "outputs": [],
   "source": [
    "from typing import List\n",
    "\n",
    "\n",
    "class Solution:\n",
    "    def calPoints(self, operations: List[str]) -> int:\n",
    "        ans = 0\n",
    "        points = []\n",
    "        for op in operations:\n",
    "            if op == \"+\":\n",
    "                pt = points[-1] + points[-2]\n",
    "            elif op == \"D\":\n",
    "                pt = points[-1] * 2\n",
    "            elif op == \"C\":\n",
    "                ans -= points.pop()\n",
    "                continue\n",
    "            else:\n",
    "                pt = int(op)\n",
    "            ans += pt\n",
    "            points.append(pt)\n",
    "        return ans"
   ]
  }
 ],
 "metadata": {
  "language_info": {
   "name": "python"
  }
 },
 "nbformat": 4,
 "nbformat_minor": 2
}
