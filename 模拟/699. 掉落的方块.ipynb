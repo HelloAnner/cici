{
 "cells": [
  {
   "cell_type": "markdown",
   "metadata": {},
   "source": [
    "在二维平面上的 x 轴上，放置着一些方块。\n",
    "\n",
    "给你一个二维整数数组 positions ，其中 positions[i] = [lefti, sideLengthi] 表示：第 i 个方块边长为 sideLengthi ，其左侧边与 x 轴上坐标点 lefti 对齐。\n",
    "\n",
    "每个方块都从一个比目前所有的落地方块更高的高度掉落而下。方块沿 y 轴负方向下落，直到着陆到 另一个正方形的顶边 或者是 x 轴上 。一个方块仅仅是擦过另一个方块的左侧边或右侧边不算着陆。一旦着陆，它就会固定在原地，无法移动。\n",
    "\n",
    "在每个方块掉落后，你必须记录目前所有已经落稳的 方块堆叠的最高高度 。\n",
    "\n",
    "返回一个整数数组 ans ，其中 ans[i] 表示在第 i 块方块掉落后堆叠的最高高度。\n",
    "\n",
    "输入：positions = [[1,2],[2,3],[6,1]]\n",
    "输出：[2,5,5]\n",
    "解释：\n",
    "第 1 个方块掉落后，最高的堆叠由方块 1 组成，堆叠的最高高度为 2 。\n",
    "第 2 个方块掉落后，最高的堆叠由方块 1 和 2 组成，堆叠的最高高度为 5 。\n",
    "第 3 个方块掉落后，最高的堆叠仍然由方块 1 和 2 组成，堆叠的最高高度为 5 。\n",
    "因此，返回 [2, 5, 5] 作为答案。"
   ]
  },
  {
   "cell_type": "code",
   "execution_count": null,
   "metadata": {},
   "outputs": [],
   "source": [
    "from typing import List\n",
    "\n",
    "\n",
    "class Solution:\n",
    "    def fallingSquares(self, positions: List[List[int]]) -> List[int]:\n",
    "        n = len(positions)\n",
    "        heights = [0] * n\n",
    "        for i, (l1, s1) in enumerate(positions):\n",
    "            r1 = l1 + s1 - 1\n",
    "            heights[i] = s1\n",
    "            for j in range(i):\n",
    "                l2, r2 = positions[j][0], positions[j][0] + positions[j][1] - 1\n",
    "                # 落在了之前石块的上方\n",
    "                if r1 >= l2 and r2 >= l1:\n",
    "                    heights[i] = max(heights[i], heights[j] + s1)\n",
    "        for i in range(1, n):\n",
    "            heights[i] = max(heights[i], heights[i - 1])\n",
    "        return heights"
   ]
  }
 ],
 "metadata": {
  "language_info": {
   "name": "python"
  }
 },
 "nbformat": 4,
 "nbformat_minor": 2
}
