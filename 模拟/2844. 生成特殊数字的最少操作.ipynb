{
 "cells": [
  {
   "cell_type": "markdown",
   "metadata": {},
   "source": [
    "给你一个下标从 0 开始的字符串 num ，表示一个非负整数。\n",
    "\n",
    "在一次操作中，您可以选择 num 的任意一位数字并将其删除。请注意，如果你删除 num 中的所有数字，则 num 变为 0。\n",
    "\n",
    "返回最少需要多少次操作可以使 num 变成特殊数字。\n",
    "\n",
    "如果整数 x 能被 25 整除，则该整数 x 被认为是特殊数字。\n",
    "\n",
    "\n",
    "示例 1：\n",
    "输入：num = \"2245047\"\n",
    "输出：2\n",
    "解释：删除数字 num[5] 和 num[6] ，得到数字 \"22450\" ，可以被 25 整除。\n",
    "可以证明要使数字变成特殊数字，最少需要删除 2 位数字。"
   ]
  },
  {
   "cell_type": "markdown",
   "metadata": {},
   "source": [
    "在从右往左遍历的过程中：\n",
    "\n",
    "在之前找到 0 的情况下，如果当前数字 num[i] 是 0 或者 5，则立刻返回 n−i−2。\n",
    "在之前找到 5 的情况下，如果当前数字 num[i] 是 2 或者 7，则立刻返回 n−i−2。\n",
    "否则，如果 num[i] 是 0，标记我们找到了 0。\n",
    "否则，如果 num[i] 是 5，标记我们找到了 5。\n",
    "如果循环中没有返回，则最后返回 n 或者 n−1，取决于我们是否找到了 0。"
   ]
  },
  {
   "cell_type": "code",
   "execution_count": null,
   "metadata": {},
   "outputs": [],
   "source": [
    "class Solution:\n",
    "    def minimumOperations(self, num: str) -> int:\n",
    "        n = len(num)\n",
    "        found0 = found5 = False\n",
    "        for i in range(n - 1, -1, -1):\n",
    "            c = num[i]\n",
    "            if found0 and c in \"05\" or found5 and c in \"27\":\n",
    "                return n - i - 2\n",
    "            if c == \"0\":\n",
    "                found0 = True\n",
    "            if c == \"5\":\n",
    "                found5 = True\n",
    "\n",
    "        return n - found0"
   ]
  }
 ],
 "metadata": {
  "language_info": {
   "name": "python"
  }
 },
 "nbformat": 4,
 "nbformat_minor": 2
}
