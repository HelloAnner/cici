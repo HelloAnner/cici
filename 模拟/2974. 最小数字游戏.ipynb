{
 "cells": [
  {
   "cell_type": "markdown",
   "metadata": {},
   "source": [
    "你有一个下标从 0 开始、长度为 偶数 的整数数组 nums ，同时还有一个空数组 arr 。Alice 和 Bob 决定玩一个游戏，游戏中每一轮 Alice 和 Bob 都会各自执行一次操作。游戏规则如下：\n",
    "\n",
    "每一轮，Alice 先从 nums 中移除一个 最小 元素，然后 Bob 执行同样的操作。\n",
    "接着，Bob 会将移除的元素添加到数组 arr 中，然后 Alice 也执行同样的操作。\n",
    "游戏持续进行，直到 nums 变为空。\n",
    "返回结果数组 arr 。\n",
    "\n",
    " \n",
    "\n",
    "示例 1：\n",
    "\n",
    "输入：nums = [5,4,2,3]\n",
    "输出：[3,2,5,4]\n",
    "解释：第一轮，Alice 先移除 2 ，然后 Bob 移除 3 。然后 Bob 先将 3 添加到 arr 中，接着 Alice 再将 2 添加到 arr 中。于是 arr = [3,2] 。\n",
    "第二轮开始时，nums = [5,4] 。Alice 先移除 4 ，然后 Bob 移除 5 。接着他们都将元素添加到 arr 中，arr 变为 [3,2,5,4] 。"
   ]
  },
  {
   "cell_type": "code",
   "execution_count": null,
   "metadata": {},
   "outputs": [],
   "source": [
    "from typing import List\n",
    "\n",
    "\n",
    "class Solution:\n",
    "    def numberGame(self, nums: List[int]) -> List[int]:\n",
    "        nums.sort()\n",
    "        for i in range(1, len(nums), 2):\n",
    "            nums[i - 1], nums[i] = nums[i], nums[i - 1]\n",
    "        return nums"
   ]
  }
 ],
 "metadata": {
  "language_info": {
   "name": "python"
  }
 },
 "nbformat": 4,
 "nbformat_minor": 2
}
