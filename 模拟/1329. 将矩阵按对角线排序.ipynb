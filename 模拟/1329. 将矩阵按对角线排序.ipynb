{
 "cells": [
  {
   "cell_type": "markdown",
   "metadata": {},
   "source": [
    "矩阵对角线 是一条从矩阵最上面行或者最左侧列中的某个元素开始的对角线，沿右下方向一直到矩阵末尾的元素。例如，矩阵 mat 有 6 行 3 列，从 mat[2][0] 开始的 矩阵对角线 将会经过 mat[2][0]、mat[3][1] 和 mat[4][2] 。\n",
    "\n",
    "给你一个 m * n 的整数矩阵 mat ，请你将同一条 矩阵对角线 上的元素按升序排序后，返回排好序的矩阵。\n",
    "\n",
    "输入：mat = [[3,3,1,1],[2,2,1,2],[1,1,1,2]]\n",
    "输出：[[1,1,1,1],[1,2,2,2],[1,2,3,3]]"
   ]
  },
  {
   "cell_type": "markdown",
   "metadata": {},
   "source": [
    "对角线排序\n",
    "\n",
    "依次遍历矩阵，将同一条对角线上的元素放在相同的数组内，对所有数组进行倒序排序，再重新遍历矩阵，将排序好的元素放回矩阵内。\n",
    "\n",
    "\n",
    "同一条对角线上的点的横纵坐标的差均相同"
   ]
  },
  {
   "cell_type": "code",
   "execution_count": null,
   "metadata": {},
   "outputs": [],
   "source": [
    "from typing import List\n",
    "\n",
    "\n",
    "class Solution:\n",
    "    def diagonalSort(self, mat: List[List[int]]) -> List[List[int]]:\n",
    "        n = len(mat)\n",
    "        m = len(mat[0])\n",
    "        diag = [[]for _ in range(m+n)]\n",
    "        for i in range(n):\n",
    "            for j in range(m):\n",
    "                # i-j+m 是为了将对角线元素根据各自对角线插入矩阵\n",
    "                diag[i-j+m].append(mat[i][j])\n",
    "        for d in diag:\n",
    "            # pop 是尾部删除\n",
    "            d.sort(reverse=True)\n",
    "        for i in range(n):\n",
    "            for j in range(m):\n",
    "                mat[i][j] = diag[i - j + m].pop()\n",
    "        return mat"
   ]
  }
 ],
 "metadata": {
  "language_info": {
   "name": "python"
  }
 },
 "nbformat": 4,
 "nbformat_minor": 2
}
