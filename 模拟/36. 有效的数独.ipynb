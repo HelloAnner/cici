{
 "cells": [
  {
   "cell_type": "markdown",
   "metadata": {},
   "source": [
    "请你判断一个 9 x 9 的数独是否有效。只需要 根据以下规则 ，验证已经填入的数字是否有效即可。\n",
    "\n",
    "数字 1-9 在每一行只能出现一次。\n",
    "数字 1-9 在每一列只能出现一次。\n",
    "数字 1-9 在每一个以粗实线分隔的 3x3 宫内只能出现一次。"
   ]
  },
  {
   "cell_type": "code",
   "execution_count": null,
   "metadata": {},
   "outputs": [],
   "source": [
    "from typing import List\n",
    "\n",
    "\n",
    "class Solution:\n",
    "    def isValidSudoku(self, board: List[List[str]]) -> bool:\n",
    "        row = [[0] * 9 for _ in range(9)]\n",
    "        col = [[0] * 9 for _ in range(9)]\n",
    "        block = [[0] * 9 for _ in range(9)]\n",
    "\n",
    "        for i in range(9):\n",
    "            for j in range(9):\n",
    "                if board[i][j] != \".\":\n",
    "                    num = int(board[i][j]) - 1\n",
    "                    # 3*3的格子是哪个块\n",
    "                    b = (i // 3) * 3 + j // 3\n",
    "                    if row[i][num] or col[j][num] or block[b][num]:\n",
    "                        return False\n",
    "                    row[i][num] = col[j][num] = block[b][num] = 1\n",
    "        return True"
   ]
  }
 ],
 "metadata": {
  "language_info": {
   "name": "python"
  }
 },
 "nbformat": 4,
 "nbformat_minor": 2
}
