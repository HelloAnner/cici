{
 "cells": [
  {
   "cell_type": "markdown",
   "metadata": {},
   "source": [
    "给你一个大小为 m x n 的矩阵 board 表示甲板，其中，每个单元格可以是一艘战舰 'X' 或者是一个空位 '.' ，返回在甲板 board 上放置的 战舰 的数量。\n",
    "\n",
    "把横着或竖着的连续 X 看成一艘战舰，统计棋盘上有多少艘战舰。\n",
    "\n",
    "战舰的个数，等于战舰「头部」的个数"
   ]
  },
  {
   "cell_type": "code",
   "execution_count": null,
   "metadata": {},
   "outputs": [],
   "source": [
    "from typing import List\n",
    "\n",
    "\n",
    "class Solution:\n",
    "    def countBattleships(self, board: List[List[str]]) -> int:\n",
    "        ans = 0\n",
    "        for i, row in enumerate(board):\n",
    "            for j, c in enumerate(row):\n",
    "                if (\n",
    "                    c == \"X\"\n",
    "                    and (j == 0 or row[j - 1] != \"X\")\n",
    "                    and (i == 0 or board[i - 1][j] != \"X\")\n",
    "                ):\n",
    "                    ans += 1\n",
    "        return ans"
   ]
  }
 ],
 "metadata": {
  "language_info": {
   "name": "python"
  }
 },
 "nbformat": 4,
 "nbformat_minor": 2
}
