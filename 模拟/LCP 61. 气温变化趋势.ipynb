{
 "cells": [
  {
   "cell_type": "markdown",
   "metadata": {},
   "source": [
    "力扣城计划在两地设立「力扣嘉年华」的分会场，气象小组正在分析两地区的气温变化趋势，对于第 i ~ (i+1) 天的气温变化趋势，将根据以下规则判断：\n",
    "\n",
    "若第 i+1 天的气温 高于 第 i 天，为 上升 趋势\n",
    "若第 i+1 天的气温 等于 第 i 天，为 平稳 趋势\n",
    "若第 i+1 天的气温 低于 第 i 天，为 下降 趋势\n",
    "已知 temperatureA[i] 和 temperatureB[i] 分别表示第 i 天两地区的气温。 组委会希望找到一段天数尽可能多，且两地气温变化趋势相同的时间举办嘉年华活动。请分析并返回两地气温变化趋势相同的最大连续天数。"
   ]
  },
  {
   "cell_type": "code",
   "execution_count": null,
   "metadata": {},
   "outputs": [],
   "source": [
    "from itertools import pairwise\n",
    "from typing import List\n",
    "\n",
    "\n",
    "class Solution:\n",
    "    def temperatureTrend(self, temperatureA: List[int], temperatureB: List[int]) -> int:\n",
    "        ans = same = 0\n",
    "        for (a1, b1), (a2, b2) in pairwise(zip(temperatureA, temperatureB)):\n",
    "            if (a1 > a2) - (a1 < a2) == (b1 > b2) - (b1 < b2):\n",
    "                same += 1\n",
    "                ans = max(ans, same)\n",
    "            else:\n",
    "                same = 0\n",
    "        return ans"
   ]
  }
 ],
 "metadata": {
  "language_info": {
   "name": "python"
  }
 },
 "nbformat": 4,
 "nbformat_minor": 2
}
