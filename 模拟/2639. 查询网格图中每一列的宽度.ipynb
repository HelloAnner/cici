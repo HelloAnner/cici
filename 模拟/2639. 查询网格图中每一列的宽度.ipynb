{
 "cells": [
  {
   "cell_type": "markdown",
   "metadata": {},
   "source": [
    "给你一个下标从 0 开始的 m x n 整数矩阵 grid 。矩阵中某一列的宽度是这一列数字的最大 字符串长度 。\n",
    "\n",
    "比方说，如果 grid = [[-10], [3], [12]] ，那么唯一一列的宽度是 3 ，因为 -10 的字符串长度为 3 。\n",
    "请你返回一个大小为 n 的整数数组 ans ，其中 ans[i] 是第 i 列的宽度。\n",
    "\n",
    "一个有 len 个数位的整数 x ，如果是非负数，那么 字符串长度 为 len ，否则为 len + 1 。\n",
    "\n"
   ]
  },
  {
   "cell_type": "markdown",
   "metadata": {},
   "source": [
    "计算数字的字符串长度，可以选择直接模拟计算，也可以选择直接转为字符串计算"
   ]
  },
  {
   "cell_type": "markdown",
   "metadata": {},
   "source": [
    "1. 模拟数字计算长度代码如下："
   ]
  },
  {
   "cell_type": "code",
   "execution_count": null,
   "metadata": {},
   "outputs": [],
   "source": [
    "from typing import List\n",
    "\n",
    "\n",
    "class Solution:\n",
    "    def findColumnWidth(self, grid: List[List[int]]) -> List[int]:\n",
    "        n, m = len(grid), len(grid[0])\n",
    "        res = [0] * m\n",
    "        for i in range(n):\n",
    "            for j in range(m):\n",
    "                x, length = grid[i][j], 0\n",
    "                if x <= 0:\n",
    "                    length, x = 1, -x\n",
    "                while x != 0:\n",
    "                    length, x = length + 1, x // 10\n",
    "                res[j] = max(res[j], length)\n",
    "        return res"
   ]
  },
  {
   "cell_type": "markdown",
   "metadata": {},
   "source": [
    "2.转为字符串 ， 直接计算字符串长度"
   ]
  },
  {
   "cell_type": "code",
   "execution_count": null,
   "metadata": {},
   "outputs": [],
   "source": [
    "from typing import List\n",
    "\n",
    "\n",
    "class Solution:\n",
    "    def findColumnWidth(self, grid: List[List[int]]) -> List[int]:\n",
    "        n, m = len(grid), len(grid[0])\n",
    "        res = [0] * m\n",
    "        for i in range(n):\n",
    "            for j in range(m):\n",
    "                res[j] = max(res[j],len(str(grid[i][j])))\n",
    "        return res"
   ]
  }
 ],
 "metadata": {
  "language_info": {
   "name": "python"
  }
 },
 "nbformat": 4,
 "nbformat_minor": 2
}
