{
 "cells": [
  {
   "cell_type": "markdown",
   "metadata": {},
   "source": [
    "给你一个二维 3 x 3 的矩阵 grid ，每个格子都是一个字符，要么是 'B' ，要么是 'W' 。字符 'W' 表示白色，字符 'B' 表示黑色。\n",
    "\n",
    "你的任务是改变 至多一个 格子的颜色，使得矩阵中存在一个 2 x 2 颜色完全相同的正方形。\n",
    "\n",
    "如果可以得到一个相同颜色的 2 x 2 正方形，那么返回 true ，否则返回 false 。\n"
   ]
  },
  {
   "cell_type": "code",
   "execution_count": null,
   "metadata": {},
   "outputs": [],
   "source": [
    "from collections import defaultdict\n",
    "from typing import List\n",
    "\n",
    "\n",
    "class Solution:\n",
    "    def canMakeSquare(self, grid: List[List[str]]) -> bool:\n",
    "        def check(i: int, j: int) -> bool:\n",
    "            cnt = defaultdict(int)\n",
    "            cnt[grid[i][j]] += 1\n",
    "            cnt[grid[i + 1][j]] += 1\n",
    "            cnt[grid[i][j + 1]] += 1\n",
    "            cnt[grid[i + 1][j + 1]] += 1\n",
    "            return cnt[\"B\"] != 2\n",
    "\n",
    "        return check(0, 0) or check(0, 1) or check(1, 0) or check(1, 1)\n"
   ]
  }
 ],
 "metadata": {
  "language_info": {
   "name": "python"
  }
 },
 "nbformat": 4,
 "nbformat_minor": 2
}
