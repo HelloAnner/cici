{
 "cells": [
  {
   "cell_type": "markdown",
   "metadata": {},
   "source": [
    "给你一个字符串 s 表示一个学生的出勤记录，其中的每个字符用来标记当天的出勤情况（缺勤、迟到、到场）。记录中只含下面三种字符：\n",
    "\n",
    "'A'：Absent，缺勤\n",
    "'L'：Late，迟到\n",
    "'P'：Present，到场\n",
    "如果学生能够 同时 满足下面两个条件，则可以获得出勤奖励：\n",
    "\n",
    "按 总出勤 计，学生缺勤（'A'）严格 少于两天。\n",
    "学生 不会 存在 连续 3 天或 连续 3 天以上的迟到（'L'）记录。\n",
    "如果学生可以获得出勤奖励，返回 true ；否则，返回 false 。\n"
   ]
  },
  {
   "cell_type": "code",
   "execution_count": null,
   "metadata": {},
   "outputs": [],
   "source": [
    "class Solution:\n",
    "    def checkRecord(self, s: str) -> bool:\n",
    "        return s.count('A') < 2 and \"LLL\" not in s"
   ]
  }
 ],
 "metadata": {
  "language_info": {
   "name": "python"
  }
 },
 "nbformat": 4,
 "nbformat_minor": 2
}
