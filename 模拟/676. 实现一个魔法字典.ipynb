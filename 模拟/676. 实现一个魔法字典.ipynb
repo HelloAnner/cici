{
 "cells": [
  {
   "cell_type": "markdown",
   "metadata": {},
   "source": [
    "设计一个使用单词列表进行初始化的数据结构，单词列表中的单词 互不相同 。 如果给出一个单词，请判定能否只将这个单词中一个字母换成另一个字母，使得所形成的新单词存在于你构建的字典中。\n",
    "\n",
    "实现 MagicDictionary 类：\n",
    "\n",
    "MagicDictionary() 初始化对象\n",
    "void buildDict(String[] dictionary) 使用字符串数组 dictionary 设定该数据结构，dictionary 中的字符串互不相同\n",
    "bool search(String searchWord) 给定一个字符串 searchWord ，判定能否只将字符串中 一个 字母换成另一个字母，使得所形成的新字符串能够与字典中的任一字符串匹配。如果可以，返回 true ；否则，返回 false 。\n",
    "\n",
    "示例：\n",
    "\n",
    "输入\n",
    "[\"MagicDictionary\", \"buildDict\", \"search\", \"search\", \"search\", \"search\"]\n",
    "[[], [[\"hello\", \"leetcode\"]], [\"hello\"], [\"hhllo\"], [\"hell\"], [\"leetcoded\"]]\n",
    "输出\n",
    "[null, null, false, true, false, false]\n",
    "\n",
    "解释\n",
    "MagicDictionary magicDictionary = new MagicDictionary();\n",
    "magicDictionary.buildDict([\"hello\", \"leetcode\"]);\n",
    "magicDictionary.search(\"hello\"); // 返回 False\n",
    "magicDictionary.search(\"hhllo\"); // 将第二个 'h' 替换为 'e' 可以匹配 \"hello\" ，所以返回 True\n",
    "magicDictionary.search(\"hell\"); // 返回 False\n",
    "magicDictionary.search(\"leetcoded\"); // 返回 False\n"
   ]
  },
  {
   "cell_type": "code",
   "execution_count": null,
   "metadata": {},
   "outputs": [],
   "source": [
    "from typing import List\n",
    "\n",
    "\n",
    "class MagicDictionary:\n",
    "\n",
    "    def __init__(self):\n",
    "        self.words = list()\n",
    "\n",
    "    def buildDict(self, dictionary: List[str]) -> None:\n",
    "        self.words = dictionary\n",
    "\n",
    "    def search(self, searchWord: str) -> bool:\n",
    "        for word in self.words:\n",
    "            if len(word) != len(searchWord):\n",
    "                continue\n",
    "            diff = 0\n",
    "            for chx, chy in zip(word, searchWord):\n",
    "                if chx != chy:\n",
    "                    diff += 1\n",
    "                    if diff > 1:\n",
    "                        break\n",
    "\n",
    "            if diff == 1:\n",
    "                return True\n",
    "\n",
    "        return False\n",
    "\n",
    "\n",
    "# Your MagicDictionary object will be instantiated and called as such:\n",
    "# obj = MagicDictionary()\n",
    "# obj.buildDict(dictionary)\n",
    "# param_2 = obj.search(searchWord)"
   ]
  }
 ],
 "metadata": {
  "language_info": {
   "name": "python"
  }
 },
 "nbformat": 4,
 "nbformat_minor": 2
}
