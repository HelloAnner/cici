{
 "cells": [
  {
   "cell_type": "markdown",
   "metadata": {},
   "source": [
    "给你一个下标从 0 开始的二维整数矩阵 grid，大小为 n * n ，其中的值在 [1, n2] 范围内。除了 a 出现 两次，b 缺失 之外，每个整数都 恰好出现一次 。\n",
    "\n",
    "任务是找出重复的数字a 和缺失的数字 b 。\n",
    "\n",
    "返回一个下标从 0 开始、长度为 2 的整数数组 ans ，其中 ans[0] 等于 a ，ans[1] 等于 b 。"
   ]
  },
  {
   "cell_type": "code",
   "execution_count": null,
   "metadata": {},
   "outputs": [],
   "source": [
    "from typing import List\n",
    "\n",
    "\n",
    "class Solution:\n",
    "    def findMissingAndRepeatedValues(self, grid: List[List[int]]) -> List[int]:\n",
    "        n = len(grid)\n",
    "        cnt = [0] * (n * n + 1)\n",
    "        for row in grid:\n",
    "            for x in row:\n",
    "                cnt[x] += 1\n",
    "\n",
    "        ans = [0, 0]\n",
    "\n",
    "        for i in range(1, n * n + 1):\n",
    "            if cnt[i] == 2:\n",
    "                ans[0] = i\n",
    "            if cnt[i] == 0:\n",
    "                ans[1] = i\n",
    "\n",
    "        return ans"
   ]
  }
 ],
 "metadata": {
  "language_info": {
   "name": "python"
  }
 },
 "nbformat": 4,
 "nbformat_minor": 2
}
