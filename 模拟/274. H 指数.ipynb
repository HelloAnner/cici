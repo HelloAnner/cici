{
 "cells": [
  {
   "cell_type": "markdown",
   "metadata": {},
   "source": [
    "给你一个整数数组 citations ，其中 citations[i] 表示研究者的第 i 篇论文被引用的次数。计算并返回该研究者的 h 指数。\n",
    "\n",
    "根据维基百科上 h 指数的定义：h 代表“高引用次数” ，一名科研人员的 h 指数 是指他（她）至少发表了 h 篇论文，并且 至少 有 h 篇论文被引用次数大于等于 h 。如果 h 有多种可能的值，h 指数 是其中最大的那个。\n",
    "\n",
    "示例 1：\n",
    "输入：citations = [3,0,6,1,5]\n",
    "输出：3 \n",
    "解释：给定数组表示研究者总共有 5 篇论文，每篇论文相应的被引用了 3, 0, 6, 1, 5 次。\n",
    "     由于研究者有 3 篇论文每篇 至少 被引用了 3 次，其余两篇论文每篇被引用 不多于 3 次，所以她的 h 指数是 3。"
   ]
  },
  {
   "cell_type": "markdown",
   "metadata": {},
   "source": [
    "先统计一下每一个引用次数 对应的 论文数量\n",
    "\n",
    "h 是最大的那个 ，所以我们继续倒序遍历一下 ， 如果论文数量的和大于 i , 说明论文数量 和 引用次数 都达到要求了"
   ]
  },
  {
   "cell_type": "code",
   "execution_count": null,
   "metadata": {},
   "outputs": [],
   "source": [
    "from typing import List\n",
    "\n",
    "\n",
    "class Solution:\n",
    "    def hIndex(self, citations: List[int]) -> int:\n",
    "        n = len(citations)\n",
    "        cnt = [0] * (n + 1)\n",
    "        for c in citations:\n",
    "            cnt[min(c, n)] += 1\n",
    "        s = 0\n",
    "        for i in range(n, -1, -1):\n",
    "            s += cnt[i]\n",
    "            if s >= i:\n",
    "                return i"
   ]
  }
 ],
 "metadata": {
  "language_info": {
   "name": "python"
  }
 },
 "nbformat": 4,
 "nbformat_minor": 2
}
