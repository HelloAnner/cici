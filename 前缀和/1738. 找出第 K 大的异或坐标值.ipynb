{
 "cells": [
  {
   "cell_type": "markdown",
   "metadata": {},
   "source": [
    "给你一个二维矩阵 matrix 和一个整数 k ，矩阵大小为 m x n 由非负整数组成。\n",
    "\n",
    "矩阵中坐标 (a, b) 的 值 可由对所有满足 0 <= i <= a < m 且 0 <= j <= b < n 的元素 matrix[i][j]（下标从 0 开始计数）执行异或运算得到。\n",
    "\n",
    "请你找出 matrix 的所有坐标中第 k 大的值（k 的值从 1 开始计数）。\n",
    "\n",
    "输入：matrix = [[5,2],[1,6]], k = 1\n",
    "输出：7\n",
    "解释：坐标 (0,1) 的值是 5 XOR 2 = 7 ，为最大的值。\n"
   ]
  },
  {
   "cell_type": "code",
   "execution_count": 1,
   "metadata": {},
   "outputs": [],
   "source": [
    "from typing import List\n",
    "\n",
    "\n",
    "class Solution:\n",
    "    def kthLargestValue(self, matrix: List[List[int]], k: int) ->int:\n",
    "        \n",
    "        return -1"
   ]
  }
 ],
 "metadata": {
  "kernelspec": {
   "display_name": "base",
   "language": "python",
   "name": "python3"
  },
  "language_info": {
   "codemirror_mode": {
    "name": "ipython",
    "version": 3
   },
   "file_extension": ".py",
   "mimetype": "text/x-python",
   "name": "python",
   "nbconvert_exporter": "python",
   "pygments_lexer": "ipython3",
   "version": "3.10.10"
  }
 },
 "nbformat": 4,
 "nbformat_minor": 2
}
