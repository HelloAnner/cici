{
 "cells": [
  {
   "cell_type": "markdown",
   "metadata": {},
   "source": [
    "给你一个整数数组 nums，返回 数组 answer ，其中 answer[i] 等于 nums 中除 nums[i] 之外其余各元素的乘积 。\n",
    "\n",
    "题目数据 保证 数组 nums之中任意元素的全部前缀元素和后缀的乘积都在  32 位 整数范围内。\n",
    "\n",
    "请 不要使用除法，且在 O(n) 时间复杂度内完成此题。\n",
    "\n",
    "示例 1:\n",
    "\n",
    "输入: nums = [1,2,3,4]\n",
    "输出: [24,12,8,6]"
   ]
  },
  {
   "cell_type": "markdown",
   "metadata": {},
   "source": [
    "维护一个左右前缀和数组"
   ]
  },
  {
   "cell_type": "code",
   "execution_count": null,
   "metadata": {},
   "outputs": [],
   "source": [
    "from typing import List\n",
    "\n",
    "\n",
    "class Solution:\n",
    "    def productExceptSelf(self, nums: List[int]) -> List[int]:\n",
    "        length = len(nums)\n",
    "        L, R, ans = [0] * length, [0] * length, [0] * length\n",
    "\n",
    "        L[0] = 1\n",
    "        for i in range(1, length):\n",
    "            L[i] = nums[i - 1] * L[i - 1]\n",
    "\n",
    "        R[length - 1] = 1\n",
    "        for i in reversed(range(length - 1)):\n",
    "            R[i] = nums[i + 1] * R[i + 1]\n",
    "\n",
    "        for i in range(length):\n",
    "            ans[i] = L[i] * R[i]\n",
    "            \n",
    "        return ans"
   ]
  }
 ],
 "metadata": {
  "language_info": {
   "name": "python"
  }
 },
 "nbformat": 4,
 "nbformat_minor": 2
}
