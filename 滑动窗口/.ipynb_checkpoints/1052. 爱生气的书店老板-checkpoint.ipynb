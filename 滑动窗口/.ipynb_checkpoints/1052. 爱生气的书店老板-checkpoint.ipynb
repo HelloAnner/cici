{
 "cells": [
  {
   "cell_type": "markdown",
   "metadata": {},
   "source": [
    "有一个书店老板，他的书店开了 n 分钟。每分钟都有一些顾客进入这家商店。给定一个长度为 n 的整数数组 customers ，其中 customers[i] 是在第 i 分钟开始时进入商店的顾客数量，所有这些顾客在第 i 分钟结束后离开。\n",
    "\n",
    "在某些时候，书店老板会生气。 如果书店老板在第 i 分钟生气，那么 grumpy[i] = 1，否则 grumpy[i] = 0。\n",
    "\n",
    "当书店老板生气时，那一分钟的顾客就会不满意，若老板不生气则顾客是满意的。\n",
    "\n",
    "书店老板知道一个秘密技巧，能抑制自己的情绪，可以让自己连续 minutes 分钟不生气，但却只能使用一次。\n",
    "\n",
    "请你返回 这一天营业下来，最多有多少客户能够感到满意 。"
   ]
  },
  {
   "cell_type": "markdown",
   "metadata": {},
   "source": [
    "1. 老板不生气时的顾客数量之和 s0。这些顾客可以感到满意。\n",
    "2. 长度为 minutes 的连续子数组中，老板生气时的顾客数量之和 s1 的最大值。这些顾客可以感到满意。\n",
    "\n",
    "第二个问题可以使用定长滑动窗口解决 ，属于是定长滑动窗口求取最大值， 直接维护一下就可以"
   ]
  },
  {
   "cell_type": "code",
   "execution_count": 1,
   "metadata": {},
   "outputs": [],
   "source": [
    "from typing import List\n",
    "\n",
    "\n",
    "class Solution:\n",
    "    def maxSatisfied(\n",
    "        self, customers: List[int], grumpy: List[int], minutes: int\n",
    "    ) -> int:\n",
    "        s = [0, 0]\n",
    "        max_s1 = 0\n",
    "        \n",
    "        # 合并两个关联的集合 ， 时间是一起推进的\n",
    "        for i, (c, g) in enumerate(zip(customers, grumpy)):\n",
    "            # 一行完成了 s[0] 和 s[1] 的更新\n",
    "            s[g] += c\n",
    "            if i < minutes - 1:\n",
    "                continue\n",
    "            max_s1 = max(max_s1, s[1])\n",
    "            if grumpy[i - minutes + 1]:\n",
    "                s[1] -= customers[i - minutes + 1]\n",
    "        return s[0] + max_s1"
   ]
  }
 ],
 "metadata": {
  "kernelspec": {
   "display_name": "Python 3 (ipykernel)",
   "language": "python",
   "name": "python3"
  },
  "language_info": {
   "codemirror_mode": {
    "name": "ipython",
    "version": 3
   },
   "file_extension": ".py",
   "mimetype": "text/x-python",
   "name": "python",
   "nbconvert_exporter": "python",
   "pygments_lexer": "ipython3",
   "version": "3.12.2"
  }
 },
 "nbformat": 4,
 "nbformat_minor": 4
}
