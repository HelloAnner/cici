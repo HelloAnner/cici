{
 "cells": [
  {
   "cell_type": "markdown",
   "id": "cb736e988aeb5d40",
   "metadata": {
    "collapsed": false
   },
   "source": [
    "给定两个字符串 s 和 p，找到 s 中所有 p 的 异位词 的子串，返回这些子串的起始索引。不考虑答案输出的顺序。\n",
    "\n",
    "异位词 指由相同字母重排列形成的字符串（包括相同的字符串）。"
   ]
  },
  {
   "cell_type": "code",
   "execution_count": null,
   "id": "initial_id",
   "metadata": {
    "collapsed": true
   },
   "outputs": [],
   "source": [
    "from collections import defaultdict\n",
    "from typing import List\n",
    "\n",
    "\n",
    "class Solution:\n",
    "    def findAnagrams(self, s: str, p: str) -> List[int]:\n",
    "        need ,windows = defaultdict(int),defaultdict(int)\n",
    "        for c in p:\n",
    "            need[c]+=1\n",
    "        left,right = 0,0\n",
    "        valid = 0\n",
    "        \n",
    "        # 这里是记录起始索引\n",
    "        res = []\n",
    "        \n",
    "        while right < len(s):\n",
    "            c=s[right]\n",
    "            right+=1\n",
    "            \n",
    "            if c in need:\n",
    "                windows[c] +=1\n",
    "                if windows[c] == need[c]:\n",
    "                    valid+=1\n",
    "            \n",
    "            while right - left >= len(p):\n",
    "                if valid == len(need):\n",
    "                    res.append(left)\n",
    "                d = s[left]\n",
    "                left+=1\n",
    "                if d in need:\n",
    "                    if windows[d] == need[d]:\n",
    "                        valid -=1\n",
    "                    windows[d] -=1\n",
    "                        \n",
    "        return res"
   ]
  }
 ],
 "metadata": {
  "kernelspec": {
   "display_name": "Python 3",
   "language": "python",
   "name": "python3"
  },
  "language_info": {
   "codemirror_mode": {
    "name": "ipython",
    "version": 2
   },
   "file_extension": ".py",
   "mimetype": "text/x-python",
   "name": "python",
   "nbconvert_exporter": "python",
   "pygments_lexer": "ipython2",
   "version": "2.7.6"
  }
 },
 "nbformat": 4,
 "nbformat_minor": 5
}
