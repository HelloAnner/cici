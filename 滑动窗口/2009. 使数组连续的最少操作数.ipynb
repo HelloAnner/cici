{
 "cells": [
  {
   "cell_type": "markdown",
   "metadata": {},
   "source": [
    "给你一个整数数组 nums 。每一次操作中，你可以将 nums 中 任意 一个元素替换成 任意 整数。\n",
    "\n",
    "如果 nums 满足以下条件，那么它是 连续的 ：\n",
    "\n",
    "nums 中所有元素都是 互不相同 的。\n",
    "nums 中 最大 元素与 最小 元素的差等于 nums.length - 1 。\n",
    "比方说，nums = [4, 2, 5, 3] 是 连续的 ，但是 nums = [1, 2, 3, 5, 6] 不是连续的 。\n",
    "\n",
    "请你返回使 nums 连续 的 最少 操作次数。"
   ]
  },
  {
   "cell_type": "markdown",
   "metadata": {},
   "source": [
    "示例 1：\n",
    "\n",
    "输入：nums = [4,2,5,3]\n",
    "输出：0\n",
    "解释：nums 已经是连续的了。\n",
    "示例 2：\n",
    "\n",
    "输入：nums = [1,2,3,5,6]\n",
    "输出：1\n",
    "解释：一个可能的解是将最后一个元素变为 4 。\n",
    "结果数组为 [1,2,3,5,4] ，是连续数组。\n",
    "示例 3：\n",
    "\n",
    "输入：nums = [1,10,100,1000]\n",
    "输出：3\n",
    "解释：一个可能的解是：\n",
    "- 将第二个元素变为 2 。\n",
    "- 将第三个元素变为 3 。\n",
    "- 将第四个元素变为 4 。\n",
    "结果数组为 [1,2,3,4] ，是连续数组。\n",
    " \n",
    "\n",
    "提示：\n",
    "\n",
    "1 <= nums.length <= 105\n",
    "1 <= nums[i] <= 109"
   ]
  },
  {
   "cell_type": "markdown",
   "metadata": {},
   "source": [
    "![alt text](image.png)"
   ]
  },
  {
   "cell_type": "code",
   "execution_count": null,
   "metadata": {},
   "outputs": [],
   "source": [
    "from typing import List\n",
    "\n",
    "class Solution:\n",
    "    def minOperations(self, nums: List[int]) -> int:\n",
    "        n = len(nums)\n",
    "        a = sorted(set(nums))\n",
    "        ans = left = 0\n",
    "        for i,x in enumerate(a):\n",
    "            while a[left] < x - n + 1:\n",
    "                left += 1\n",
    "            ans = max(ans,i-left+1)\n",
    "        \n",
    "        return n - ans"
   ]
  }
 ],
 "metadata": {
  "language_info": {
   "name": "python"
  }
 },
 "nbformat": 4,
 "nbformat_minor": 2
}
