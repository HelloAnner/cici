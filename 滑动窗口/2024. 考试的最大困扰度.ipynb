{
 "cells": [
  {
   "cell_type": "markdown",
   "metadata": {},
   "source": [
    "一位老师正在出一场由 n 道判断题构成的考试，每道题的答案为 true （用 'T' 表示）或者 false （用 'F' 表示）。老师想增加学生对自己做出答案的不确定性，方法是 最大化 有 连续相同 结果的题数。（也就是连续出现 true 或者连续出现 false）。\n",
    "\n",
    "给你一个字符串 answerKey ，其中 answerKey[i] 是第 i 个问题的正确结果。除此以外，还给你一个整数 k ，表示你能进行以下操作的最多次数：\n",
    "\n",
    "每次操作中，将问题的正确答案改为 'T' 或者 'F' （也就是将 answerKey[i] 改为 'T' 或者 'F' ）。\n",
    "请你返回在不超过 k 次操作的情况下，最大 连续 'T' 或者 'F' 的数目。\n",
    "\n",
    "示例 1：\n",
    "\n",
    "输入：answerKey = \"TTFF\", k = 2\n",
    "输出：4\n",
    "解释：我们可以将两个 'F' 都变为 'T' ，得到 answerKey = \"TTTT\" 。\n",
    "总共有四个连续的 'T' 。\n"
   ]
  },
  {
   "cell_type": "code",
   "execution_count": null,
   "metadata": {},
   "outputs": [],
   "source": [
    "from collections import defaultdict\n",
    "\n",
    "\n",
    "class Solution:\n",
    "    def maxConsecutiveAnswers(self, answerKey: str, k: int) -> int:\n",
    "        ans = left = 0\n",
    "        cnt = defaultdict(int)\n",
    "        for right, ch in enumerate(answerKey):\n",
    "            cnt[ch] += 1\n",
    "            while cnt[\"T\"] > k and cnt[\"F\"] > k:\n",
    "                cnt[answerKey[left]] -= 1\n",
    "                left += 1\n",
    "            ans = max(ans, right - left + 1)\n",
    "\n",
    "        return ans"
   ]
  }
 ],
 "metadata": {
  "language_info": {
   "name": "python"
  }
 },
 "nbformat": 4,
 "nbformat_minor": 2
}
