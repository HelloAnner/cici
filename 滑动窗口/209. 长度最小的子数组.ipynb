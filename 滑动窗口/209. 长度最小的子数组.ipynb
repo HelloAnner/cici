{
 "cells": [
  {
   "cell_type": "markdown",
   "metadata": {},
   "source": [
    "给定一个含有 n 个正整数的数组和一个正整数 target 。\n",
    "\n",
    "找出该数组中满足其总和大于等于 target 的长度最小的 \n",
    "子数组\n",
    " [numsl, numsl+1, ..., numsr-1, numsr] ，并返回其长度。如果不存在符合条件的子数组，返回 0 。\n",
    "\n",
    "输入：target = 7, nums = [2,3,1,2,4,3]\n",
    "输出：2\n",
    "解释：子数组 [4,3] 是该条件下的长度最小的子数组。"
   ]
  },
  {
   "cell_type": "code",
   "execution_count": null,
   "metadata": {},
   "outputs": [],
   "source": [
    "from typing import List\n",
    "\n",
    "\n",
    "class Solution:\n",
    "    def minSubArrayLen(self, target: int, nums: List[int]) -> int:\n",
    "        n = len(nums)\n",
    "        ans = n + 1  # inf\n",
    "        s = left = 0\n",
    "        for right, x in enumerate(nums):\n",
    "            s += x\n",
    "            while s  >= target:\n",
    "                ans = min(ans, right - left + 1)\n",
    "                s -= nums[left]\n",
    "                left += 1\n",
    "        return ans if ans <= n else 0"
   ]
  }
 ],
 "metadata": {
  "language_info": {
   "name": "python"
  }
 },
 "nbformat": 4,
 "nbformat_minor": 2
}
