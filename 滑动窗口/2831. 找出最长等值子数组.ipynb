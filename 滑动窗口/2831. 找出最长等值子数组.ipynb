{
 "cells": [
  {
   "cell_type": "markdown",
   "metadata": {},
   "source": [
    "给你一个下标从 0 开始的整数数组 nums 和一个整数 k 。\n",
    "\n",
    "如果子数组中所有元素都相等，则认为子数组是一个 等值子数组 。注意，空数组是 等值子数组 。\n",
    "\n",
    "从 nums 中删除最多 k 个元素后，返回可能的最长等值子数组的长度。\n",
    "\n",
    "子数组 是数组中一个连续且可能为空的元素序列。\n",
    "\n",
    "示例 1：\n",
    "\n",
    "输入：nums = [1,3,2,3,1,3], k = 3\n",
    "输出：3\n",
    "解释：最优的方案是删除下标 2 和下标 4 的元素。\n",
    "删除后，nums 等于 [1, 3, 3, 3] 。\n",
    "最长等值子数组从 i = 1 开始到 j = 3 结束，长度等于 3 。\n",
    "可以证明无法创建更长的等值子数组。"
   ]
  },
  {
   "cell_type": "code",
   "execution_count": null,
   "metadata": {},
   "outputs": [],
   "source": [
    "from collections import defaultdict\n",
    "from typing import List\n",
    "\n",
    "\n",
    "class Solution:\n",
    "    def longestEqualSubarray(self, nums: List[int], k: int) -> int:\n",
    "        pos = defaultdict(list)\n",
    "        for i, num in enumerate(nums):\n",
    "            pos[num].append(i)\n",
    "\n",
    "        ans = 0\n",
    "        for vec in pos.values():\n",
    "            j = 0\n",
    "            for i in range(len(vec)):\n",
    "                # 缩小窗口，直到不同元素数量小于等于 k \n",
    "                while vec[i] - vec[j] - (i - j) > k:\n",
    "                    j += 1\n",
    "                ans = max(ans, i - j + 1)\n",
    "\n",
    "        return ans"
   ]
  }
 ],
 "metadata": {
  "language_info": {
   "name": "python"
  }
 },
 "nbformat": 4,
 "nbformat_minor": 2
}
