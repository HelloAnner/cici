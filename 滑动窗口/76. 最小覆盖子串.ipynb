{
 "cells": [
  {
   "cell_type": "markdown",
   "source": [
    "给你一个字符串 s 、一个字符串 t 。返回 s 中涵盖 t 所有字符的最小子串。如果 s 中不存在涵盖 t 所有字符的子串，则返回空字符串 \"\" 。\n",
    "\n",
    "注意：\n",
    "对于 t 中重复字符，我们寻找的子字符串中该字符数量必须不少于 t 中该字符数量。\n",
    "如果 s 中存在这样的子串，我们保证它是唯一的答案。"
   ],
   "metadata": {
    "collapsed": false
   },
   "id": "ddb3e0fa7345deaa"
  },
  {
   "cell_type": "code",
   "execution_count": null,
   "id": "initial_id",
   "metadata": {
    "collapsed": true
   },
   "outputs": [],
   "source": [
    "class Solution:\n",
    "    def minWindow(self, s: str, t: str) -> str:\n",
    "        return \"\""
   ]
  }
 ],
 "metadata": {
  "kernelspec": {
   "display_name": "Python 3",
   "language": "python",
   "name": "python3"
  },
  "language_info": {
   "codemirror_mode": {
    "name": "ipython",
    "version": 2
   },
   "file_extension": ".py",
   "mimetype": "text/x-python",
   "name": "python",
   "nbconvert_exporter": "python",
   "pygments_lexer": "ipython2",
   "version": "2.7.6"
  }
 },
 "nbformat": 4,
 "nbformat_minor": 5
}
