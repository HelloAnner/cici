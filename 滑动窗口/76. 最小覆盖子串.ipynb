{
 "cells": [
  {
   "cell_type": "markdown",
   "id": "ddb3e0fa7345deaa",
   "metadata": {
    "collapsed": false
   },
   "source": [
    "给你一个字符串 s 、一个字符串 t 。返回 s 中涵盖 t 所有字符的最小子串。如果 s 中不存在涵盖 t 所有字符的子串，则返回空字符串 \"\" 。\n",
    "\n",
    "注意：\n",
    "对于 t 中重复字符，我们寻找的子字符串中该字符数量必须不少于 t 中该字符数量。\n",
    "如果 s 中存在这样的子串，我们保证它是唯一的答案。"
   ]
  },
  {
   "cell_type": "markdown",
   "id": "f94b5b18",
   "metadata": {},
   "source": [
    "找到可行解，优化到最优解"
   ]
  },
  {
   "cell_type": "code",
   "execution_count": null,
   "id": "initial_id",
   "metadata": {
    "collapsed": true,
    "jupyter": {
     "outputs_hidden": true
    }
   },
   "outputs": [],
   "source": [
    "from collections import defaultdict\n",
    "\n",
    "\n",
    "class Solution:\n",
    "    def minWindow(self, s: str, t: str) -> str:\n",
    "        need, windows = defaultdict(int), defaultdict(int)\n",
    "        for c in t:\n",
    "            need[c] += 1\n",
    "\n",
    "        left, right = 0, 0\n",
    "        valid = 0\n",
    "\n",
    "        # 这里是需要记录窗口长度\n",
    "        start, length = 0, float(\"inf\")\n",
    "        while right < len(s):\n",
    "            c = s[right]\n",
    "            right += 1\n",
    "\n",
    "            # 更新窗口数据\n",
    "            if c in need:\n",
    "                windows[c] += 1\n",
    "                if windows[c] == need[c]:\n",
    "                    valid += 1\n",
    "\n",
    "            while valid == len(need):\n",
    "                if right - left < length:\n",
    "                    start = left\n",
    "                    length = right - left\n",
    "\n",
    "                d = s[left]\n",
    "                left += 1\n",
    "                if d in need:\n",
    "                    if windows[d] == need[d]:\n",
    "                        valid -= 1\n",
    "                    windows[d] -= 1\n",
    "\n",
    "        return \"\" if length == float(\"inf\") else s[start: start + length]"
   ]
  }
 ],
 "metadata": {
  "kernelspec": {
   "display_name": "Python 3 (ipykernel)",
   "language": "python",
   "name": "python3"
  },
  "language_info": {
   "codemirror_mode": {
    "name": "ipython",
    "version": 3
   },
   "file_extension": ".py",
   "mimetype": "text/x-python",
   "name": "python",
   "nbconvert_exporter": "python",
   "pygments_lexer": "ipython3",
   "version": "3.12.2"
  }
 },
 "nbformat": 4,
 "nbformat_minor": 5
}
