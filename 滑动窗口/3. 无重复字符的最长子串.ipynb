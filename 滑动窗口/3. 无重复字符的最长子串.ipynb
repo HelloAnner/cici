{
 "cells": [
  {
   "cell_type": "markdown",
   "metadata": {},
   "source": [
    "给定一个字符串 s ，请你找出其中不含有重复字符的 最长子串的长度。"
   ]
  },
  {
   "cell_type": "code",
   "execution_count": null,
   "metadata": {},
   "outputs": [],
   "source": [
    "class Solution:\n",
    "    def lengthOfLongestSubstring(self, s: str) -> int:\n",
    "        rk, ans = -1, 0\n",
    "        occ = set()\n",
    "        n = len(s)\n",
    "\n",
    "        for left in range(n):\n",
    "            if left != 0:\n",
    "                occ.remove(s[left - 1])\n",
    "            while rk + 1 < n and s[rk + 1] not in occ:\n",
    "                occ.add(s[rk + 1])\n",
    "                rk += 1\n",
    "            ans = max(ans, rk - left + 1)\n",
    "        \n",
    "        return ans"
   ]
  }
 ],
 "metadata": {
  "language_info": {
   "name": "python"
  }
 },
 "nbformat": 4,
 "nbformat_minor": 2
}
