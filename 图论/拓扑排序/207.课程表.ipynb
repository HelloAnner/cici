{
 "cells": [
  {
   "cell_type": "markdown",
   "metadata": {},
   "source": [
    "你这个学期必须选修 numCourses 门课程，记为 0 到 numCourses - 1 。\n",
    "\n",
    "在选修某些课程之前需要一些先修课程。 先修课程按数组 prerequisites 给出，其中 prerequisites[i] = [ai, bi] ，表示如果要学习课程 ai 则 必须 先学习课程  bi 。\n",
    "\n",
    "例如，先修课程对 [0, 1] 表示：想要学习课程 0 ，你需要先完成课程 1 。\n",
    "请你判断是否可能完成所有课程的学习？如果可以，返回 true ；否则，返回 false 。\n",
    "\n",
    "输入：numCourses = 2, prerequisites = [[1,0]]\n",
    "输出：true\n",
    "解释：总共有 2 门课程。学习课程 1 之前，你需要完成课程 0 。这是可能的。"
   ]
  },
  {
   "cell_type": "code",
   "execution_count": null,
   "metadata": {},
   "outputs": [],
   "source": [
    "from collections import deque\n",
    "from typing import List\n",
    "\n",
    "\n",
    "class Solution:\n",
    "    def canFinish(self, numCourses: int, prerequisites: List[List[int]]) -> bool:\n",
    "        indegrees = [0 for _ in range(numCourses)]\n",
    "        adjacency = [[] for _ in range(numCourses)]\n",
    "        queue = deque()\n",
    "        # Get the indegree and adjacency of every course.\n",
    "        for cur, pre in prerequisites:\n",
    "            indegrees[cur] += 1\n",
    "            adjacency[pre].append(cur)\n",
    "        # Get all the courses with the indegree of 0.\n",
    "        for i in range(len(indegrees)):\n",
    "            if not indegrees[i]:\n",
    "                queue.append(i)\n",
    "        # BFS TopSort.\n",
    "        while queue:\n",
    "            pre = queue.popleft()\n",
    "            numCourses -= 1\n",
    "            for cur in adjacency[pre]:\n",
    "                indegrees[cur] -= 1\n",
    "                if not indegrees[cur]:\n",
    "                    queue.append(cur)\n",
    "        return not numCourses"
   ]
  },
  {
   "cell_type": "code",
   "execution_count": null,
   "metadata": {},
   "outputs": [],
   "source": [
    "class Solution:\n",
    "    def canFinish(self, numCourses: int, prerequisites: List[List[int]]) -> bool:\n",
    "        def dfs(i, adjacency, flags):\n",
    "            if flags[i] == -1:\n",
    "                return True\n",
    "            if flags[i] == 1:\n",
    "                return False\n",
    "            flags[i] = 1\n",
    "            for j in adjacency[i]:\n",
    "                if not dfs(j, adjacency, flags):\n",
    "                    return False\n",
    "            flags[i] = -1\n",
    "            return True\n",
    "\n",
    "        adjacency = [[] for _ in range(numCourses)]\n",
    "        flags = [0 for _ in range(numCourses)]\n",
    "        for cur, pre in prerequisites:\n",
    "            adjacency[pre].append(cur)\n",
    "        for i in range(numCourses):\n",
    "            if not dfs(i, adjacency, flags):\n",
    "                return False\n",
    "        return True"
   ]
  }
 ],
 "metadata": {
  "language_info": {
   "name": "python"
  }
 },
 "nbformat": 4,
 "nbformat_minor": 2
}
