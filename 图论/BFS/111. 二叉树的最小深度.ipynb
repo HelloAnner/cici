{
 "cells": [
  {
   "cell_type": "markdown",
   "id": "e775f0028de3db8c",
   "metadata": {
    "collapsed": false
   },
   "source": [
    "给定一个二叉树，找出其最小深度。\n",
    "\n",
    "最小深度是从根节点到最近叶子节点的最短路径上的节点数量。\n",
    "\n",
    "说明：叶子节点是指没有子节点的节点。"
   ]
  },
  {
   "cell_type": "markdown",
   "id": "1e56181f330dde0c",
   "metadata": {
    "collapsed": false
   },
   "source": [
    "![](images/2024-04-15-1.png)"
   ]
  },
  {
   "cell_type": "code",
   "execution_count": null,
   "id": "initial_id",
   "metadata": {
    "collapsed": true
   },
   "outputs": [],
   "source": [
    "from collections import deque\n",
    "from typing import Optional\n",
    "\n",
    "\n",
    "# Definition for a binary tree node.\n",
    "class TreeNode:\n",
    "    def __init__(self, val=0, left=None, right=None):\n",
    "        self.val = val\n",
    "        self.left = left\n",
    "        self.right = right\n",
    "\n",
    "\n",
    "class Solution:\n",
    "    def minDepth(self, root: Optional[TreeNode]) -> int:\n",
    "        if root is None:\n",
    "            return 0\n",
    "        queue = deque()\n",
    "        queue.append(root)\n",
    "        depth = 1\n",
    "\n",
    "        while queue:\n",
    "            current_size = len(queue)\n",
    "            for i in range(current_size):\n",
    "                cur = queue.popleft()\n",
    "                if not cur.left and not cur.right:\n",
    "                    return depth\n",
    "                if cur.left:\n",
    "                    queue.append(cur.left)\n",
    "                if cur.right:\n",
    "                    queue.append(cur.right)\n",
    "            depth += 1\n",
    "        return depth"
   ]
  }
 ],
 "metadata": {
  "kernelspec": {
   "display_name": "Python 3",
   "language": "python",
   "name": "python3"
  },
  "language_info": {
   "codemirror_mode": {
    "name": "ipython",
    "version": 2
   },
   "file_extension": ".py",
   "mimetype": "text/x-python",
   "name": "python",
   "nbconvert_exporter": "python",
   "pygments_lexer": "ipython2",
   "version": "2.7.6"
  }
 },
 "nbformat": 4,
 "nbformat_minor": 5
}
