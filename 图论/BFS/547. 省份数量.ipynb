{
 "cells": [
  {
   "cell_type": "markdown",
   "metadata": {},
   "source": [
    "有 n 个城市，其中一些彼此相连，另一些没有相连。如果城市 a 与城市 b 直接相连，且城市 b 与城市 c 直接相连，那么城市 a 与城市 c 间接相连。\n",
    "\n",
    "省份 是一组直接或间接相连的城市，组内不含其他没有相连的城市。\n",
    "\n",
    "给你一个 n x n 的矩阵 isConnected ，其中 isConnected[i][j] = 1 表示第 i 个城市和第 j 个城市直接相连，而 isConnected[i][j] = 0 表示二者不直接相连。\n",
    "\n",
    "返回矩阵中 省份 的数量。"
   ]
  },
  {
   "cell_type": "code",
   "execution_count": null,
   "metadata": {},
   "outputs": [],
   "source": [
    "from collections import deque\n",
    "from typing import List\n",
    "\n",
    "\n",
    "class Solution:\n",
    "    def findCircleNum(self, isConnected: List[List[int]]) -> int:\n",
    "        cities = len(isConnected)\n",
    "        visited = set()\n",
    "        provinces = 0\n",
    "        \n",
    "        for i in range(cities):\n",
    "            if i not in visited:\n",
    "                Q = deque([i])\n",
    "                while Q:\n",
    "                    j = Q.popleft()\n",
    "                    visited.add(j)\n",
    "                    for k in range(cities):\n",
    "                        if isConnected[j][k] == 1  and  k not in visited:\n",
    "                            Q.append(k)\n",
    "                provinces+=1\n",
    "\n",
    "        return provinces"
   ]
  }
 ],
 "metadata": {
  "language_info": {
   "name": "python"
  }
 },
 "nbformat": 4,
 "nbformat_minor": 2
}
