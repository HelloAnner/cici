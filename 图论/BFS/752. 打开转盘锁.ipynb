{
 "cells": [
  {
   "cell_type": "markdown",
   "source": [
    "你有一个带有四个圆形拨轮的转盘锁。每个拨轮都有10个数字： '0', '1', '2', '3', '4', '5', '6', '7', '8', '9' 。每个拨轮可以自由旋转：例如把 '9' 变为 '0'，'0' 变为 '9' 。每次旋转都只能旋转一个拨轮的一位数字。\n",
    "\n",
    "锁的初始数字为 '0000' ，一个代表四个拨轮的数字的字符串。\n",
    "\n",
    "列表 deadends 包含了一组死亡数字，一旦拨轮的数字和列表里的任何一个元素相同，这个锁将会被永久锁定，无法再被旋转。\n",
    "\n",
    "字符串 target 代表可以解锁的数字，你需要给出解锁需要的最小旋转次数，如果无论如何不能解锁，返回 -1 。\n",
    "\n"
   ],
   "metadata": {
    "collapsed": false
   },
   "id": "2fdd1f7dcd0c951d"
  },
  {
   "cell_type": "code",
   "outputs": [],
   "source": [
    "\n",
    "from collections import deque\n",
    "from typing import List\n",
    "\n",
    "\n",
    "def plus_one(s, i) -> str:\n",
    "    s_list = list(s)\n",
    "    if s_list[i] == '9':\n",
    "        s_list[i] = '0'\n",
    "    else:\n",
    "        s_list[i] += str(int(s_list[i]) + 1)\n",
    "    return ''.join(s_list)\n",
    "\n",
    "\n",
    "def minus_one(s, i) -> str:\n",
    "    s_list = list(s)\n",
    "    if s_list[i] == '0':\n",
    "        s_list[i] = '9'\n",
    "    else:\n",
    "        s_list[i] += str(int(s_list[i]) - 1)\n",
    "    return ''.join(s_list)\n",
    "\n",
    "\n",
    "class Solution:\n",
    "    def openLock(self, deadends: List[str], target: str) -> int:\n",
    "        queue = deque()\n",
    "        queue.append(\"0000\")\n",
    "        steps = 0\n",
    "\n",
    "        visited = set()\n",
    "        visited.add(\"0000\")\n",
    "        while queue:\n",
    "            current_size = len(queue)\n",
    "            for i in range(current_size):\n",
    "                cur = queue.popleft()\n",
    "\n",
    "                if cur in deadends:\n",
    "                    continue\n",
    "\n",
    "                if cur == target:\n",
    "                    return steps\n",
    "\n",
    "                for j in range(4):\n",
    "                    up = plus_one(cur, j)\n",
    "\n",
    "                    if up not in visited:\n",
    "                        visited.add(up)\n",
    "                        queue.append(up)\n",
    "\n",
    "                    down = minus_one(cur, j)\n",
    "\n",
    "                    if down not in visited:\n",
    "                        visited.add(down)\n",
    "                        queue.append(down)\n",
    "\n",
    "            steps += 1\n",
    "        return -1\n"
   ],
   "metadata": {
    "collapsed": false
   },
   "id": "a98134193ade4d7a"
  }
 ],
 "metadata": {
  "kernelspec": {
   "display_name": "Python 3",
   "language": "python",
   "name": "python3"
  },
  "language_info": {
   "codemirror_mode": {
    "name": "ipython",
    "version": 2
   },
   "file_extension": ".py",
   "mimetype": "text/x-python",
   "name": "python",
   "nbconvert_exporter": "python",
   "pygments_lexer": "ipython2",
   "version": "2.7.6"
  }
 },
 "nbformat": 4,
 "nbformat_minor": 5
}
