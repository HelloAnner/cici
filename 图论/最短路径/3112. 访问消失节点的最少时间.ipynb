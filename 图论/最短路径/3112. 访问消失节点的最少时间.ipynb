{
 "cells": [
  {
   "cell_type": "markdown",
   "metadata": {},
   "source": [
    "给你一个二维数组 edges 表示一个 n 个点的无向图，其中 edges[i] = [ui, vi, lengthi] 表示节点 ui 和节点 vi 之间有一条需要 lengthi 单位时间通过的无向边。\n",
    "\n",
    "同时给你一个数组 disappear ，其中 disappear[i] 表示节点 i 从图中消失的时间点，在那一刻及以后，你无法再访问这个节点。\n",
    "\n",
    "注意，图有可能一开始是不连通的，两个节点之间也可能有多条边。\n",
    "\n",
    "请你返回数组 answer ，answer[i] 表示从节点 0 到节点 i 需要的 最少 单位时间。如果从节点 0 出发 无法 到达节点 i ，那么 answer[i] 为 -1 。\n",
    "\n"
   ]
  },
  {
   "cell_type": "markdown",
   "metadata": {},
   "source": [
    "对于本题，answer 几乎就是 dis 数组。只需要在 Dijkstra 算法的过程中，添加一个判断：\n",
    "\n",
    "在更新最短路之前，如果最短路长度 ≥disappear[i]，说明无法及时到达节点 i，不更新。"
   ]
  },
  {
   "cell_type": "markdown",
   "metadata": {},
   "source": [
    "问：我是这样做的，先不管 disappear，用 Dijkstra 算法模板求出 dis 数组，然后把其中 dis[i]≥disappear[i] 的 dis[i] 改成 −1。这个做法是否正确？\n",
    "\n",
    "答：这个做法是错的。考虑这样的数据：离节点 0 近的节点 x，其 disappear[x] 很小；离节点 0 远的节点 y，其 disappear[y] 很大。由于 disappear[x] 很小，我们无法通过节点 x，所以远处的节点 y 实际上也无法到达。但错误做法会因为 dis[y]<disappear[y]，误认为节点 y 可以到达，最终返回错误的答案。"
   ]
  },
  {
   "cell_type": "code",
   "execution_count": null,
   "metadata": {},
   "outputs": [],
   "source": [
    "from heapq import heappop, heappush\n",
    "from typing import List\n",
    "\n",
    "\n",
    "class Solution:\n",
    "    def minimumTime(\n",
    "        self, n: int, edges: List[List[int]], disappear: List[int]\n",
    "    ) -> List[int]:\n",
    "        g = [[] for _ in range(n)]  # 稀疏图用邻接表\n",
    "        for x, y, wt in edges:\n",
    "            g[x].append((y, wt))\n",
    "            g[y].append((x, wt))\n",
    "\n",
    "        dis = [-1] * n\n",
    "        dis[0] = 0\n",
    "        h = [(0, 0)]\n",
    "        while h:\n",
    "            dx, x = heappop(h)\n",
    "            if dx > dis[x]:\n",
    "                continue\n",
    "            for y, wt in g[x]:\n",
    "                new_dis = dx + wt\n",
    "                if new_dis < disappear[y] and (dis[y] < 0 or new_dis < dis[y]):\n",
    "                    dis[y] = new_dis\n",
    "                    heappush(h, (new_dis, y))\n",
    "        return dis"
   ]
  }
 ],
 "metadata": {
  "language_info": {
   "name": "python"
  }
 },
 "nbformat": 4,
 "nbformat_minor": 2
}
