{
 "cells": [
  {
   "cell_type": "markdown",
   "metadata": {},
   "source": [
    "炸弹用一个下标从 0 开始的二维整数数组 bombs 表示，其中 bombs[i] = [xi, yi, ri] 。xi 和 yi 表示第 i 个炸弹的 X 和 Y 坐标，ri 表示爆炸范围的 半径 。\n",
    "\n",
    "你需要选择引爆 一个 炸弹。当这个炸弹被引爆时，所有 在它爆炸范围内的炸弹都会被引爆，这些炸弹会进一步将它们爆炸范围内的其他炸弹引爆。\n",
    "\n",
    "给你数组 bombs ，请你返回在引爆 一个 炸弹的前提下，最多 能引爆的炸弹数目。\n",
    "\n",
    "输入：bombs = [[2,1,3],[6,1,4]]\n",
    "输出：2\n",
    "解释：\n",
    "上图展示了 2 个炸弹的位置和爆炸范围。\n",
    "如果我们引爆左边的炸弹，右边的炸弹不会被影响。\n",
    "但如果我们引爆右边的炸弹，两个炸弹都会爆炸。\n",
    "所以最多能引爆的炸弹数目是 max(1, 2) = 2 。\n",
    "\n"
   ]
  },
  {
   "cell_type": "markdown",
   "metadata": {},
   "source": [
    "Floyd 算法可以计算任意两点间的最短路长度。但如果只要求计算任意两点间「能否」到达，则可以用 bool 数组代替 int 数组。进一步地，可以把 bool 数组压缩成 bitset。"
   ]
  },
  {
   "cell_type": "code",
   "execution_count": null,
   "metadata": {},
   "outputs": [],
   "source": [
    "from typing import List\n",
    "\n",
    "\n",
    "class Solution:\n",
    "    def maximumDetonation(self, bombs: List[List[int]]) -> int:\n",
    "        n = len(bombs)\n",
    "        f = [0] * n\n",
    "        for i, (x, y, r) in enumerate(bombs):\n",
    "            for j, (x2, y2, _) in enumerate(bombs):\n",
    "                dx = x - x2\n",
    "                dy = y - y2\n",
    "                if dx * dx + dy * dy <= r * r:\n",
    "                    f[i] |= 1 << j  # i 可以到达 j\n",
    "\n",
    "        for k in range(n):\n",
    "            for i in range(n):\n",
    "                if f[i] >> k & 1:  # i 可以到达 k\n",
    "                    f[i] |= f[k]  # i 也可以到 k 可以到达的点\n",
    "\n",
    "        return max(s.bit_count() for s in f)  # 集合大小的最大值"
   ]
  }
 ],
 "metadata": {
  "language_info": {
   "name": "python"
  }
 },
 "nbformat": 4,
 "nbformat_minor": 2
}
