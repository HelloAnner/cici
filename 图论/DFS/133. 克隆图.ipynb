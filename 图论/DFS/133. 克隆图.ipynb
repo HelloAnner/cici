{
 "cells": [
  {
   "cell_type": "markdown",
   "metadata": {},
   "source": [
    "给你无向 连通 图中一个节点的引用，请你返回该图的 深拷贝（克隆）。\n",
    "\n",
    "图中的每个节点都包含它的值 val（int） 和其邻居的列表（list[Node]）。\n",
    "\n",
    "class Node {\n",
    "    public int val;\n",
    "    public List<Node> neighbors;\n",
    "}"
   ]
  },
  {
   "cell_type": "code",
   "execution_count": null,
   "metadata": {},
   "outputs": [],
   "source": [
    "\n",
    "# Definition for a Node.\n",
    "class Node:\n",
    "    def __init__(self, val = 0, neighbors = None):\n",
    "        self.val = val\n",
    "        self.neighbors = neighbors if neighbors is not None else []\n",
    "\n",
    "from typing import Optional\n",
    "class Solution:\n",
    "    def cloneGraph(self, node: Optional['Node']) -> Optional['Node']:\n",
    "        lookup = {}\n",
    "        \n",
    "        def dfs(node :Node):\n",
    "            if not node:\n",
    "                return\n",
    "            if node in lookup:\n",
    "                return lookup[node]\n",
    "            clone = Node(node.val,[])\n",
    "            lookup[node] = clone\n",
    "            for n in node.neighbors:\n",
    "                clone.neighbors.append(dfs(n))\n",
    "            return clone\n",
    "        \n",
    "        return dfs(node)"
   ]
  },
  {
   "cell_type": "code",
   "execution_count": null,
   "metadata": {},
   "outputs": [],
   "source": [
    "class Solution:\n",
    "    def cloneGraph(self, node: 'Node') -> 'Node':\n",
    "        from collections import deque\n",
    "        lookup = {}\n",
    "\n",
    "        def bfs(node):\n",
    "            if not node: return\n",
    "            clone = Node(node.val, [])\n",
    "            lookup[node] = clone\n",
    "            queue = deque()\n",
    "            queue.appendleft(node)\n",
    "            while queue:\n",
    "                tmp = queue.pop()\n",
    "                for n in tmp.neighbors:\n",
    "                    if n not in lookup:\n",
    "                        lookup[n] = Node(n.val, [])\n",
    "                        queue.appendleft(n)\n",
    "                    lookup[tmp].neighbors.append(lookup[n])\n",
    "            return clone\n",
    "\n",
    "        return bfs(node)"
   ]
  }
 ],
 "metadata": {
  "language_info": {
   "name": "python"
  }
 },
 "nbformat": 4,
 "nbformat_minor": 2
}
