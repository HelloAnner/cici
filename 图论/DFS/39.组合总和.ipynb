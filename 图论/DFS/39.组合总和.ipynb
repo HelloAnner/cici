{
 "cells": [
  {
   "cell_type": "markdown",
   "source": [
    "给你一个 无重复元素 的整数数组 candidates 和一个目标整数 target ，找出 candidates 中可以使数字和为目标数 target 的 所有 不同组合 ，并以列表形式返回。你可以按 任意顺序 返回这些组合。\n",
    "\n",
    "candidates 中的 同一个 数字可以 无限制重复被选取 。如果至少一个数字的被选数量不同，则两种组合是不同的。 \n",
    "\n",
    "对于给定的输入，保证和为 target 的不同组合数少于 150 个。"
   ],
   "metadata": {
    "collapsed": false
   },
   "id": "364a762d1cb524ec"
  },
  {
   "cell_type": "code",
   "outputs": [],
   "source": [
    "from typing import List\n",
    "\n",
    "\n",
    "class Solution:\n",
    "    def combinationSum(self, candidates: List[int], target: int) -> List[List[int]]:\n",
    "        def dfs(candidates, begin, size, path, res, target):\n",
    "            if target < 0:\n",
    "                return\n",
    "            if target == 0:\n",
    "                res.append(path)\n",
    "                return\n",
    "            for index in range(begin, size):\n",
    "                dfs(candidates, begin, size, path + [candidates[index]], res, target)\n",
    "\n",
    "        size = len(candidates)\n",
    "        if size == 0:\n",
    "            return []\n",
    "\n",
    "        path = []\n",
    "        res = []\n",
    "        dfs(candidates, 0, size, path, res, target)\n",
    "\n",
    "        return res\n",
    "\n"
   ],
   "metadata": {
    "collapsed": false
   },
   "id": "845bf7e6c8b35882"
  },
  {
   "cell_type": "markdown",
   "source": [
    "如果题目的内存要求很严格，那么恭喜你，这个最直观的解法是内存超出限制的"
   ],
   "metadata": {
    "collapsed": false
   },
   "id": "c4cbddac8a1c4713"
  },
  {
   "cell_type": "code",
   "outputs": [],
   "source": [
    "from typing import List\n",
    "\n",
    "\n",
    "class Solution:\n",
    "    def combinationSum(self, candidates: List[int], target: int) -> List[List[int]]:\n",
    "        def dfs(candidates, begin, size, path, res, target):\n",
    "            if target == 0:\n",
    "                res.append(path)\n",
    "                return\n",
    "            for index in range(begin, size):\n",
    "                residue = target - candidates[index]\n",
    "                if residue < 0:\n",
    "                    break\n",
    "                dfs(candidates, index, size, path + [candidates[index]], res, residue)\n",
    "\n",
    "        size = len(candidates)\n",
    "        if size == 0:\n",
    "            return []\n",
    "\n",
    "        path = []\n",
    "        res = []\n",
    "        candidates.sort()\n",
    "        dfs(candidates, 0, size, path, res, target)\n",
    "\n",
    "        return res\n",
    "    \n",
    "            "
   ],
   "metadata": {
    "collapsed": false
   },
   "id": "2e5f1c8e773db7cd"
  }
 ],
 "metadata": {
  "kernelspec": {
   "display_name": "Python 3",
   "language": "python",
   "name": "python3"
  },
  "language_info": {
   "codemirror_mode": {
    "name": "ipython",
    "version": 2
   },
   "file_extension": ".py",
   "mimetype": "text/x-python",
   "name": "python",
   "nbconvert_exporter": "python",
   "pygments_lexer": "ipython2",
   "version": "2.7.6"
  }
 },
 "nbformat": 4,
 "nbformat_minor": 5
}
