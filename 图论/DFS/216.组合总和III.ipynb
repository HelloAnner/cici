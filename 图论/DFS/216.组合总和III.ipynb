{
 "cells": [
  {
   "cell_type": "markdown",
   "metadata": {},
   "source": [
    "找出所有相加之和为 n 的 k 个数的组合，且满足下列条件：\n",
    "\n",
    "只使用数字1到9\n",
    "每个数字 最多使用一次 \n",
    "返回 所有可能的有效组合的列表 。该列表不能包含相同的组合两次，组合可以以任何顺序返回。\n",
    "\n",
    "输入: k = 3, n = 7\n",
    "输出: [[1,2,4]]\n",
    "解释:\n",
    "1 + 2 + 4 = 7\n",
    "没有其他符合的组合了。"
   ]
  },
  {
   "cell_type": "code",
   "execution_count": null,
   "metadata": {},
   "outputs": [],
   "source": [
    "from typing import List\n",
    "\n",
    "\n",
    "class Solution:\n",
    "    def combinationSum3(self, k: int, n: int) -> List[List[int]]:\n",
    "        return None"
   ]
  }
 ],
 "metadata": {
  "language_info": {
   "name": "python"
  }
 },
 "nbformat": 4,
 "nbformat_minor": 2
}
