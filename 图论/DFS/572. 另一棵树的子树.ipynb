{
 "cells": [
  {
   "cell_type": "markdown",
   "metadata": {},
   "source": [
    "Given two non-empty binary trees s and t, check whether tree t has exactly the same structure and node values with a subtree of s. A subtree of s is a tree consists of a node in s and all of this node's descendants. The tree s could also be considered as a subtree of itself."
   ]
  },
  {
   "cell_type": "markdown",
   "metadata": {},
   "source": [
    "判断子树肯定是递归判断 "
   ]
  },
  {
   "cell_type": "code",
   "execution_count": null,
   "metadata": {},
   "outputs": [],
   "source": [
    "# Definition for a binary tree node.\n",
    "from typing import Optional\n",
    "\n",
    "\n",
    "class TreeNode:\n",
    "    def __init__(self, val=0, left=None, right=None):\n",
    "        self.val = val\n",
    "        self.left = left\n",
    "        self.right = right\n",
    "\n",
    "\n",
    "class Solution:\n",
    "    def isSubtree(self, root: Optional[TreeNode], subRoot: Optional[TreeNode]) -> bool:\n",
    "\n",
    "        def dfs(s: Optional[TreeNode], t: Optional[TreeNode]) -> bool:\n",
    "            if s is None:\n",
    "                return False\n",
    "            return check(s, t) or dfs(s.left, t) or dfs(s.right, t)\n",
    "\n",
    "        def check(s: Optional[TreeNode], t: Optional[TreeNode]) -> bool:\n",
    "            if s is None and t is None:\n",
    "                return True\n",
    "\n",
    "            if s is None or t is None or s.val != t.val:\n",
    "                return False\n",
    "\n",
    "            return check(s.left, t.left) and check(s.right, t.right)\n",
    "\n",
    "        return dfs(root, subRoot)"
   ]
  }
 ],
 "metadata": {
  "language_info": {
   "name": "python"
  }
 },
 "nbformat": 4,
 "nbformat_minor": 2
}
