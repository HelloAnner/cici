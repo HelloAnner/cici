{
 "cells": [
  {
   "cell_type": "markdown",
   "metadata": {},
   "source": [
    "给你一个有 n 个节点的 有向无环图（DAG），请你找出所有从节点 0 到节点 n-1 的路径并输出（不要求按特定顺序）\n",
    "\n",
    " graph[i] 是一个从节点 i 可以访问的所有节点的列表（即从节点 i 到节点 graph[i][j]存在一条有向边）。\n",
    "\n",
    " ![](images/2024-04-23-07-53-08.png)\n",
    "\n",
    "输入：graph = [[1,2],[3],[3],[]]\n",
    "输出：[[0,1,3],[0,2,3]]\n",
    "解释：有两条路径 0 -> 1 -> 3 和 0 -> 2 -> 3"
   ]
  },
  {
   "cell_type": "markdown",
   "metadata": {},
   "source": [
    "输入的数据结构 ，就是为了方便 dfs 完成的"
   ]
  },
  {
   "cell_type": "code",
   "execution_count": null,
   "metadata": {},
   "outputs": [],
   "source": [
    "from typing import List\n",
    "\n",
    "\n",
    "class Solution:\n",
    "    def allPathsSourceTarget(self, graph: List[List[int]]) -> List[List[int]]:\n",
    "        ans = []\n",
    "        stk = []\n",
    "        \n",
    "        def dfs(x:int):\n",
    "            if x == len(graph) - 1:\n",
    "                ans.append(stk[:])\n",
    "                return\n",
    "            # 回溯\n",
    "            for y in graph[x]:\n",
    "                stk.append(y)\n",
    "                dfs(y)\n",
    "                stk.pop()\n",
    "        \n",
    "        stk.append(0)\n",
    "        dfs(0)\n",
    "        return ans"
   ]
  }
 ],
 "metadata": {
  "language_info": {
   "name": "python"
  }
 },
 "nbformat": 4,
 "nbformat_minor": 2
}
