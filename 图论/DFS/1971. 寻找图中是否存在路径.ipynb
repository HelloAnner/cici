{
 "cells": [
  {
   "cell_type": "markdown",
   "metadata": {},
   "source": [
    "有一个具有 n 个顶点的 双向 图，其中每个顶点标记从 0 到 n - 1（包含 0 和 n - 1）。图中的边用一个二维整数数组 edges 表示，其中 edges[i] = [ui, vi] 表示顶点 ui 和顶点 vi 之间的双向边。 每个顶点对由 最多一条 边连接，并且没有顶点存在与自身相连的边。\n",
    "\n",
    "请你确定是否存在从顶点 source 开始，到顶点 destination 结束的 有效路径 。\n",
    "\n",
    "给你数组 edges 和整数 n、source 和 destination，如果从 source 到 destination 存在 有效路径 ，则返回 true，否则返回 false 。"
   ]
  },
  {
   "cell_type": "code",
   "execution_count": 1,
   "metadata": {},
   "outputs": [],
   "source": [
    "from typing import List\n",
    "\n",
    "\n",
    "class Solution:\n",
    "    def validPath(\n",
    "        self, n: int, edges: List[List[int]], source: int, destination: int\n",
    "    ) -> bool:\n",
    "        adj = [[] for _ in range(n)]\n",
    "        # 路径换一个实现\n",
    "        for edge in edges:\n",
    "            x, y = edge\n",
    "            adj[x].append(y)\n",
    "            adj[y].append(x)\n",
    "        visited = [False] * n\n",
    "\n",
    "        def dfs(cur) -> bool:\n",
    "            if cur == destination:\n",
    "                return True\n",
    "            visited[cur] = True\n",
    "            for index in adj[cur]:\n",
    "                if not visited[index] and dfs(index):\n",
    "                    return True\n",
    "            return False\n",
    "\n",
    "        return dfs(source)"
   ]
  }
 ],
 "metadata": {
  "kernelspec": {
   "display_name": "base",
   "language": "python",
   "name": "python3"
  },
  "language_info": {
   "codemirror_mode": {
    "name": "ipython",
    "version": 3
   },
   "file_extension": ".py",
   "mimetype": "text/x-python",
   "name": "python",
   "nbconvert_exporter": "python",
   "pygments_lexer": "ipython3",
   "version": "3.12.2"
  }
 },
 "nbformat": 4,
 "nbformat_minor": 2
}
