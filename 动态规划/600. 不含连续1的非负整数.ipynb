{
 "cells": [
  {
   "cell_type": "markdown",
   "metadata": {},
   "source": [
    "给定一个正整数 n ，请你统计在 [0, n] 范围的非负整数中，有多少个整数的二进制表示中不存在 连续的 1 。\n"
   ]
  },
  {
   "cell_type": "code",
   "execution_count": null,
   "metadata": {},
   "outputs": [],
   "source": [
    "from functools import cache\n",
    "\n",
    "\n",
    "class Solution:\n",
    "    def findIntegers(self, n: int) -> int:\n",
    "        s = str(bin(n))[2:]\n",
    "\n",
    "        @cache\n",
    "        def f(i: int, pre1: bool, is_limit: bool) -> int:\n",
    "            if i == len(s):\n",
    "                return 1\n",
    "            up = int(s[i]) if is_limit else 1\n",
    "            res = f(i + 1, False, is_limit and up == 0)  # 填 0\n",
    "            if not pre1 and up == 1:  # 可以填 1\n",
    "                res += f(i + 1, True, is_limit)  # 填 1\n",
    "            return res\n",
    "\n",
    "        return f(0, False, True)"
   ]
  }
 ],
 "metadata": {
  "language_info": {
   "name": "python"
  }
 },
 "nbformat": 4,
 "nbformat_minor": 2
}
