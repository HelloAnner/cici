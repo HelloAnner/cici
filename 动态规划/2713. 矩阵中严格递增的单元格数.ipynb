{
 "cells": [
  {
   "cell_type": "markdown",
   "metadata": {},
   "source": [
    "给你一个下标从 1 开始、大小为 m x n 的整数矩阵 mat，你可以选择任一单元格作为 起始单元格 。\n",
    "\n",
    "从起始单元格出发，你可以移动到 同一行或同一列 中的任何其他单元格，但前提是目标单元格的值 严格大于 当前单元格的值。\n",
    "\n",
    "你可以多次重复这一过程，从一个单元格移动到另一个单元格，直到无法再进行任何移动。\n",
    "\n",
    "请你找出从某个单元开始访问矩阵所能访问的 单元格的最大数量 。\n",
    "\n",
    "返回一个表示可访问单元格最大数量的整数。"
   ]
  },
  {
   "cell_type": "code",
   "execution_count": null,
   "metadata": {},
   "outputs": [],
   "source": [
    "from collections import defaultdict\n",
    "from typing import List\n",
    "\n",
    "\n",
    "class Solution:\n",
    "    def maxIncreasingCells(self, mat: List[List[int]]) -> int:\n",
    "        g = defaultdict(list)\n",
    "        for i, row in enumerate(mat):\n",
    "            for j, col in enumerate(row):\n",
    "                g[col].append((i, j))  # 相同元素放到一起统计位置\n",
    "        row_max = [0] * len(mat)\n",
    "        col_max = [0] * len(mat[0])\n",
    "        for _, pos in sorted(g.items(), key=lambda p: p[0]):\n",
    "            mx = [max(row_max[i], col_max[j]) + 1 for i, j in pos]\n",
    "            for (i, j), f in zip(pos, mx):\n",
    "                row_max[i] = max(row_max[i], f)\n",
    "                col_max[j] = max(col_max[j], f)\n",
    "        return max(row_max)"
   ]
  }
 ],
 "metadata": {
  "language_info": {
   "name": "python"
  }
 },
 "nbformat": 4,
 "nbformat_minor": 2
}
