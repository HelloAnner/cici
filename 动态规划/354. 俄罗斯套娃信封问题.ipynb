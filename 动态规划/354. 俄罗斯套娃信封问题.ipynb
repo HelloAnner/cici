{
 "cells": [
  {
   "cell_type": "markdown",
   "metadata": {},
   "source": [
    "给你一个二维整数数组 envelopes ，其中 envelopes[i] = [wi, hi] ，表示第 i 个信封的宽度和高度。\n",
    "\n",
    "当另一个信封的宽度和高度都比这个信封大的时候，这个信封就可以放进另一个信封里，如同俄罗斯套娃一样。\n",
    "\n",
    "请计算 最多能有多少个 信封能组成一组“俄罗斯套娃”信封（即可以把一个信封放到另一个信封里面）。\n",
    "\n",
    "注意：不允许旋转信封。\n",
    "\n",
    "示例 1：\n",
    "\n",
    "输入：envelopes = [[5,4],[6,4],[6,7],[2,3]]\n",
    "输出：3\n",
    "解释：最多信封的个数为 3, 组合为: [2,3] => [5,4] => [6,7]。\n",
    "示例 2：\n",
    "\n",
    "输入：envelopes = [[1,1],[1,1],[1,1]]\n",
    "输出：1"
   ]
  },
  {
   "cell_type": "code",
   "execution_count": null,
   "metadata": {},
   "outputs": [],
   "source": [
    "from typing import List\n",
    "\n",
    "\n",
    "class Solution:\n",
    "    def maxEnvelopes(self, envelopes: List[List[int]]) -> int:\n",
    "        if not envelopes:\n",
    "            return 0\n",
    "        N = len(envelopes)\n",
    "        envelopes.sort(key=lambda x: (x[0], -x[1]))\n",
    "        res = 0\n",
    "        dp = [1] * N\n",
    "        for i in range(N):\n",
    "            for j in range(i):\n",
    "                if envelopes[j][1] < envelopes[i][1]:\n",
    "                    dp[i] = max(dp[i], dp[j] + 1)\n",
    "        return max(dp)"
   ]
  }
 ],
 "metadata": {
  "language_info": {
   "name": "python"
  }
 },
 "nbformat": 4,
 "nbformat_minor": 2
}
