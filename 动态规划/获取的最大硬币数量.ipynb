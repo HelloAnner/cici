{
 "cells": [
  {
   "cell_type": "markdown",
   "metadata": {},
   "source": [
    "给定一个二维矩阵，其中每个单元格表示该单元格内的硬币数量。假设我们从 matrix[0][0] 开始，只能向右或向下移动，找出通过右下角能够收集到的最大硬币数量。\n",
    "\n",
    "例如，在以下矩阵中：\n",
    "\n",
    "0 3 1 1\n",
    "2 0 0 4\n",
    "1 5 3 1\n",
    "\n",
    "我们能够收集的最大硬币数量是 0 + 2 + 1 + 5 + 3 + 1 = 12 个硬币。"
   ]
  },
  {
   "cell_type": "code",
   "execution_count": null,
   "metadata": {},
   "outputs": [],
   "source": [
    "def maxCoins(matrix) -> int:\n",
    "    if not matrix:\n",
    "        return 0\n",
    "\n",
    "    rows = len(matrix)\n",
    "    cols = len(matrix[0])\n",
    "\n",
    "    # 创建一个相同大小的dp矩阵来保存每个位置的最大硬币数量\n",
    "    dp = [[0] * cols for _ in range(rows)]\n",
    "    # 动态规划初始化\n",
    "    dp[0][0] = matrix[0][0]\n",
    "    for i in range(1, rows):\n",
    "        dp[i][0] = dp[i - 1][0] + matrix[i][0]\n",
    "    for j in range(1, cols):\n",
    "        dp[0][j] = dp[0][j - 1] + matrix[0][j]\n",
    "    # 动态规划\n",
    "    for i in range(1, rows):\n",
    "        for j in range(1, cols):\n",
    "            dp[i][j] = max(dp[i - 1][j], dp[i][j - 1] + matrix[i][j])\n",
    "    return dp[rows - 1][cols - 1]"
   ]
  }
 ],
 "metadata": {
  "language_info": {
   "name": "python"
  }
 },
 "nbformat": 4,
 "nbformat_minor": 2
}
