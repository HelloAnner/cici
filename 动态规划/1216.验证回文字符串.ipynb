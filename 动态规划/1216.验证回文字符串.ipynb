{
 "cells": [
  {
   "cell_type": "markdown",
   "metadata": {},
   "source": [
    "Given a string which we can delete at most k, return whether you can make a palindrome.\n",
    "\n",
    "For example, given 'waterrfetawx' and a k of 2, you could delete f and x to get 'waterretaw'.\n",
    "\n",
    "\n",
    "给定一个字符串，我们最多可以删除k个字符，返回是否可以构成一个回文字符串。\n",
    "\n",
    "例如，给定字符串'waterrfetawx'和k的值为2，你可以删除字符f和x，得到'waterretaw'，因此返回True。"
   ]
  },
  {
   "cell_type": "code",
   "execution_count": null,
   "metadata": {},
   "outputs": [],
   "source": []
  }
 ],
 "metadata": {
  "language_info": {
   "name": "python"
  }
 },
 "nbformat": 4,
 "nbformat_minor": 2
}
