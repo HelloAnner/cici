{
 "cells": [
  {
   "cell_type": "markdown",
   "metadata": {},
   "source": [
    "给你一个下标从 0 开始的整数数组 nums 和一个正整数 x 。\n",
    "\n",
    "你 一开始 在数组的位置 0 处，你可以按照下述规则访问数组中的其他位置：\n",
    "\n",
    "如果你当前在位置 i ，那么你可以移动到满足 i < j 的 任意 位置 j 。\n",
    "对于你访问的位置 i ，你可以获得分数 nums[i] 。\n",
    "如果你从位置 i 移动到位置 j 且 nums[i] 和 nums[j] 的 奇偶性 不同，那么你将失去分数 x 。\n",
    "请你返回你能得到的 最大 得分之和。\n",
    "\n",
    "注意 ，你一开始的分数为 nums[0] 。\n",
    "\n",
    "输入：nums = [2,3,6,1,9,2], x = 5\n",
    "输出：13\n",
    "解释：我们可以按顺序访问数组中的位置：0 -> 2 -> 3 -> 4 。\n",
    "对应位置的值为 2 ，6 ，1 和 9 。因为 6 和 1 的奇偶性不同，所以下标从 2 -> 3 让你失去 x = 5 分。\n",
    "总得分为：2 + 6 + 1 + 9 - 5 = 13 。"
   ]
  },
  {
   "cell_type": "code",
   "execution_count": null,
   "metadata": {},
   "outputs": [],
   "source": [
    "from math import inf\n",
    "from typing import List\n",
    "\n",
    "\n",
    "class Solution:\n",
    "    def maxScore(self, nums: List[int], x: int) -> int:\n",
    "        res = nums[0]\n",
    "        dp = [-inf, -inf]\n",
    "        dp[nums[0] % 2] = nums[0]\n",
    "        for i in range(1, len(nums)):\n",
    "            parity = nums[i] % 2\n",
    "            cur = max(dp[parity] + nums[i], dp[1 - parity] - x + nums[i])\n",
    "            res = max(cur, res)\n",
    "            dp[parity] = max(dp[parity], cur)\n",
    "        return res"
   ]
  }
 ],
 "metadata": {
  "language_info": {
   "name": "python"
  }
 },
 "nbformat": 4,
 "nbformat_minor": 2
}
