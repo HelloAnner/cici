{
 "cells": [
  {
   "cell_type": "markdown",
   "metadata": {},
   "source": [
    "在两条独立的水平线上按给定的顺序写下 nums1 和 nums2 中的整数。\n",
    "\n",
    "现在，可以绘制一些连接两个数字 nums1[i] 和 nums2[j] 的直线，这些直线需要同时满足：\n",
    "\n",
    "nums1[i] == nums2[j]\n",
    "且绘制的直线不与任何其他连线（非水平线）相交。\n",
    "请注意，连线即使在端点也不能相交：每个数字只能属于一条连线。\n",
    "\n",
    "以这种方法绘制线条，并返回可以绘制的最大连线数。\n"
   ]
  },
  {
   "cell_type": "code",
   "execution_count": null,
   "metadata": {},
   "outputs": [],
   "source": [
    "from functools import cache\n",
    "from typing import List\n",
    "\n",
    "\n",
    "class Solution:\n",
    "    def maxUncrossedLines(self, nums1: List[int], nums2: List[int]) -> int:\n",
    "        n,m = len(nums1),len(nums2)\n",
    "        \n",
    "        @cache\n",
    "        def dfs(i,j):\n",
    "            if i<0 or j <0 :\n",
    "                return 0\n",
    "            if nums1[i] == nums2[j]:\n",
    "                return dfs(i-1,j-1) + 1\n",
    "            return max(dfs(i-1,j) , dfs(i,j-1))\n",
    "        \n",
    "        return dfs(n-1,m-1)"
   ]
  }
 ],
 "metadata": {
  "language_info": {
   "name": "python"
  }
 },
 "nbformat": 4,
 "nbformat_minor": 2
}
