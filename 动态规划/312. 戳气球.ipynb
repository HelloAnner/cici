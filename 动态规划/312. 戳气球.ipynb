{
 "cells": [
  {
   "cell_type": "markdown",
   "metadata": {},
   "source": [
    "有 n 个气球，编号为0 到 n - 1，每个气球上都标有一个数字，这些数字存在数组 nums 中。\n",
    "\n",
    "现在要求你戳破所有的气球。戳破第 i 个气球，你可以获得 nums[i - 1] * nums[i] * nums[i + 1] 枚硬币。 这里的 i - 1 和 i + 1 代表和 i 相邻的两个气球的序号。如果 i - 1或 i + 1 超出了数组的边界，那么就当它是一个数字为 1 的气球。\n",
    "\n",
    "求所能获得硬币的最大数量。\n",
    "\n",
    "输入：nums = [3,1,5,8]\n",
    "输出：167\n",
    "解释：\n",
    "nums = [3,1,5,8] --> [3,5,8] --> [3,8] --> [8] --> []\n",
    "coins =  3*1*5    +   3*5*8   +  1*3*8  + 1*8*1 = 167"
   ]
  },
  {
   "cell_type": "code",
   "execution_count": null,
   "metadata": {},
   "outputs": [],
   "source": [
    "from typing import List\n",
    "\n",
    "\n",
    "class Solution:\n",
    "    def maxCoins(self, nums: List[int]) -> int:\n",
    "        nums.insert(0, 1)\n",
    "        nums.insert(len(nums), 1)\n",
    "\n",
    "        store = [[0] * len(nums) for i in range(len(nums))]\n",
    "\n",
    "        def range_best(i, j):\n",
    "            m = 0\n",
    "            for k in range(i + 1, j):\n",
    "                left = store[i][k]\n",
    "                right = store[k][j]\n",
    "                a = left + nums[i] * nums[k] * nums[j] + right\n",
    "                if a > m:\n",
    "                    m = a\n",
    "            store[i][j] = m\n",
    "\n",
    "        for n in range(2, len(nums)):\n",
    "            for i in range(0, len(nums) - n):\n",
    "                range_best(i, i + n)\n",
    "        return store[0][len(nums) - 1]"
   ]
  }
 ],
 "metadata": {
  "language_info": {
   "name": "python"
  }
 },
 "nbformat": 4,
 "nbformat_minor": 2
}
