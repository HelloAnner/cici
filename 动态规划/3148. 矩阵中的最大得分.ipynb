{
 "cells": [
  {
   "cell_type": "markdown",
   "metadata": {},
   "source": [
    "给你一个由 正整数 组成、大小为 m x n 的矩阵 grid。你可以从矩阵中的任一单元格移动到另一个位于正下方或正右侧的任意单元格（不必相邻）。从值为 c1 的单元格移动到值为 c2 的单元格的得分为 c2 - c1 。\n",
    "\n",
    "你可以从 任一 单元格开始，并且必须至少移动一次。\n",
    "\n",
    "返回你能得到的 最大 总得分。\n"
   ]
  },
  {
   "cell_type": "code",
   "execution_count": null,
   "metadata": {},
   "outputs": [],
   "source": [
    "from cmath import inf\n",
    "from typing import List\n",
    "\n",
    "\n",
    "class Solution:\n",
    "    def maxScore(self, grid: List[List[int]]) -> int:\n",
    "        ans = -inf\n",
    "        m, n = len(grid), len(grid[0])\n",
    "        f = [[inf] * (n + 1) for _ in range(m + 1)]\n",
    "        for i, row in enumerate(grid):\n",
    "            for j, x in enumerate(row):\n",
    "                mn = min(f[i + 1][j], f[i][j + 1])\n",
    "                ans = max(ans, x - mn)\n",
    "                f[i + 1][j + 1] = min(mn, x)\n",
    "        return ans\n"
   ]
  }
 ],
 "metadata": {
  "language_info": {
   "name": "python"
  }
 },
 "nbformat": 4,
 "nbformat_minor": 2
}
