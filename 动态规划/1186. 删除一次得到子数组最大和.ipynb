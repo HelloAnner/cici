{
 "cells": [
  {
   "cell_type": "markdown",
   "metadata": {},
   "source": [
    "给你一个整数数组，返回它的某个 非空 子数组（连续元素）在执行一次可选的删除操作后，所能得到的最大元素总和。换句话说，你可以从原数组中选出一个子数组，并可以决定要不要从中删除一个元素（只能删一次哦），（删除后）子数组中至少应当有一个元素，然后该子数组（剩下）的元素总和是所有子数组之中最大的。\n",
    "\n",
    "注意，删除一个元素后，子数组 不能为空。\n",
    "\n",
    "\n",
    "输入：arr = [1,-2,0,3]\n",
    "输出：4\n",
    "解释：我们可以选出 [1, -2, 0, 3]，然后删掉 -2，这样得到 [1, 0, 3]，和最大。\n"
   ]
  },
  {
   "cell_type": "code",
   "execution_count": null,
   "metadata": {},
   "outputs": [],
   "source": [
    "from cmath import inf\n",
    "from functools import cache\n",
    "from typing import List\n",
    "\n",
    "\n",
    "class Solution:\n",
    "    def maximumSum(self, arr: List[int]) -> int:\n",
    "        @cache  # 记忆化搜索\n",
    "        def dfs(i: int, j: int) -> int:\n",
    "            if i < 0:\n",
    "                return -inf  # 子数组至少要有一个数，不合法\n",
    "            if j == 0:\n",
    "                return max(dfs(i - 1, 0), 0) + arr[i]\n",
    "            return max(dfs(i - 1, 1) + arr[i], dfs(i - 1, 0))\n",
    "\n",
    "        return max(max(dfs(i, 0), dfs(i, 1)) for i in range(len(arr)))"
   ]
  }
 ],
 "metadata": {
  "language_info": {
   "name": "python"
  }
 },
 "nbformat": 4,
 "nbformat_minor": 2
}
