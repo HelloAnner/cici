{
 "cells": [
  {
   "metadata": {},
   "cell_type": "markdown",
   "source": [
    "给你一个链表的头节点 head ，该链表包含由 0 分隔开的一连串整数。链表的 开端 和 末尾 的节点都满足 Node.val == 0 。\n",
    "\n",
    "对于每两个相邻的 0 ，请你将它们之间的所有节点合并成一个节点，其值是所有已合并节点的值之和。然后将所有 0 移除，修改后的链表不应该含有任何 0 。\n",
    "返回修改后链表的头节点 head 。\n",
    "\n",
    "\n",
    "输入：head = [0,3,1,0,4,5,2,0]\n",
    "输出：[4,11]\n",
    "解释：\n",
    "上图表示输入的链表。修改后的链表包含：\n",
    "- 标记为绿色的节点之和：3 + 1 = 4\n",
    "- 标记为红色的节点之和：4 + 5 + 2 = 11"
   ],
   "id": "61f3397c5699e7b"
  },
  {
   "cell_type": "code",
   "execution_count": null,
   "id": "initial_id",
   "metadata": {
    "collapsed": true
   },
   "outputs": [],
   "source": [
    "from typing import Optional\n",
    "\n",
    "\n",
    "# Definition for singly-linked list.\n",
    "class ListNode:\n",
    "    def __init__(self, val=0, next=None):\n",
    "        self.val = val\n",
    "        self.next = next\n",
    "\n",
    "\n",
    "class Solution:\n",
    "    def mergeNodes(self, head: Optional[ListNode]) -> Optional[ListNode]:\n",
    "        tail = head\n",
    "        cur = head.next\n",
    "        while cur.next:\n",
    "            if cur.val:\n",
    "                tail.val += cur.val\n",
    "            else:\n",
    "                tail = tail.next\n",
    "                tail.val = 0\n",
    "            cur = cur.next\n",
    "        tail.next = None\n",
    "        return head"
   ]
  }
 ],
 "metadata": {
  "kernelspec": {
   "display_name": "Python 3",
   "language": "python",
   "name": "python3"
  },
  "language_info": {
   "codemirror_mode": {
    "name": "ipython",
    "version": 2
   },
   "file_extension": ".py",
   "mimetype": "text/x-python",
   "name": "python",
   "nbconvert_exporter": "python",
   "pygments_lexer": "ipython2",
   "version": "2.7.6"
  }
 },
 "nbformat": 4,
 "nbformat_minor": 5
}
