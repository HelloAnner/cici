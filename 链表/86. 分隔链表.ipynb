{
 "cells": [
  {
   "cell_type": "markdown",
   "metadata": {},
   "source": [
    "给你一个链表的头节点 head 和一个特定值 x ，请你对链表进行分隔，使得所有 小于 x 的节点都出现在 大于或等于 x 的节点之前。\n",
    "\n",
    "你应当 保留 两个分区中每个节点的初始相对位置。\n",
    "\n",
    "\n",
    "输入：head = [1,4,3,2,5,2], x = 3\n",
    "输出：[1,2,2,4,3,5]"
   ]
  },
  {
   "cell_type": "code",
   "execution_count": null,
   "metadata": {},
   "outputs": [],
   "source": [
    "# Definition for singly-linked list.\n",
    "class ListNode:\n",
    "    def __init__(self, val=0, next=None):\n",
    "        self.val = val\n",
    "        self.next = next\n",
    "\n",
    "\n",
    "from typing import Optional\n",
    "\n",
    "\n",
    "class Solution:\n",
    "    def partition(self, head: Optional[ListNode], x: int) -> Optional[ListNode]:\n",
    "        sml_dummpy, big_dummy = ListNode(0), ListNode(0)\n",
    "        sml, big = sml_dummpy, big_dummy\n",
    "        while head:\n",
    "            if head.val < x:\n",
    "                sml.next = head\n",
    "                sml = sml.next\n",
    "            else:\n",
    "                big.next = head\n",
    "                big = big.next\n",
    "            head = head.next\n",
    "        sml.next = big_dummy.next\n",
    "        big.next = None\n",
    "        return sml_dummpy.next"
   ]
  }
 ],
 "metadata": {
  "language_info": {
   "name": "python"
  }
 },
 "nbformat": 4,
 "nbformat_minor": 2
}
