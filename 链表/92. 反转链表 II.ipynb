{
 "cells": [
  {
   "cell_type": "markdown",
   "metadata": {},
   "source": [
    "给你单链表的头指针 head 和两个整数 left 和 right ，其中 left <= right 。请你反转从位置 left 到位置 right 的链表节点，返回 反转后的链表 。"
   ]
  },
  {
   "cell_type": "code",
   "execution_count": null,
   "metadata": {},
   "outputs": [],
   "source": [
    "# Definition for singly-linked list.\n",
    "from typing import Optional\n",
    "\n",
    "\n",
    "class ListNode:\n",
    "    def __init__(self, val=0, next=None):\n",
    "        self.val = val\n",
    "        self.next = next\n",
    "\n",
    "\n",
    "class Solution:\n",
    "    def reverseBetween(\n",
    "        self, head: Optional[ListNode], left: int, right: int\n",
    "    ) -> Optional[ListNode]:\n",
    "        p0 = dummy = ListNode(next=head)\n",
    "        for _ in range(left - 1):\n",
    "            p0 = p0.next\n",
    "\n",
    "        pre = None\n",
    "        cur = p0.next\n",
    "        for _ in range(right - left + 1):\n",
    "            nxt = cur.next\n",
    "            cur.next = pre\n",
    "            pre = cur\n",
    "            cur = nxt\n",
    "\n",
    "        p0.next.next = cur\n",
    "        p0.next = pre\n",
    "        return dummy.next"
   ]
  }
 ],
 "metadata": {
  "language_info": {
   "name": "python"
  }
 },
 "nbformat": 4,
 "nbformat_minor": 2
}
