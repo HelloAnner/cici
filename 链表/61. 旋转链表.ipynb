{
 "cells": [
  {
   "cell_type": "markdown",
   "metadata": {},
   "source": [
    "给你一个链表的头节点 head ，旋转链表，将链表每个节点向右移动 k 个位置。\n",
    "\n",
    "输入：head = [1,2,3,4,5], k = 2\n",
    "输出：[4,5,1,2,3]"
   ]
  },
  {
   "cell_type": "markdown",
   "metadata": {},
   "source": [
    "记给定链表的长度为 n，注意到当向右移动的次数 k≥n 时，我们仅需要向右移动 kmodn 次即可。因为每 n 次移动都会让链表变为原状。这样我们可以知道，新链表的最后一个节点为原链表的第 (n−1)−(kmodn) 个节点（从 0 开始计数）。\n",
    "\n",
    "这样，我们可以先将给定的链表连接成环，然后将指定位置断开。\n",
    "\n",
    "具体代码中，我们首先计算出链表的长度 n，并找到该链表的末尾节点，将其与头节点相连。这样就得到了闭合为环的链表。然后我们找到新链表的最后一个节点（即原链表的第 (n−1)−(kmodn) 个节点），将当前闭合为环的链表断开，即可得到我们所需要的结果。\n",
    "\n",
    "特别地，当链表长度不大于 1，或者 k 为 n 的倍数时，新链表将与原链表相同，我们无需进行任何处理。"
   ]
  },
  {
   "cell_type": "code",
   "execution_count": null,
   "metadata": {},
   "outputs": [],
   "source": [
    "# Definition for singly-linked list.\n",
    "from typing import Optional\n",
    "\n",
    "\n",
    "class ListNode:\n",
    "    def __init__(self, val=0, next=None):\n",
    "        self.val = val\n",
    "        self.next = next\n",
    "\n",
    "\n",
    "class Solution:\n",
    "    def rotateRight(self, head: Optional[ListNode], k: int) -> Optional[ListNode]:\n",
    "        if k == 0 or not head or not head.next:\n",
    "            return head\n",
    "\n",
    "        n = 1\n",
    "        cur = head\n",
    "        while cur.next:\n",
    "            cur = cur.next\n",
    "            n += 1\n",
    "\n",
    "        if (add := n - k % n) == n:\n",
    "            return head\n",
    "\n",
    "        cur.next = head\n",
    "        while add:\n",
    "            cur = cur.next\n",
    "            add -= 1\n",
    "\n",
    "        ret = cur.next\n",
    "        cur.next = None\n",
    "        return ret"
   ]
  }
 ],
 "metadata": {
  "language_info": {
   "name": "python"
  }
 },
 "nbformat": 4,
 "nbformat_minor": 2
}
