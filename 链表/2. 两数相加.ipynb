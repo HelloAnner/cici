{
 "cells": [
  {
   "cell_type": "markdown",
   "metadata": {},
   "source": [
    "给你两个 非空 的链表，表示两个非负的整数。它们每位数字都是按照 逆序 的方式存储的，并且每个节点只能存储 一位 数字。\n",
    "\n",
    "请你将两个数相加，并以相同形式返回一个表示和的链表。\n",
    "\n",
    "你可以假设除了数字 0 之外，这两个数都不会以 0 开头。"
   ]
  },
  {
   "cell_type": "code",
   "execution_count": null,
   "metadata": {},
   "outputs": [],
   "source": [
    "# Definition for singly-linked list.\n",
    "from typing import Optional\n",
    "\n",
    "\n",
    "class ListNode:\n",
    "    def __init__(self, val=0, next=None):\n",
    "        self.val = val\n",
    "        self.next = next\n",
    "\n",
    "\n",
    "class Solution:\n",
    "    # l1 和 l2 为当前遍历的节点，carry 为进位\n",
    "    def addTwoNumbers(\n",
    "        self, l1: Optional[ListNode], l2: Optional[ListNode], carry=0\n",
    "    ) -> Optional[ListNode]:\n",
    "        if l1 is None and l2 is None:  # 递归边界：l1 和 l2 都是空节点\n",
    "            return ListNode(carry) if carry else None  # 如果进位了，就额外创建一个节点\n",
    "        if l1 is None:  # 如果 l1 是空的，那么此时 l2 一定不是空节点\n",
    "            l1, l2 = l2, l1  # 交换 l1 与 l2，保证 l1 非空，从而简化代码\n",
    "        carry += l1.val + (l2.val if l2 else 0)  # 节点值和进位加在一起\n",
    "        l1.val = carry % 10  # 每个节点保存一个数位\n",
    "        l1.next = self.addTwoNumbers(\n",
    "            l1.next, l2.next if l2 else None, carry // 10\n",
    "        )  # 进位\n",
    "        return l1"
   ]
  }
 ],
 "metadata": {
  "language_info": {
   "name": "python"
  }
 },
 "nbformat": 4,
 "nbformat_minor": 2
}
