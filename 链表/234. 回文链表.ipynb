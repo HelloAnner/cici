{
 "cells": [
  {
   "cell_type": "markdown",
   "metadata": {},
   "source": [
    "Determine whether a doubly linked list is a palindrome. What if it’s singly linked?\n",
    "\n",
    "For example, 1 -> 4 -> 3 -> 4 -> 1 returns True while 1 -> 4 returns False.\n",
    "\n"
   ]
  },
  {
   "cell_type": "markdown",
   "metadata": {},
   "source": [
    "![](images/2024-04-09-08-11-37.png)"
   ]
  },
  {
   "cell_type": "markdown",
   "metadata": {},
   "source": [
    "方法一 ： \n",
    "1. 复制元素到数组\n",
    "2. 翻转数组判断是不是回文"
   ]
  },
  {
   "cell_type": "code",
   "execution_count": null,
   "metadata": {},
   "outputs": [],
   "source": [
    "# Definition for singly-linked list.\n",
    "from typing import Optional\n",
    "\n",
    "\n",
    "class ListNode:\n",
    "    def __init__(self, val=0, next=None):\n",
    "        self.val = val\n",
    "        self.next = next\n",
    "\n",
    "\n",
    "class Solution:\n",
    "    def isPalindrome(self, head: Optional[ListNode]) -> bool:\n",
    "        vals = []\n",
    "        current_node = head\n",
    "        while current_node is not None:\n",
    "            vals.append(current_node.val)\n",
    "            current_node = current_node.next\n",
    "        return vals == vals[::-1]"
   ]
  },
  {
   "cell_type": "markdown",
   "metadata": {},
   "source": [
    "方法二： 递归"
   ]
  },
  {
   "cell_type": "code",
   "execution_count": null,
   "metadata": {},
   "outputs": [],
   "source": [
    "class Solution:\n",
    "    def isPalindrome(self, head: Optional[ListNode]) -> bool:\n",
    "        self.front_pointer = head\n",
    "        \n",
    "        def recursively_check(current_node = head):\n",
    "            if current_node is not None:\n",
    "                if not recursively_check(current_node.next):\n",
    "                    return False\n",
    "                if self.front_pointer.val != current_node.val:\n",
    "                    return False\n",
    "                self.front_pointer = self.front_pointer.next\n",
    "            return True\n",
    "        \n",
    "        return recursively_check()"
   ]
  }
 ],
 "metadata": {
  "language_info": {
   "name": "python"
  }
 },
 "nbformat": 4,
 "nbformat_minor": 2
}
