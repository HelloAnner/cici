{
 "cells": [
  {
   "cell_type": "markdown",
   "metadata": {},
   "source": [
    "给你一个链表，删除链表的倒数第 n 个结点，并且返回链表的头结点。\n",
    "\n",
    "输入：head = [1,2,3,4,5], n = 2\n",
    "输出：[1,2,3,5]"
   ]
  },
  {
   "cell_type": "code",
   "execution_count": null,
   "metadata": {},
   "outputs": [],
   "source": [
    "# Definition for singly-linked list.\n",
    "from typing import Optional\n",
    "\n",
    "\n",
    "class ListNode:\n",
    "    def __init__(self, val=0, next=None):\n",
    "        self.val = val\n",
    "        self.next = next\n",
    "\n",
    "\n",
    "class Solution:\n",
    "    def removeNthFromEnd(self, head: Optional[ListNode], n: int) -> Optional[ListNode]:\n",
    "        def getLength(head: ListNode) -> int:\n",
    "            length = 0\n",
    "            while head:\n",
    "                length += 1\n",
    "                head = head.next\n",
    "            return length\n",
    "\n",
    "        dummy = ListNode(0, head)\n",
    "        length = getLength(head)\n",
    "        cur = dummy\n",
    "        for i in range(1, length - n + 1):\n",
    "            cur = cur.next\n",
    "        cur.next = cur.next.next\n",
    "        return dummy.next"
   ]
  }
 ],
 "metadata": {
  "language_info": {
   "name": "python"
  }
 },
 "nbformat": 4,
 "nbformat_minor": 2
}
