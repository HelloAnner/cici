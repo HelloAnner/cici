{
 "cells": [
  {
   "cell_type": "markdown",
   "metadata": {},
   "source": [
    "给你一个字符串 s，由若干单词组成，单词前后用一些空格字符隔开。返回字符串中 最后一个 单词的长度。\n",
    "\n",
    "单词 是指仅由字母组成、不包含任何空格字符的最大子字符串"
   ]
  },
  {
   "cell_type": "code",
   "execution_count": null,
   "metadata": {},
   "outputs": [],
   "source": [
    "class Solution:\n",
    "    def lengthOfLastWord(self, s: str) -> int:\n",
    "        s = s.rstrip()\n",
    "        return len(s) - 1 - s.rfind(\" \")"
   ]
  },
  {
   "cell_type": "code",
   "execution_count": null,
   "metadata": {},
   "outputs": [],
   "source": [
    "class Solution:\n",
    "    def lengthOfLastWord(self, s: str) -> int:\n",
    "        i = len(s) - 1\n",
    "        while s[i] == \" \":\n",
    "            i -= 1\n",
    "\n",
    "        j = i - 1\n",
    "        while j >= 0 and s[j] != \" \":\n",
    "            j -= 1\n",
    "\n",
    "        return i - j"
   ]
  }
 ],
 "metadata": {
  "language_info": {
   "name": "python"
  }
 },
 "nbformat": 4,
 "nbformat_minor": 2
}
