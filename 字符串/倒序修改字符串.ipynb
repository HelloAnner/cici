{
 "cells": [
  {
   "cell_type": "markdown",
   "id": "b5e38c72f1592740",
   "metadata": {
    "collapsed": false
   },
   "source": [
    "Given a string of words delimited by spaces, reverse the words in string. For example, given \"hello world here\", return \"here world hello\"\n",
    "\n",
    "Follow-up: given a mutable string representation, can you perform this operation in-place?"
   ]
  },
  {
   "cell_type": "markdown",
   "id": "e741f8f14a27f0fa",
   "metadata": {
    "collapsed": false
   },
   "source": [
    "先看一下普通的写法，即直接翻转"
   ]
  },
  {
   "cell_type": "code",
   "execution_count": 1,
   "id": "initial_id",
   "metadata": {
    "ExecuteTime": {
     "end_time": "2024-04-19T21:54:09.832791Z",
     "start_time": "2024-04-19T21:54:09.830114Z"
    },
    "collapsed": true
   },
   "outputs": [],
   "source": [
    "def reverse_words(string):\n",
    "    return \" \".join(string.split()[::-1])"
   ]
  },
  {
   "cell_type": "markdown",
   "id": "c697d8e9607bb16f",
   "metadata": {
    "collapsed": false
   },
   "source": [
    "如果需要原地翻转 ， 那么就需要修改字符串中的字符数组了"
   ]
  },
  {
   "cell_type": "code",
   "execution_count": null,
   "id": "b5c357bd3fd27728",
   "metadata": {
    "collapsed": false
   },
   "outputs": [],
   "source": [
    "def reverse_words_local(string):\n",
    "    chars = list(string)\n",
    "    reverse_chars(chars, 0, len(chars) - 1)\n",
    "\n",
    "    # 反转每一个单词\n",
    "    start = 0\n",
    "    for i in range(len(chars)):\n",
    "        if chars[i] == ' ':\n",
    "            reverse_chars(chars, start, i - 1)\n",
    "\n",
    "    # 翻转全部字符\n",
    "    reverse_chars(chars, start, len(chars) - 1)\n",
    "    \n",
    "    return \"\".join(chars)\n",
    "\n",
    "\n",
    "def reverse_chars(chars, start, end):\n",
    "    while start < end:\n",
    "        chars[start], chars[end] = chars[end], chars[start]\n",
    "        start += 1\n",
    "        end -= 1"
   ]
  }
 ],
 "metadata": {
  "kernelspec": {
   "display_name": "Python 3",
   "language": "python",
   "name": "python3"
  },
  "language_info": {
   "codemirror_mode": {
    "name": "ipython",
    "version": 2
   },
   "file_extension": ".py",
   "mimetype": "text/x-python",
   "name": "python",
   "nbconvert_exporter": "python",
   "pygments_lexer": "ipython2",
   "version": "2.7.6"
  }
 },
 "nbformat": 4,
 "nbformat_minor": 5
}
