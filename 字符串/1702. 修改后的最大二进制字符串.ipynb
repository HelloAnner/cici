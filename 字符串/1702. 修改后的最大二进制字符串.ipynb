{
 "cells": [
  {
   "cell_type": "markdown",
   "metadata": {},
   "source": [
    "给你一个二进制字符串 binary ，它仅有 0 或者 1 组成。你可以使用下面的操作任意次对它进行修改：\n",
    "\n",
    "操作 1 ：如果二进制串包含子字符串 \"00\" ，你可以用 \"10\" 将其替换。\n",
    "比方说， \"00010\" -> \"10010\"  \n",
    "\n",
    "操作 2 ：如果二进制串包含子字符串 \"10\" ，你可以用 \"01\" 将其替换。\n",
    "比方说， \"00010\" -> \"00001\"  \n",
    "\n",
    "请你返回执行上述操作任意次以后能得到的 最大二进制字符串 。如果二进制字符串 x 对应的十进制数字大于二进制字符串 y 对应的十进制数字，那么我们称二进制字符串 x 大于二进制字符串 y 。\n",
    "\n"
   ]
  },
  {
   "cell_type": "code",
   "execution_count": null,
   "metadata": {},
   "outputs": [],
   "source": [
    "class Solution:\n",
    "    def maximumBinaryString(self, binary: str) -> str:\n",
    "        n = len(binary)\n",
    "        s = list(binary)\n",
    "        j = 0\n",
    "\n",
    "        for i in range(n):\n",
    "            if s[i] == \"0\":\n",
    "                while j <= i or (j < n and s[j] == \"1\"):\n",
    "                    j += 1\n",
    "                if j < n:\n",
    "                    s[i] = \"1\"\n",
    "                    s[j] = \"1\"\n",
    "                    s[i + 1] = \"0\"\n",
    "        return \"\".join(s)"
   ]
  }
 ],
 "metadata": {
  "language_info": {
   "name": "python"
  }
 },
 "nbformat": 4,
 "nbformat_minor": 2
}
