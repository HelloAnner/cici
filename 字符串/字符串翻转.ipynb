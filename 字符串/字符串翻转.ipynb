{
 "cells": [
  {
   "cell_type": "markdown",
   "source": [
    "Given two strings A and B, return whether or not A can be shifted some number of times to get B.\n",
    "\n",
    "For example, if A is abcde and B is cdeab, return true. If A is abc and B is acb, return false."
   ],
   "metadata": {
    "collapsed": false
   },
   "id": "b9fb8bc8fac244fd"
  },
  {
   "cell_type": "markdown",
   "source": [
    "直接选择两个字符拼接"
   ],
   "metadata": {
    "collapsed": false
   },
   "id": "a71e74f16557acfc"
  },
  {
   "cell_type": "code",
   "outputs": [],
   "source": [
    "def is_shift_string(A,B):\n",
    "    if len(A) != len(B):\n",
    "        return  False\n",
    "    double_A = A + A\n",
    "    return B in double_A"
   ],
   "metadata": {
    "collapsed": false
   },
   "id": "25c55bb1bb30f67c"
  }
 ],
 "metadata": {
  "kernelspec": {
   "display_name": "Python 3",
   "language": "python",
   "name": "python3"
  },
  "language_info": {
   "codemirror_mode": {
    "name": "ipython",
    "version": 2
   },
   "file_extension": ".py",
   "mimetype": "text/x-python",
   "name": "python",
   "nbconvert_exporter": "python",
   "pygments_lexer": "ipython2",
   "version": "2.7.6"
  }
 },
 "nbformat": 4,
 "nbformat_minor": 5
}
