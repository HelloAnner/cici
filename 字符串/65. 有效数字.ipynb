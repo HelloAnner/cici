{
 "cells": [
  {
   "cell_type": "markdown",
   "metadata": {},
   "source": [
    "Given a string, return whether it represents a number. Here are the different kinds of numbers:\n",
    "\n",
    "\"10\", a positive integer\n",
    "\"-10\", a negative integer\n",
    "\"10.1\", a positive real number\n",
    "\"-10.1\", a negative real number\n",
    "\"1e5\", a number in scientific notation\n",
    "And here are examples of non-numbers:\n",
    "\n",
    "\"a\"\n",
    "\"x 1\"\n",
    "\"a -2\"\n",
    "\"-\""
   ]
  },
  {
   "cell_type": "markdown",
   "metadata": {},
   "source": [
    "难点在于考虑不同的情况 , 使用标记变量 记录之前是不是已经遇到了"
   ]
  },
  {
   "cell_type": "code",
   "execution_count": null,
   "metadata": {},
   "outputs": [],
   "source": [
    "def is_number(s: str) -> bool:\n",
    "    s = s.strip()\n",
    "\n",
    "    seen_digit = False\n",
    "    seen_dot = False\n",
    "    seen_e = False\n",
    "\n",
    "    for i in range(len(s)):\n",
    "        if s[i].isdigit():\n",
    "            seen_digit = True\n",
    "\n",
    "        elif s[i] == \".\":\n",
    "            if seen_dot or seen_e:\n",
    "                return False\n",
    "            seen_dot = True\n",
    "∏\n",
    "        elif s[i] == \"e\":\n",
    "            if seen_e or not seen_digit:\n",
    "                return False\n",
    "            seen_dot = True\n",
    "            # 重复标记 , e 后面必须出现数字\n",
    "            seen_digit = False\n",
    "        elif s[i] == \"+\" or s[i] == \"-\":\n",
    "            if i > 0 and s[i - 1] != \"e\":\n",
    "                return False\n",
    "        else:\n",
    "            return False\n",
    "\n",
    "    return seen_digit"
   ]
  }
 ],
 "metadata": {
  "language_info": {
   "name": "python"
  }
 },
 "nbformat": 4,
 "nbformat_minor": 2
}
