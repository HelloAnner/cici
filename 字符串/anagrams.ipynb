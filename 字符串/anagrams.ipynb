{
 "cells": [
  {
   "cell_type": "markdown",
   "metadata": {},
   "source": [
    "input : le chien marche vers sa niche et trouve une limace de chine nue pleine de malice qui lui fait du charme\n",
    "\n",
    "output : {une nue}, {marche charme}, {chien chine niche}, {malice limace}"
   ]
  },
  {
   "cell_type": "markdown",
   "metadata": {},
   "source": [
    "Average Time is  O(nk logk)"
   ]
  },
  {
   "cell_type": "code",
   "execution_count": null,
   "metadata": {},
   "outputs": [],
   "source": [
    "def anagrams(w):\n",
    "    w = list(set(w))\n",
    "    d = {}\n",
    "    for i in range(len(w)):\n",
    "        s = ''.join(sorted(w[i]))\n",
    "        if s in d:\n",
    "            d[s].append(i)\n",
    "        else:\n",
    "            d[s] = [i]\n",
    "    reponse = []\n",
    "    for s in d:\n",
    "        if len(d[s]) > 1:\n",
    "            reponse.append([w[i] for i in d[s]])\n",
    "    return reponse"
   ]
  },
  {
   "cell_type": "markdown",
   "metadata": {},
   "source": [
    "Here is some test cases : "
   ]
  },
  {
   "cell_type": "code",
   "execution_count": null,
   "metadata": {},
   "outputs": [],
   "source": [
    "print(\n",
    "    anagrams(\n",
    "        [\n",
    "            \"le\",\n",
    "            \"chien\",\n",
    "            \"marche\",\n",
    "            \"vers\",\n",
    "            \"sa\",\n",
    "            \"niche\",\n",
    "            \"et\",\n",
    "            \"trouve\",\n",
    "            \"une\",\n",
    "            \"limace\",\n",
    "            \"de\",\n",
    "            \"chine\",\n",
    "            \"nue\",\n",
    "            \"pleine\",\n",
    "            \"de\",\n",
    "            \"malice\",\n",
    "            \"qui\",\n",
    "            \"lui\",\n",
    "            \"fait\",\n",
    "            \"du\",\n",
    "            \"charme\",\n",
    "        ]\n",
    "    )\n",
    ")"
   ]
  }
 ],
 "metadata": {
  "kernelspec": {
   "display_name": "base",
   "language": "python",
   "name": "python3"
  },
  "language_info": {
   "codemirror_mode": {
    "name": "ipython",
    "version": 3
   },
   "file_extension": ".py",
   "mimetype": "text/x-python",
   "name": "python",
   "nbconvert_exporter": "python",
   "pygments_lexer": "ipython3",
   "version": "3.12.1"
  }
 },
 "nbformat": 4,
 "nbformat_minor": 2
}
