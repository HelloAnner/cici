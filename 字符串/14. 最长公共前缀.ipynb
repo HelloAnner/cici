{
 "cells": [
  {
   "cell_type": "markdown",
   "metadata": {},
   "source": [
    "编写一个函数来查找字符串数组中的最长公共前缀。\n",
    "\n",
    "如果不存在公共前缀，返回空字符串 \"\"。"
   ]
  },
  {
   "cell_type": "code",
   "execution_count": null,
   "metadata": {},
   "outputs": [],
   "source": [
    "from typing import List\n",
    "\n",
    "\n",
    "class Solution:\n",
    "    def longestCommonPrefix(self, strs: List[str]) -> str:\n",
    "        if not strs:\n",
    "            return \"\"\n",
    "\n",
    "        prefix, count = strs[0], len(strs)\n",
    "        for i in range(1, count):\n",
    "            prefix = self.lcp(prefix, strs[i])\n",
    "            if not prefix:\n",
    "                break\n",
    "        return prefix\n",
    "\n",
    "    def lcp(self, s1: str, s2: str):\n",
    "        length, index = min(len(s1), len(s2)), 0\n",
    "        while index < length and s1[index] == s2[index]:\n",
    "            index += 1\n",
    "        return s1[:index]"
   ]
  }
 ],
 "metadata": {
  "language_info": {
   "name": "python"
  }
 },
 "nbformat": 4,
 "nbformat_minor": 2
}
