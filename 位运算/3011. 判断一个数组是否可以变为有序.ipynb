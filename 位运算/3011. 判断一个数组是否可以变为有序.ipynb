{
 "cells": [
  {
   "cell_type": "markdown",
   "metadata": {},
   "source": [
    "给你一个下标从 0 开始且全是 正 整数的数组 nums 。\n",
    "\n",
    "一次 操作 中，如果两个 相邻 元素在二进制下数位为 1 的数目 相同 ，那么你可以将这两个元素交换。你可以执行这个操作 任意次 （也可以 0 次）。\n",
    "\n",
    "如果你可以使数组变有序，请你返回 true ，否则返回 false 。\n",
    "\n",
    " \n",
    "\n",
    "示例 1：\n",
    "\n",
    "输入：nums = [8,4,2,30,15]\n",
    "输出：true\n",
    "解释：我们先观察每个元素的二进制表示。 2 ，4 和 8 分别都只有一个数位为 1 ，分别为 \"10\" ，\"100\" 和 \"1000\" 。15 和 30 分别有 4 个数位为 1 ：\"1111\" 和 \"11110\" 。\n",
    "我们可以通过 4 个操作使数组有序：\n",
    "- 交换 nums[0] 和 nums[1] 。8 和 4 分别只有 1 个数位为 1 。数组变为 [4,8,2,30,15] 。\n",
    "- 交换 nums[1] 和 nums[2] 。8 和 2 分别只有 1 个数位为 1 。数组变为 [4,2,8,30,15] 。\n",
    "- 交换 nums[0] 和 nums[1] 。4 和 2 分别只有 1 个数位为 1 。数组变为 [2,4,8,30,15] 。\n",
    "- 交换 nums[3] 和 nums[4] 。30 和 15 分别有 4 个数位为 1 ，数组变为 [2,4,8,15,30] 。\n",
    "数组变成有序的，所以我们返回 true 。\n",
    "注意我们还可以通过其他的操作序列使数组变得有序。"
   ]
  },
  {
   "cell_type": "code",
   "execution_count": null,
   "metadata": {},
   "outputs": [],
   "source": [
    "from itertools import pairwise\n",
    "from typing import List\n",
    "\n",
    "\n",
    "class Solution:\n",
    "    def canSortArray(self, nums: List[int]) -> bool:\n",
    "        n = len(nums)\n",
    "        i = 0\n",
    "        while i < n:\n",
    "            start = i\n",
    "            ones = nums[i].bit_count()\n",
    "            i += 1\n",
    "            while i < n and nums[i].bit_count == ones:\n",
    "                i += 1\n",
    "            nums[start:i] = sorted(nums[start:i])\n",
    "        return all(x <= y for x, y in pairwise(nums))"
   ]
  }
 ],
 "metadata": {
  "language_info": {
   "name": "python"
  }
 },
 "nbformat": 4,
 "nbformat_minor": 2
}
