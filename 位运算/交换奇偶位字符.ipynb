{
 "cells": [
  {
   "cell_type": "markdown",
   "source": [
    "Given an unsigned 8-bit integer, swap its even and odd bits. The 1st and 2nd bit should be swapped, the 3rd and 4th bit should be swapped, and so on.\n",
    "\n",
    "For example, 10101010 should be 01010101. 11100010 should be 11010001.\n",
    "\n",
    "Bonus: Can you do this in one line?"
   ],
   "metadata": {
    "collapsed": false
   },
   "id": "dab68b2fbd7bbfff"
  },
  {
   "cell_type": "markdown",
   "source": [
    "我们将原始数字n与两个掩码进行按位与运算。掩码0b10101010用于提取偶数位，掩码0b01010101用于提取奇数位。\n",
    "\n",
    "然后，我们将提取的偶数位向右移动1位，并将提取的奇数位向左移动1位。\n",
    "\n",
    "最后，我们将移位后的偶数位和奇数位进行按位或运算，得到最终结果。"
   ],
   "metadata": {
    "collapsed": false
   },
   "id": "a0b670ff509e857c"
  },
  {
   "cell_type": "code",
   "execution_count": 1,
   "id": "initial_id",
   "metadata": {
    "collapsed": true,
    "ExecuteTime": {
     "end_time": "2024-04-14T01:19:04.196145Z",
     "start_time": "2024-04-14T01:19:04.192541Z"
    }
   },
   "outputs": [],
   "source": [
    "def swap_even_odd_bits(n):\n",
    "    return ((n & 0b10101010) >> 1) | ((n & 0b01010101) << 1)"
   ]
  },
  {
   "cell_type": "code",
   "outputs": [
    {
     "name": "stdout",
     "output_type": "stream",
     "text": [
      "0b11010001\n"
     ]
    }
   ],
   "source": [
    "print(bin(swap_even_odd_bits(0b11100010)))"
   ],
   "metadata": {
    "collapsed": false,
    "ExecuteTime": {
     "end_time": "2024-04-14T01:19:04.204098Z",
     "start_time": "2024-04-14T01:19:04.202111Z"
    }
   },
   "id": "2b98111b5e461151",
   "execution_count": 2
  }
 ],
 "metadata": {
  "kernelspec": {
   "display_name": "Python 3",
   "language": "python",
   "name": "python3"
  },
  "language_info": {
   "codemirror_mode": {
    "name": "ipython",
    "version": 2
   },
   "file_extension": ".py",
   "mimetype": "text/x-python",
   "name": "python",
   "nbconvert_exporter": "python",
   "pygments_lexer": "ipython2",
   "version": "2.7.6"
  }
 },
 "nbformat": 4,
 "nbformat_minor": 5
}
