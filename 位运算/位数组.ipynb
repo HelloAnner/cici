{
 "cells": [
  {
   "cell_type": "markdown",
   "metadata": {},
   "source": [
    "Implement a bit array.\n",
    "\n",
    "A bit array is a space efficient array that holds a value of 1 or 0 at each index.\n",
    "\n",
    "init(size): initialize the array with size\n",
    "set(i, val): updates index at i with val where val is either 1 or 0.\n",
    "get(i): gets the value at index i."
   ]
  },
  {
   "cell_type": "code",
   "execution_count": null,
   "metadata": {},
   "outputs": [],
   "source": [
    "class BitArray:\n",
    "    def __init__(self, size) -> None:\n",
    "        self.size = size\n",
    "        self.array = [0] * ((size + 31) // 32)\n",
    "\n",
    "    def set(self, i, val):\n",
    "        if i < 0 or i >= self.size:\n",
    "            raise IndexError(\"Index out of range\")\n",
    "        if val != 0 and val != 1:\n",
    "            raise ValueError(\"Value must be either 0 or 1\")\n",
    "        idx = i // 32\n",
    "        bit_offset = i % 32\n",
    "        mask = 1 << bit_offset\n",
    "        if val == 1:\n",
    "            self.array[idx] |= mask\n",
    "        else:\n",
    "            self.array[idx] &= ~mask\n",
    "\n",
    "    def get(self, i):\n",
    "        if i < 0 or i >= self.size:\n",
    "            raise IndexError(\"Index out of range\")\n",
    "        idx = i // 32\n",
    "        bit_offset = i % 32\n",
    "        mask = 1 << bit_offset\n",
    "        return 1 if self.array[idx] & mask != 0 else 0"
   ]
  }
 ],
 "metadata": {
  "language_info": {
   "name": "python"
  }
 },
 "nbformat": 4,
 "nbformat_minor": 2
}
