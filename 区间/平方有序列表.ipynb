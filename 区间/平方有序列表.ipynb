{
 "cells": [
  {
   "cell_type": "markdown",
   "metadata": {},
   "source": [
    "Given a sorted list of integers, square the elements and give the output in sorted order.  \n",
    "\n",
    "For example, given [-9, -2, 0, 2, 3], return [0, 4, 4, 9, 81].  \n",
    "\n"
   ]
  },
  {
   "cell_type": "code",
   "execution_count": null,
   "metadata": {},
   "outputs": [],
   "source": [
    "from typing import List\n",
    "\n",
    "\n",
    "def square_sorted_list(nums:List[int]) -> List[int]:\n",
    "    split_index = 0\n",
    "    while split_index < len(nums) and nums[split_index] < 0:\n",
    "        split_index+=1\n",
    "    neg_part = [num ** 2 for num in nums[:split_index]]\n",
    "    pos_part = [num ** 2 for num in nums[split_index:]]\n",
    "    return merge_sorted_lists(neg_part,pos_part)\n",
    "\n",
    "def merge_sorted_lists(nums1 , nums2):\n",
    "    merged = []\n",
    "    i,j = 0,0\n",
    "    while i < len(nums1) and j < len(nums2):\n",
    "        if nums1[i] > nums2[j]:\n",
    "            merged.append(nums1[i])\n",
    "            i+=1\n",
    "        else:\n",
    "            merged.append(nums2[j])\n",
    "            j+=1\n",
    "    merged.extend(nums1[i:])\n",
    "    merged.extend(nums2[j:])\n",
    "    \n",
    "    return merged"
   ]
  }
 ],
 "metadata": {
  "language_info": {
   "name": "python"
  }
 },
 "nbformat": 4,
 "nbformat_minor": 2
}
