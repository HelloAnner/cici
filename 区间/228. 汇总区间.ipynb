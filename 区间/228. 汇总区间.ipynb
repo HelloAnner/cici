{
 "cells": [
  {
   "cell_type": "markdown",
   "metadata": {},
   "source": [
    "给定一个  无重复元素 的 有序 整数数组 nums 。\n",
    "\n",
    "返回 恰好覆盖数组中所有数字 的 最小有序 区间范围列表 。也就是说，nums 的每个元素都恰好被某个区间范围所覆盖，并且不存在属于某个范围但不属于 nums 的数字 x 。\n",
    "\n",
    "列表中的每个区间范围 [a,b] 应该按如下格式输出：\n",
    "\n",
    "\"a->b\" ，如果 a != b\n",
    "\"a\" ，如果 a == b\n"
   ]
  },
  {
   "cell_type": "markdown",
   "metadata": {},
   "source": [
    "示例 1：\n",
    "\n",
    "输入：nums = [0,1,2,4,5,7]  \n",
    "输出：[\"0->2\",\"4->5\",\"7\"]  \n",
    "解释：区间范围是：  \n",
    "[0,2] --> \"0->2\"  \n",
    "[4,5] --> \"4->5\"  \n",
    "[7,7] --> \"7\"  \n",
    "  \n",
    "  \n",
    "示例 2：  \n",
    "  \n",
    "输入：nums = [0,2,3,4,6,8,9]  \n",
    "输出：[\"0\",\"2->4\",\"6\",\"8->9\"]  \n",
    "解释：区间范围是：  \n",
    "[0,0] --> \"0\"  \n",
    "[2,4] --> \"2->4\"  \n",
    "[6,6] --> \"6\"  \n",
    "[8,9] --> \"8->9\"  "
   ]
  },
  {
   "cell_type": "code",
   "execution_count": null,
   "metadata": {},
   "outputs": [],
   "source": [
    "from typing import List\n",
    "\n",
    "\n",
    "class Solution:\n",
    "    def summaryRanges(self, nums: List[int]) -> List[str]:\n",
    "        l, r = 0, 0\n",
    "        res = []\n",
    "        while r < len(nums):\n",
    "            while r + 1 < len(nums) and nums[r + 1] == nums[r]:\n",
    "                r += 1\n",
    "            res.append(f\"{nums[l]}\" if l == r else f\"{nums[l]}->{nums[r]}\")\n",
    "            l = r = r + 1\n",
    "        return res"
   ]
  }
 ],
 "metadata": {
  "kernelspec": {
   "display_name": "Python 3 (ipykernel)",
   "language": "python",
   "name": "python3"
  },
  "language_info": {
   "codemirror_mode": {
    "name": "ipython",
    "version": 3
   },
   "file_extension": ".py",
   "mimetype": "text/x-python",
   "name": "python",
   "nbconvert_exporter": "python",
   "pygments_lexer": "ipython3",
   "version": "3.12.2"
  }
 },
 "nbformat": 4,
 "nbformat_minor": 4
}
