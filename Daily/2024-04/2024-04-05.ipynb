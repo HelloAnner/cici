{
 "cells": [
  {
   "cell_type": "markdown",
   "metadata": {},
   "source": [
    "Good morning! Here's your coding interview problem for today.\n",
    "\n",
    "This problem was asked by Google.\n",
    "\n",
    "You are in an infinite 2D grid where you can move in any of the 8 directions:\n",
    "\n",
    " (x,y) to\n",
    "    (x+1, y),\n",
    "    (x - 1, y),\n",
    "    (x, y+1),\n",
    "    (x, y-1),\n",
    "    (x-1, y-1),\n",
    "    (x+1,y+1),\n",
    "    (x-1,y+1),\n",
    "    (x+1,y-1)\n",
    "    \n",
    "You are given a sequence of points and the order in which you need to cover the points. Give the minimum number of steps in which you can achieve it. You start from the first point.\n",
    "\n",
    "Example:\n",
    "\n",
    "Input: [(0, 0), (1, 1), (1, 2)]\n",
    "Output: 2\n",
    "It takes 1 step to move from (0, 0) to (1, 1). It takes one more step to move from (1, 1) to (1, 2)."
   ]
  },
  {
   "cell_type": "code",
   "execution_count": null,
   "metadata": {},
   "outputs": [],
   "source": [
    "def min_steps(point_sequence):\n",
    "    steps = 0\n",
    "    for i in range(len(point_sequence) - 1):\n",
    "        current_point = point_sequence[i]\n",
    "        next_point = point_sequence[i + 1]\n",
    "        steps += abs(next_point[0] - current_point[0]) + abs(\n",
    "            next_point[1] - current_point[1]\n",
    "        )\n",
    "    return steps"
   ]
  }
 ],
 "metadata": {
  "language_info": {
   "name": "python"
  }
 },
 "nbformat": 4,
 "nbformat_minor": 2
}
