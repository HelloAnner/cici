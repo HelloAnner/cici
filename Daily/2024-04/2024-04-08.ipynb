{
 "cells": [
  {
   "cell_type": "markdown",
   "metadata": {},
   "source": [
    "Good morning! Here's your coding interview problem for today.\n",
    "\n",
    "This problem was asked by Square.\n",
    "\n",
    "Given a string and a set of characters, return the shortest substring containing all the characters in the set.\n",
    "\n",
    "For example, given the string \"figehaeci\" and the set of characters {a, e, i}, you should return \"aeci\".\n",
    "\n",
    "If there is no substring containing all the characters in the set, return null."
   ]
  },
  {
   "cell_type": "markdown",
   "metadata": {},
   "source": [
    "使用滑动窗口完成这个内容 ，可以算是更新此类内容的模板了"
   ]
  },
  {
   "cell_type": "code",
   "execution_count": null,
   "metadata": {},
   "outputs": [],
   "source": [
    "def shortest_substrings(s,char_set):\n",
    "    char_count = len(char_set)\n",
    "    char_frequency = {}\n",
    "    start = 0\n",
    "    min_length = float('inf')\n",
    "    min_substring = None\n",
    "    \n",
    "    for c in char_set:\n",
    "        char_frequency[c] = char_frequency.get(c,0)+1\n",
    "    \n",
    "    for end in range(len(s)):\n",
    "        if s[end] in char_frequency:\n",
    "            char_frequency[s[end]] -= 1\n",
    "            if char_frequency[s[end]] >=0:\n",
    "                char_count -=1\n",
    "        \n",
    "        while char_count ==0:\n",
    "            if end - start + 1 <min_length:\n",
    "                min_length = end - start + 1\n",
    "                min_substring = s[start:end+1]\n",
    "            \n",
    "            # 缩小滑动窗口范围 , 真实的更新最新的是 frequency 和 count 的内容\n",
    "            if s[start] in char_frequency:\n",
    "                char_frequency[s[start]] += 1\n",
    "                if char_frequency[s[start]] > 0:\n",
    "                    char_count +=1\n",
    "            \n",
    "            start += 1\n",
    "    \n",
    "    return min_substring"
   ]
  }
 ],
 "metadata": {
  "language_info": {
   "name": "python"
  }
 },
 "nbformat": 4,
 "nbformat_minor": 2
}
