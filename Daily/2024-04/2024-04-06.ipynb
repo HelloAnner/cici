{
 "cells": [
  {
   "cell_type": "markdown",
   "metadata": {},
   "source": [
    "\n",
    "Good morning! Here's your coding interview problem for today.\n",
    "\n",
    "This problem was asked by Alibaba.\n",
    "\n",
    "Given an even number (greater than 2), return two prime numbers whose sum will be equal to the given number.\n",
    "\n",
    "A solution will always exist. See [Goldbach’s conjecture](https://en.wikipedia.org/wiki/Goldbach%27s_conjecture).\n",
    "\n",
    "Example:\n",
    "\n",
    "Input: 4\n",
    "Output: 2 + 2 = 4\n",
    "\n",
    "If there are more than one solution possible, return the lexicographically smaller solution.\n",
    "\n",
    "If [a, b] is one solution with a <= b, and [c, d] is another solution with c <= d, then\n",
    "\n",
    "[a, b] < [c, d]\n",
    "If a < c OR a==c AND b < d."
   ]
  },
  {
   "cell_type": "code",
   "execution_count": 2,
   "metadata": {},
   "outputs": [],
   "source": [
    "def is_prime(n):\n",
    "    if n <= 1:\n",
    "        return False\n",
    "    if n <= 3:\n",
    "        return True\n",
    "    if n % 2 == 0 or n % 3 == 0:\n",
    "        return False\n",
    "    i = 5\n",
    "    while i * i <= n:\n",
    "        if n % i == 0 or n % (i + 2) == 0:\n",
    "            return False\n",
    "        i += 6\n",
    "    return True\n",
    "\n",
    "\n",
    "def goldbach_conjecture(even_number):\n",
    "    for i in range(2, even_number // 2 + 1):\n",
    "        if is_prime(i) and is_prime(even_number - i):\n",
    "            return [i, even_number - i]\n",
    "    return None"
   ]
  },
  {
   "cell_type": "code",
   "execution_count": 5,
   "metadata": {},
   "outputs": [
    {
     "name": "stdout",
     "output_type": "stream",
     "text": [
      "97 + 90839137 = 90839234\n"
     ]
    }
   ],
   "source": [
    "even_number = 90839234\n",
    "res = goldbach_conjecture(even_number)\n",
    "print(f\"{res[0]} + {res[1]} = {even_number}\")"
   ]
  }
 ],
 "metadata": {
  "kernelspec": {
   "display_name": "base",
   "language": "python",
   "name": "python3"
  },
  "language_info": {
   "codemirror_mode": {
    "name": "ipython",
    "version": 3
   },
   "file_extension": ".py",
   "mimetype": "text/x-python",
   "name": "python",
   "nbconvert_exporter": "python",
   "pygments_lexer": "ipython3",
   "version": "3.12.1"
  }
 },
 "nbformat": 4,
 "nbformat_minor": 2
}
