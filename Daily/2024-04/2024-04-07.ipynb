{
 "cells": [
  {
   "cell_type": "markdown",
   "id": "7a8f9edf1b6f640d",
   "metadata": {
    "collapsed": false
   },
   "source": [
    "Good morning! Here's your coding interview problem for today. This problem was asked by Lyft. \n",
    "Given a list of integers and a number K, return which contiguous elements of the list sum to K. For example, if the list is [1, 2, 3, 4, 5] and K is 9, then it should return [2, 3, 4], since 2 + 3 + 4 = 9."
   ]
  },
  {
   "cell_type": "markdown",
   "id": "bfda01c0ea3321ad",
   "metadata": {
    "collapsed": false
   },
   "source": [
    "To solve this problem in Python, you can use a sliding window technique. The idea is to iterate over the list while keeping track of the current sum and the start and end indices of the current window. When the sum becomes greater than K, you shrink the window from the left. When the sum equals K, you return the current window's elements, and then continue to look for other possible contiguous elements.  Here's a Python function that implements this logic:"
   ]
  },
  {
   "cell_type": "code",
   "execution_count": 1,
   "id": "d92c383b4cfaf13a",
   "metadata": {
    "collapsed": false
   },
   "outputs": [],
   "source": [
    "def find_subarrays_with_sum(nums, K):\n",
    "    sum_index_map = {0: -1}\n",
    "    current_sum = 0\n",
    "    res = []\n",
    "\n",
    "    for i, num in enumerate(nums):\n",
    "        current_sum += num\n",
    "        pre_index = sum_index_map.get(current_sum - K, None)\n",
    "        if pre_index is not None:\n",
    "            res.append(nums[pre_index + 1 : i + 1])\n",
    "        sum_index_map[current_sum] = i\n",
    "\n",
    "    return res"
   ]
  },
  {
   "cell_type": "code",
   "execution_count": 2,
   "id": "ce2f8351",
   "metadata": {},
   "outputs": [
    {
     "name": "stdout",
     "output_type": "stream",
     "text": [
      "[[2, 3, 4], [4, 5]]\n"
     ]
    }
   ],
   "source": [
    "nums = [1,2,3,4,5]\n",
    "K = 9\n",
    "print(find_subarrays_with_sum(nums,K))"
   ]
  }
 ],
 "metadata": {
  "kernelspec": {
   "display_name": "Python 3",
   "language": "python",
   "name": "python3"
  },
  "language_info": {
   "codemirror_mode": {
    "name": "ipython",
    "version": 3
   },
   "file_extension": ".py",
   "mimetype": "text/x-python",
   "name": "python",
   "nbconvert_exporter": "python",
   "pygments_lexer": "ipython3",
   "version": "3.12.1"
  }
 },
 "nbformat": 4,
 "nbformat_minor": 5
}
