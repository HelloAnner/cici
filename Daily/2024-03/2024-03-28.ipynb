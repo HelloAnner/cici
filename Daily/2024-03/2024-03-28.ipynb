{
 "cells": [
  {
   "cell_type": "markdown",
   "metadata": {},
   "source": [
    "Good morning! Here's your coding interview problem for today.\n",
    "\n",
    "This problem was asked by Airbnb.\n",
    "\n",
    "We're given a hashmap associating each courseId key with a list of courseIds values, which represents that the prerequisites of courseId are courseIds. Return a sorted ordering of courses such that we can finish all courses.\n",
    "\n",
    "Return null if there is no such ordering.\n",
    "\n",
    "For example, given {'CSC300': ['CSC100', 'CSC200'], 'CSC200': ['CSC100'], 'CSC100': []}, should return ['CSC100', 'CSC200', 'CSCS300']."
   ]
  },
  {
   "cell_type": "markdown",
   "source": [],
   "metadata": {
    "collapsed": false
   }
  },
  {
   "cell_type": "code",
   "execution_count": 1,
   "metadata": {
    "vscode": {
     "languageId": "plaintext"
    },
    "ExecuteTime": {
     "end_time": "2024-03-29T14:13:02.418718Z",
     "start_time": "2024-03-29T14:13:02.415457Z"
    }
   },
   "outputs": [],
   "source": [
    "def sort_course_id(course_id):\n",
    "    a = []\n",
    "    for k in course_id:\n",
    "        v = k , len(course_id[k])\n",
    "        a.append(v)\n",
    "    \n",
    "    a.sort(key=lambda x:x[1])\n",
    "    b = [b[0] for b in a]\n",
    "    \n",
    "    return b"
   ]
  },
  {
   "cell_type": "code",
   "outputs": [
    {
     "name": "stdout",
     "output_type": "stream",
     "text": [
      "['CSC100', 'CSC200', 'CSC300']\n"
     ]
    }
   ],
   "source": [
    "course_id = {'CSC300': ['CSC100', 'CSC200'], 'CSC200': ['CSC100'], 'CSC100': []}\n",
    "result = sort_course_id(course_id)\n",
    "print(result)"
   ],
   "metadata": {
    "collapsed": false,
    "ExecuteTime": {
     "end_time": "2024-03-29T14:13:37.886991Z",
     "start_time": "2024-03-29T14:13:37.883716Z"
    }
   },
   "execution_count": 2
  },
  {
   "cell_type": "code",
   "outputs": [],
   "source": [],
   "metadata": {
    "collapsed": false
   }
  }
 ],
 "metadata": {
  "language_info": {
   "name": "python"
  },
  "kernelspec": {
   "name": "python3",
   "language": "python",
   "display_name": "Python 3 (ipykernel)"
  }
 },
 "nbformat": 4,
 "nbformat_minor": 2
}
