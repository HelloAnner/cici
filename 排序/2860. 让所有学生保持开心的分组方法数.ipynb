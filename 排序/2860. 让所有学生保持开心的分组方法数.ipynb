{
 "cells": [
  {
   "metadata": {},
   "cell_type": "markdown",
   "source": [
    "给你一个下标从 0 开始、长度为 n 的整数数组 nums ，其中 n 是班级中学生的总数。班主任希望能够在让所有学生保持开心的情况下选出一组学生：\n",
    "\n",
    "如果能够满足下述两个条件之一，则认为第 i 位学生将会保持开心：\n",
    "\n",
    "这位学生被选中，并且被选中的学生人数 严格大于 nums[i] 。\n",
    "这位学生没有被选中，并且被选中的学生人数 严格小于 nums[i] 。\n",
    "返回能够满足让所有学生保持开心的分组方法的数目。\n",
    "\n"
   ],
   "id": "7fd00b1c34ddfeae"
  },
  {
   "cell_type": "code",
   "execution_count": null,
   "id": "initial_id",
   "metadata": {
    "collapsed": true
   },
   "outputs": [],
   "source": [
    "from itertools import pairwise\n",
    "from typing import List\n",
    "\n",
    "\n",
    "class Solution:\n",
    "    def countWays(self, nums: List[int]) -> int:\n",
    "        nums.sort()\n",
    "        ans = nums[0] > 0  # 一个学生都不选\n",
    "        for i, (x, y) in enumerate(pairwise(nums), 1):\n",
    "            if x < i < y:\n",
    "                ans += 1\n",
    "        return ans + 1  # 一定可以都选"
   ]
  }
 ],
 "metadata": {
  "kernelspec": {
   "display_name": "Python 3",
   "language": "python",
   "name": "python3"
  },
  "language_info": {
   "codemirror_mode": {
    "name": "ipython",
    "version": 2
   },
   "file_extension": ".py",
   "mimetype": "text/x-python",
   "name": "python",
   "nbconvert_exporter": "python",
   "pygments_lexer": "ipython2",
   "version": "2.7.6"
  }
 },
 "nbformat": 4,
 "nbformat_minor": 5
}
