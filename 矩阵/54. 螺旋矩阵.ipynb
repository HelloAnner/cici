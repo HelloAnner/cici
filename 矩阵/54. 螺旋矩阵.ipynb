{
 "cells": [
  {
   "cell_type": "markdown",
   "metadata": {},
   "source": [
    "给你一个 m 行 n 列的矩阵 matrix ，请按照 顺时针螺旋顺序 ，返回矩阵中的所有元素。\n",
    "输入：matrix = [[1,2,3],[4,5,6],[7,8,9]]\n",
    "输出：[1,2,3,6,9,8,7,4,5]"
   ]
  },
  {
   "cell_type": "code",
   "execution_count": null,
   "metadata": {},
   "outputs": [],
   "source": [
    "from typing import List\n",
    "\n",
    "\n",
    "class Solution:\n",
    "    def spiralOrder(self, matrix: List[List[int]]) -> List[int]:\n",
    "        if not matrix:\n",
    "            return []\n",
    "        l, r, t, b, res = 0, len(matrix[0]) - 1, 0, len(matrix) - 1, []\n",
    "        while True:\n",
    "            for i in range(l, r + 1):\n",
    "                res.append(matrix[t][i])  # left to right\n",
    "            t += 1\n",
    "            if t > b:\n",
    "                break\n",
    "            for i in range(t, b + 1):\n",
    "                res.append(matrix[i][r])  # top to bottom\n",
    "            r -= 1\n",
    "            if l > r:\n",
    "                break\n",
    "            for i in range(r, l - 1, -1):\n",
    "                res.append(matrix[b][i])  # right to left\n",
    "            b -= 1\n",
    "            if t > b:\n",
    "                break\n",
    "            for i in range(b, t - 1, -1):\n",
    "                res.append(matrix[i][l])  # bottom to top\n",
    "            l += 1\n",
    "            if l > r:\n",
    "                break\n",
    "        return res"
   ]
  }
 ],
 "metadata": {
  "language_info": {
   "name": "python"
  }
 },
 "nbformat": 4,
 "nbformat_minor": 2
}
