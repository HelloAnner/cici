{
 "cells": [
  {
   "cell_type": "markdown",
   "metadata": {},
   "source": [
    "请你判断一个 9 x 9 的数独是否有效。只需要 根据以下规则 ，验证已经填入的数字是否有效即可。\n",
    "\n",
    "数字 1-9 在每一行只能出现一次。\n",
    "数字 1-9 在每一列只能出现一次。\n",
    "数字 1-9 在每一个以粗实线分隔的 3x3 宫内只能出现一次。"
   ]
  },
  {
   "cell_type": "code",
   "execution_count": null,
   "metadata": {},
   "outputs": [],
   "source": []
  }
 ],
 "metadata": {
  "language_info": {
   "name": "python"
  }
 },
 "nbformat": 4,
 "nbformat_minor": 2
}
