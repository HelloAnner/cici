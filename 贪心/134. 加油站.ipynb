{
 "cells": [
  {
   "cell_type": "markdown",
   "metadata": {},
   "source": [
    "在一条环路上有 n 个加油站，其中第 i 个加油站有汽油 gas[i] 升。\n",
    "\n",
    "你有一辆油箱容量无限的的汽车，从第 i 个加油站开往第 i+1 个加油站需要消耗汽油 cost[i] 升。你从其中的一个加油站出发，开始时油箱为空。\n",
    "\n",
    "给定两个整数数组 gas 和 cost ，如果你可以按顺序绕环路行驶一周，则返回出发时加油站的编号，否则返回 -1 。如果存在解，则 保证 它是 唯一 的。\n",
    "\n",
    " "
   ]
  },
  {
   "cell_type": "markdown",
   "metadata": {},
   "source": [
    "直接从全局进行贪心选择，情况如下：\n",
    "\n",
    "情况一：如果gas的总和小于cost总和，那么无论从哪里出发，一定是跑不了一圈的\n",
    "\n",
    "情况二：rest[i] = gas[i]-cost[i]为一天剩下的油，i从0开始计算累加到最后一站，如果累加没有出现负数，说明从0出发，油就没有断过，那么0就是起点。\n",
    "\n",
    "情况三：如果累加的最小值是负数，汽车就要从非0节点出发，从后向前，看哪个节点能把这个负数填平，能把这个负数填平的节点就是出发节点。"
   ]
  },
  {
   "cell_type": "code",
   "execution_count": null,
   "metadata": {},
   "outputs": [],
   "source": [
    "from typing import List\n",
    "\n",
    "\n",
    "class Solution:\n",
    "    def canCompleteCircuit(self, gas: List[int], cost: List[int]) -> int:\n",
    "        cur_sum = 0\n",
    "        min_val = float(\"inf\")\n",
    "        for i in range(len(gas)):\n",
    "            rest = gas[i] - cost[i]\n",
    "            cur_sum += rest\n",
    "            if cur_sum < min_val:\n",
    "                min_val = cur_sum\n",
    "        if cur_sum < 0:\n",
    "            return -1\n",
    "        if min_val >= 0:\n",
    "            return 0\n",
    "        for i in range(len(gas) - 1, -1, -1):\n",
    "            rest = gas[i] - cost[i]\n",
    "            min_val += rest\n",
    "            if min_val >= 0:\n",
    "                return i\n",
    "        return -1"
   ]
  }
 ],
 "metadata": {
  "language_info": {
   "name": "python"
  }
 },
 "nbformat": 4,
 "nbformat_minor": 2
}
