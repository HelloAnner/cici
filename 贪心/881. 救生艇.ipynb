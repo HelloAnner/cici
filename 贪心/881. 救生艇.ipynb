{
 "cells": [
  {
   "cell_type": "markdown",
   "metadata": {},
   "source": [
    "给定数组 people 。people[i]表示第 i 个人的体重 ，船的数量不限，每艘船可以承载的最大重量为 limit。\n",
    "\n",
    "每艘船最多可同时载两人，但条件是这些人的重量之和最多为 limit。\n",
    "\n",
    "返回 承载所有人所需的最小船数 。"
   ]
  },
  {
   "cell_type": "code",
   "execution_count": null,
   "metadata": {},
   "outputs": [],
   "source": [
    "from typing import List\n",
    "\n",
    "\n",
    "class Solution:\n",
    "    def numRescueBoats(self, people: List[int], limit: int) -> int:\n",
    "        ans = 0\n",
    "        people.sort()\n",
    "        light, heavy = 0, len(people) - 1\n",
    "        while light <= heavy:\n",
    "            if people[light] + people[heavy] > limit:\n",
    "                heavy -= 1\n",
    "            else:\n",
    "                light += 1\n",
    "                heavy -= 1\n",
    "            ans += 1\n",
    "        return ans\n",
    "            "
   ]
  }
 ],
 "metadata": {
  "language_info": {
   "name": "python"
  }
 },
 "nbformat": 4,
 "nbformat_minor": 2
}
