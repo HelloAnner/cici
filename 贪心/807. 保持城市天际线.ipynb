{
 "cells": [
  {
   "cell_type": "markdown",
   "metadata": {},
   "source": [
    "给你一座由 n x n 个街区组成的城市，每个街区都包含一座立方体建筑。给你一个下标从 0 开始的 n x n 整数矩阵 grid ，其中 grid[r][c] 表示坐落于 r 行 c 列的建筑物的 高度 。\n",
    "\n",
    "城市的 天际线 是从远处观察城市时，所有建筑物形成的外部轮廓。从东、南、西、北四个主要方向观测到的 天际线 可能不同。\n",
    "\n",
    "我们被允许为 任意数量的建筑物 的高度增加 任意增量（不同建筑物的增量可能不同） 。 高度为 0 的建筑物的高度也可以增加。然而，增加的建筑物高度 不能影响 从任何主要方向观察城市得到的 天际线 。\n",
    "\n",
    "在 不改变 从任何主要方向观测到的城市 天际线 的前提下，返回建筑物可以增加的 最大高度增量总和 。\n",
    "\n",
    "\n",
    "输入：grid = [[3,0,8,4],[2,4,5,7],[9,2,6,3],[0,3,1,0]]\n",
    "输出：35\n",
    "解释：建筑物的高度如上图中心所示。\n",
    "用红色绘制从不同方向观看得到的天际线。\n",
    "在不影响天际线的情况下，增加建筑物的高度：\n",
    "gridNew = [ [8, 4, 8, 7],\n",
    "            [7, 4, 7, 7],\n",
    "            [9, 4, 8, 7],\n",
    "            [3, 3, 3, 3] ]\n",
    "\n"
   ]
  },
  {
   "cell_type": "code",
   "execution_count": null,
   "metadata": {},
   "outputs": [],
   "source": [
    "from typing import List\n",
    "\n",
    "\n",
    "class Solution:\n",
    "    def maxIncreaseKeepingSkyline(self, grid: List[List[int]]) -> int:\n",
    "        row_max = list(map(max, grid))\n",
    "        col_max = list(map(max, zip(*grid)))\n",
    "        ans = 0\n",
    "        for i, row in enumerate(grid):\n",
    "            for j, val in enumerate(row):\n",
    "                ans += min(row_max[i], col_max[j]) - val\n",
    "        return ans"
   ]
  }
 ],
 "metadata": {
  "language_info": {
   "name": "python"
  }
 },
 "nbformat": 4,
 "nbformat_minor": 2
}
