{
 "cells": [
  {
   "cell_type": "markdown",
   "metadata": {},
   "source": [
    "给你一个字符串 s 和一个整数 k 。\n",
    "\n",
    "定义函数 distance(s1, s2) ，用于衡量两个长度为 n 的字符串 s1 和 s2 之间的距离，即：\n",
    "\n",
    "字符 'a' 到 'z' 按 循环 顺序排列，对于区间 [0, n - 1] 中的 i ，计算所有「 s1[i] 和 s2[i] 之间 最小距离」的 和 。\n",
    "例如，distance(\"ab\", \"cd\") == 4 ，且 distance(\"a\", \"z\") == 1 。\n",
    "\n",
    "你可以对字符串 s 执行 任意次 操作。在每次操作中，可以将 s 中的一个字母 改变 为 任意 其他小写英文字母。\n",
    "\n",
    "返回一个字符串，表示在执行一些操作后你可以得到的 字典序最小 的字符串 t ，且满足 distance(s, t) <= k 。\n",
    "\n",
    "\n",
    "输入：s = \"zbbz\", k = 3\n",
    "输出：\"aaaz\"\n",
    "解释：在这个例子中，可以执行以下操作：\n",
    "将 s[0] 改为 'a' ，s 变为 \"abbz\" 。\n",
    "将 s[1] 改为 'a' ，s 变为 \"aabz\" 。\n",
    "将 s[2] 改为 'a' ，s 变为 \"aaaz\" 。\n",
    "\"zbbz\" 和 \"aaaz\" 之间的距离等于 k = 3 。\n",
    "可以证明 \"aaaz\" 是在任意次操作后能够得到的字典序最小的字符串。\n",
    "因此，答案是 \"aaaz\" 。"
   ]
  },
  {
   "cell_type": "markdown",
   "metadata": {},
   "source": [
    "存在两个条件需要满足，一个是字典序最小，一个是 dis 最小。 这里使用的是贪心算法\n",
    "\n",
    "从左到右遍历 s。\n",
    "如果把 s[i] 变成 a 的操作次数 dis≤k，那么就把 s[i] 变成 a，同时 k 减少 dis。\n",
    "否则无法变成 a，直接把 s[i] 减少 k，退出循环。"
   ]
  },
  {
   "cell_type": "code",
   "execution_count": null,
   "metadata": {},
   "outputs": [],
   "source": [
    "class Solution:\n",
    "    def getSmallestString(self, s: str, k: int) -> str:\n",
    "        s = list(s)\n",
    "        for i, c in enumerate(map(ord, s)):\n",
    "            dis = min(c - ord(\"a\"), ord(\"z\") - c + 1)\n",
    "            if dis > k:\n",
    "                s[i] = chr(c - k)\n",
    "                break\n",
    "            s[i] = \"a\"\n",
    "            k -= dis\n",
    "        return \"\".join(s)"
   ]
  }
 ],
 "metadata": {
  "language_info": {
   "name": "python"
  }
 },
 "nbformat": 4,
 "nbformat_minor": 2
}
