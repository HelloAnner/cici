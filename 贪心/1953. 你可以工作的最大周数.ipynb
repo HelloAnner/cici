{
 "cells": [
  {
   "cell_type": "markdown",
   "metadata": {},
   "source": [
    "给你 n 个项目，编号从 0 到 n - 1 。同时给你一个整数数组 milestones ，其中每个 milestones[i] 表示第 i 个项目中的阶段任务数量。\n",
    "\n",
    "你可以按下面两个规则参与项目中的工作：  \n",
    "\n",
    "每周，你将会完成 某一个 项目中的 恰好一个 阶段任务。你每周都 必须 工作。\n",
    "在 连续的 两周中，你 不能 参与并完成同一个项目中的两个阶段任务。\n",
    "一旦所有项目中的全部阶段任务都完成，或者仅剩余一个阶段任务都会导致你违反上面的规则，那么你将 停止工作 。注意，由于这些条件的限制，你可能无法完成所有阶段任务。\n",
    "\n",
    "返回在不违反上面规则的情况下你 最多 能工作多少周。"
   ]
  },
  {
   "cell_type": "markdown",
   "metadata": {},
   "source": [
    "考虑耗时最长的工作。假设我们需要 longest 周完成该工作，其余工作共计需要 rest 周完成。那么可以完成所有工作的充要条件是：  \n",
    "\n",
    "longest <=  rest + 1\n"
   ]
  },
  {
   "cell_type": "markdown",
   "metadata": {},
   "source": [
    "如果 longest <= rest + 1 ， 那么可以完成的所有的工作\n",
    "\n",
    "反之 ， 2 * rest + 1"
   ]
  },
  {
   "cell_type": "code",
   "execution_count": null,
   "metadata": {},
   "outputs": [],
   "source": [
    "from typing import List\n",
    "\n",
    "\n",
    "class Solution:\n",
    "    def numberOfWeeks(self, milestones: List[int]) -> int:\n",
    "        longest = max(milestones)\n",
    "        rest = sum(milestones) - longest\n",
    "\n",
    "        if longest > rest + 1:\n",
    "            return rest * 2 + 1\n",
    "        else:\n",
    "            return longest + rest"
   ]
  }
 ],
 "metadata": {
  "language_info": {
   "name": "python"
  }
 },
 "nbformat": 4,
 "nbformat_minor": 2
}
