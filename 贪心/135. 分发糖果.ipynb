{
 "cells": [
  {
   "cell_type": "markdown",
   "metadata": {},
   "source": [
    "n 个孩子站成一排。给你一个整数数组 ratings 表示每个孩子的评分。\n",
    "\n",
    "你需要按照以下要求，给这些孩子分发糖果：\n",
    "\n",
    "每个孩子至少分配到 1 个糖果。\n",
    "相邻两个孩子评分更高的孩子会获得更多的糖果。  \n",
    "\n",
    "请你给每个孩子分发糖果，计算并返回需要准备的 最少糖果数目 。\n",
    "\n",
    "输入：ratings = [1,0,2]\n",
    "输出：5\n",
    "解释：你可以分别给第一个、第二个、第三个孩子分发 2、1、2 颗糖果。"
   ]
  },
  {
   "cell_type": "markdown",
   "metadata": {},
   "source": [
    "方法一 ： \n",
    "\n",
    "我们可以将「相邻的孩子中，评分高的孩子必须获得更多的糖果」这句话拆分为两个规则，分别处理  \n",
    "\n",
    "遍历该数组两次，处理出每一个学生分别满足左规则或右规则时，最少需要被分得的糖果数量。每个人最终分得的糖果数量即为这两个数量的最大值。  "
   ]
  },
  {
   "cell_type": "code",
   "execution_count": null,
   "metadata": {},
   "outputs": [],
   "source": [
    "from typing import List\n",
    "\n",
    "\n",
    "class Solution:\n",
    "    def candy(self, ratings: List[int]) -> int:\n",
    "        n = len(ratings)\n",
    "        left = [0] * n\n",
    "        for i in range(n):\n",
    "            if i > 0 and ratings[i] > ratings[i - 1]:\n",
    "                left[i] = left[i - 1] + 1\n",
    "            else:\n",
    "                left[i] = 1\n",
    "\n",
    "        right = ret = 0\n",
    "        for i in range(n - 1, -1, -1):\n",
    "            if i < n - 1 and ratings[i] > ratings[i + 1]:\n",
    "                right += 1\n",
    "            else:\n",
    "                right = 1\n",
    "            ret += max(left[i], right)\n",
    "\n",
    "        return ret"
   ]
  },
  {
   "cell_type": "markdown",
   "metadata": {},
   "source": [
    "方法二： \n",
    "\n",
    "注意到糖果总是尽量少给，且从 1 开始累计，每次要么比相邻的同学多给一个，要么重新置为 1。\n",
    "\n",
    "如果当前同学比上一个同学评分高，说明我们就在最近的递增序列中，直接分配给该同学 pre+1 个糖果即可。\n",
    "\n",
    "否则我们就在一个递减序列中，我们直接分配给当前同学一个糖果，并把该同学所在的递减序列中所有的同学都再多分配一个糖果，以保证糖果数量还是满足条件。\n",
    "\n",
    "我们无需显式地额外分配糖果，只需要记录当前的递减序列长度，即可知道需要额外分配的糖果数量。\n",
    "\n",
    "同时注意当当前的递减序列长度和上一个递增序列等长时，需要把最近的递增序列的最后一个同学也并进递减序列中。\n",
    "\n",
    "\n",
    "这样，我们只要记录当前递减序列的长度 dec，最近的递增序列的长度 inc 和前一个同学分得的糖果数量 pre 即可。\n"
   ]
  },
  {
   "cell_type": "code",
   "execution_count": null,
   "metadata": {},
   "outputs": [],
   "source": [
    "from typing import List\n",
    "\n",
    "\n",
    "class Solution:\n",
    "    def candy(self, ratings: List[int]) -> int:\n",
    "        n = len(ratings)\n",
    "        ret = 1\n",
    "        inc, dec, pre = 1, 0, 1\n",
    "\n",
    "        for i in range(1, n):\n",
    "            if ratings[i] >= ratings[i - 1]:\n",
    "                dec = 0\n",
    "                pre = 1 if ratings[i] == ratings[i - 1] else pre + 1\n",
    "                ret += pre\n",
    "                inc = pre\n",
    "            else:\n",
    "                dec += 1\n",
    "                if dec == inc:\n",
    "                    dec += 1\n",
    "                ret += dec\n",
    "                pre = 1\n",
    "\n",
    "        return ret"
   ]
  }
 ],
 "metadata": {
  "language_info": {
   "name": "python"
  }
 },
 "nbformat": 4,
 "nbformat_minor": 2
}
