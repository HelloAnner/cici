{
 "cells": [
  {
   "cell_type": "markdown",
   "metadata": {},
   "source": [
    "给定一个单词数组 words 和一个长度 maxWidth ，重新排版单词，使其成为每行恰好有 maxWidth 个字符，且左右两端对齐的文本。\n",
    "\n",
    "你应该使用 “贪心算法” 来放置给定的单词；也就是说，尽可能多地往每行中放置单词。必要时可用空格 ' ' 填充，使得每行恰好有 maxWidth 个字符。\n",
    "\n",
    "要求尽可能均匀分配单词间的空格数量。如果某一行单词间的空格不能均匀分配，则左侧放置的空格数要多于右侧的空格数。\n",
    "\n",
    "文本的最后一行应为左对齐，且单词之间不插入额外的空格。"
   ]
  },
  {
   "cell_type": "code",
   "execution_count": null,
   "metadata": {},
   "outputs": [],
   "source": [
    "# blank 返回长度为 n 的由空格组成的字符串\n",
    "from typing import List\n",
    "\n",
    "\n",
    "def blank(n: int) -> str:\n",
    "    return ' ' * n\n",
    "\n",
    "class Solution:\n",
    "    def fullJustify(self, words: List[str], maxWidth: int) -> List[str]:\n",
    "        ans = []\n",
    "        right, n = 0, len(words)\n",
    "        while True:\n",
    "            left = right  # 当前行的第一个单词在 words 的位置\n",
    "            sumLen = 0  # 统计这一行单词长度之和\n",
    "            # 循环确定当前行可以放多少单词，注意单词之间应至少有一个空格\n",
    "            while right < n and sumLen + len(words[right]) + right - left <= maxWidth:\n",
    "                sumLen += len(words[right])\n",
    "                right += 1\n",
    "\n",
    "            # 当前行是最后一行：单词左对齐，且单词之间应只有一个空格，在行末填充剩余空格\n",
    "            if right == n:\n",
    "                s = \" \".join(words[left:])\n",
    "                ans.append(s + blank(maxWidth - len(s)))\n",
    "                break\n",
    "\n",
    "            numWords = right - left\n",
    "            numSpaces = maxWidth - sumLen\n",
    "\n",
    "            # 当前行只有一个单词：该单词左对齐，在行末填充空格\n",
    "            if numWords == 1:\n",
    "                ans.append(words[left] + blank(numSpaces))\n",
    "                continue\n",
    "\n",
    "            # 当前行不只一个单词\n",
    "            avgSpaces = numSpaces // (numWords - 1)\n",
    "            extraSpaces = numSpaces % (numWords - 1)\n",
    "            s1 = blank(avgSpaces + 1).join(words[left:left + extraSpaces + 1])  # 拼接额外加一个空格的单词\n",
    "            s2 = blank(avgSpaces).join(words[left + extraSpaces + 1:right])  # 拼接其余单词\n",
    "            ans.append(s1 + blank(avgSpaces) + s2)\n",
    "\n",
    "        return ans"
   ]
  }
 ],
 "metadata": {
  "language_info": {
   "name": "python"
  }
 },
 "nbformat": 4,
 "nbformat_minor": 2
}
