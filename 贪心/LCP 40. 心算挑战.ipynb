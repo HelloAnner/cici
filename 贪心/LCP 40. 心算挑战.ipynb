{
 "cells": [
  {
   "cell_type": "markdown",
   "metadata": {},
   "source": [
    "「力扣挑战赛」心算项目的挑战比赛中，要求选手从 N 张卡牌中选出 cnt 张卡牌，若这 cnt 张卡牌数字总和为偶数，则选手成绩「有效」且得分为 cnt 张卡牌数字总和。 给定数组 cards 和 cnt，其中 cards[i] 表示第 i 张卡牌上的数字。 请帮参赛选手计算最大的有效得分。若不存在获取有效得分的卡牌方案，则返回 0。\n",
    "\n",
    "输入：cards = [1,2,8,9], cnt = 3\n",
    "输出：18\n",
    "解释：选择数字为 1、8、9 的这三张卡牌，此时可获得最大的有效得分 1+8+9=18。"
   ]
  },
  {
   "cell_type": "markdown",
   "metadata": {},
   "source": [
    "将 cards 从大到小排序后，先贪心的将前 cnt 个数字加起来，若此时 sum 为偶数，直接返回即可。\n",
    "\n",
    "若此时答案为奇数，有两种方案:\n",
    "\n",
    "在数组后面找到一个最大的奇数与前 cnt 个数中最小的偶数进行替换；\n",
    "\n",
    "在数组后面找到一个最大的偶数与前 cnt 个数中最小的奇数进行替换。\n",
    "\n",
    "两种方案选最大值即可。\n"
   ]
  },
  {
   "cell_type": "code",
   "execution_count": null,
   "metadata": {},
   "outputs": [],
   "source": [
    "from typing import List\n",
    "\n",
    "\n",
    "class Solution:\n",
    "    def maxmiumScore(self, cards: List[int], cnt: int) -> int:\n",
    "        cards.sort(reverse=True)\n",
    "        ans = 0\n",
    "        tmp = 0\n",
    "        odd = even = -1\n",
    "        for i in range(cnt):\n",
    "            tmp += cards[i]\n",
    "            if cards[i] % 2 == 1:\n",
    "                odd = cards[i]\n",
    "            else:\n",
    "                even = cards[i]\n",
    "        if tmp % 2 == 0:\n",
    "            return tmp\n",
    "        for i in range(cnt, len(cards)):\n",
    "            if cards[i] % 2 == 1:\n",
    "                if even != -1:\n",
    "                    ans = max(ans, tmp - even + cards[i])\n",
    "            else:\n",
    "                if odd != -1:\n",
    "                    ans = max(ans, tmp - odd + cards[i])\n",
    "        return ans"
   ]
  }
 ],
 "metadata": {
  "language_info": {
   "name": "python"
  }
 },
 "nbformat": 4,
 "nbformat_minor": 2
}
