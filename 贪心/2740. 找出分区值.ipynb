{
 "cells": [
  {
   "cell_type": "markdown",
   "metadata": {},
   "source": [
    "给你一个 正 整数数组 nums 。\n",
    "\n",
    "将 nums 分成两个数组：nums1 和 nums2 ，并满足下述条件：\n",
    "\n",
    "数组 nums 中的每个元素都属于数组 nums1 或数组 nums2 。\n",
    "两个数组都 非空 。\n",
    "分区值 最小 。\n",
    "分区值的计算方法是 |max(nums1) - min(nums2)| 。\n",
    "\n",
    "其中，max(nums1) 表示数组 nums1 中的最大元素，min(nums2) 表示数组 nums2 中的最小元素。\n",
    "\n",
    "返回表示分区值的整数。\n",
    "\n",
    "示例 1：\n",
    "输入：nums = [1,3,2,4]\n",
    "输出：1\n",
    "解释：可以将数组 nums 分成 nums1 = [1,2] 和 nums2 = [3,4] 。\n",
    "- 数组 nums1 的最大值等于 2 。\n",
    "- 数组 nums2 的最小值等于 3 。\n",
    "分区值等于 |2 - 3| = 1 。\n",
    "可以证明 1 是所有分区方案的最小值。"
   ]
  },
  {
   "cell_type": "code",
   "execution_count": null,
   "metadata": {},
   "outputs": [],
   "source": [
    "from itertools import pairwise\n",
    "from typing import List\n",
    "\n",
    "\n",
    "class Solution:\n",
    "    def findValueOfPartition(self, nums: List[int]) -> int:\n",
    "        nums.sort()\n",
    "        return min(y - x for x, y in pairwise(nums))"
   ]
  }
 ],
 "metadata": {
  "language_info": {
   "name": "python"
  }
 },
 "nbformat": 4,
 "nbformat_minor": 2
}
