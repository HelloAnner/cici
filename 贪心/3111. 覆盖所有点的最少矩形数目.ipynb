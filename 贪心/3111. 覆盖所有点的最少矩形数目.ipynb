{
 "cells": [
  {
   "cell_type": "markdown",
   "metadata": {},
   "source": [
    "给你一个二维整数数组 point ，其中 points[i] = [xi, yi] 表示二维平面内的一个点。同时给你一个整数 w 。你需要用矩形 覆盖所有 点。\n",
    "\n",
    "每个矩形的左下角在某个点 (x1, 0) 处，且右上角在某个点 (x2, y2) 处，其中 x1 <= x2 且 y2 >= 0 ，同时对于每个矩形都 必须 满足 x2 - x1 <= w 。\n",
    "\n",
    "如果一个点在矩形内或者在边上，我们说这个点被矩形覆盖了。\n",
    "\n",
    "请你在确保每个点都 至少 被一个矩形覆盖的前提下，最少 需要多少个矩形。\n",
    "\n",
    "注意：一个点可以被多个矩形覆盖。\n",
    "\n"
   ]
  },
  {
   "cell_type": "markdown",
   "metadata": {},
   "source": [
    "矩形的高没有限制，所以我们只需考虑点的横坐标。\n",
    "\n",
    "矩形越宽，覆盖的点越多，所以 x 2 ​ 应该恰好等于 x 1 ​ +w"
   ]
  },
  {
   "cell_type": "code",
   "execution_count": null,
   "metadata": {},
   "outputs": [],
   "source": [
    "from typing import List\n",
    "\n",
    "\n",
    "class Solution:\n",
    "    def minRectanglesToCoverPoints(self, points: List[List[int]], w: int) -> int:\n",
    "        points.sort(key=lambda p: p[0])\n",
    "        ans = 0\n",
    "        x2 = -1\n",
    "        for x, _ in points:\n",
    "            if x > x2:\n",
    "                ans += 1\n",
    "                x2 = x + w\n",
    "        return ans"
   ]
  }
 ],
 "metadata": {
  "language_info": {
   "name": "python"
  }
 },
 "nbformat": 4,
 "nbformat_minor": 2
}
