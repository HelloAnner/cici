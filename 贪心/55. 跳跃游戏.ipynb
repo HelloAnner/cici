{
 "cells": [
  {
   "cell_type": "markdown",
   "source": [
    "Given an integer list where each number represents the number of hops you can make, determine whether you can reach to the last index starting at index 0.\n",
    "\n",
    "For example, [2, 0, 1, 0] returns True while [1, 1, 0, 1] returns False.\n",
    "\n",
    "\n",
    "给你一个非负整数数组 nums ，你最初位于数组的 第一个下标 。数组中的每个元素代表你在该位置可以跳跃的最大长度。\n",
    "\n",
    "判断你是否能够到达最后一个下标，如果可以，返回 true ；否则，返回 false 。"
   ],
   "metadata": {
    "collapsed": false
   },
   "id": "851a88d8d936e55c"
  },
  {
   "cell_type": "markdown",
   "source": [
    "**不断刷新可以到的最大范围**"
   ],
   "metadata": {
    "collapsed": false
   },
   "id": "54fda9a95dc43915"
  },
  {
   "cell_type": "code",
   "outputs": [],
   "source": [
    "from typing import List\n",
    "\n",
    "\n",
    "class Solution:\n",
    "    def canJump(self, nums: List[int]) -> bool:\n",
    "        n, right_most = len(nums),0\n",
    "        for i in range(n):\n",
    "            if i<=right_most:\n",
    "                right_most = max(right_most,i+nums[i])\n",
    "                if right_most>=n-1:\n",
    "                    return True\n",
    "        return False"
   ],
   "metadata": {
    "collapsed": false
   },
   "id": "91cadc80f79e093f"
  }
 ],
 "metadata": {
  "kernelspec": {
   "display_name": "Python 3",
   "language": "python",
   "name": "python3"
  },
  "language_info": {
   "codemirror_mode": {
    "name": "ipython",
    "version": 2
   },
   "file_extension": ".py",
   "mimetype": "text/x-python",
   "name": "python",
   "nbconvert_exporter": "python",
   "pygments_lexer": "ipython2",
   "version": "2.7.6"
  }
 },
 "nbformat": 4,
 "nbformat_minor": 5
}
