{
 "cells": [
  {
   "cell_type": "markdown",
   "metadata": {},
   "source": [
    "给你两个整数数组 nums1 和 nums2。\n",
    "从 nums1 中移除两个元素，并且所有其他元素都与变量 x 所表示的整数相加。如果 x 为负数，则表现为元素值的减少。\n",
    "执行上述操作后，nums1 和 nums2 相等 。当两个数组中包含相同的整数，并且这些整数出现的频次相同时，两个数组 相等 。\n",
    "返回能够实现数组相等的 最小 整数 x 。\n",
    "\n",
    "示例 1:\n",
    "输入：nums1 = [4,20,16,12,8], nums2 = [14,18,10]\n",
    "输出：-2\n",
    "\n",
    "解释：\n",
    "移除 nums1 中下标为 [0,4] 的两个元素，并且每个元素与 -2 相加后，nums1 变为 [18,14,10] ，与 nums2 相等。\n"
   ]
  },
  {
   "cell_type": "code",
   "execution_count": null,
   "metadata": {},
   "outputs": [],
   "source": [
    "class Solution:\n",
    "    def minimumAddedInteger(self, nums1: List[int], nums2: List[int]) -> int:\n",
    "        nums1.sort()\n",
    "        nums2.sort()\n",
    "        for i in range(2, 0, -1):\n",
    "            x = nums2[0] - nums1[i]\n",
    "            it = iter(nums1[i:])\n",
    "            # 判断 {nums2[j] - x} 是否为 nums1[i:] 的子序列\n",
    "            # in 会消耗迭代器\n",
    "            if all(v - x in it for v in nums2):\n",
    "                return x\n",
    "        return nums2[0] - nums1[0]"
   ]
  }
 ],
 "metadata": {
  "language_info": {
   "name": "python"
  }
 },
 "nbformat": 4,
 "nbformat_minor": 2
}
