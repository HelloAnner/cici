{
 "cells": [
  {
   "cell_type": "markdown",
   "metadata": {},
   "source": [
    "给定一个数值数组和一个索引 i，返回索引 i 处的数值的最近较大数的索引，其中距离以数组索引为单位进行计算。\n",
    "\n",
    "例如，给定数组 [4, 1, 3, 5, 6] 和索引 0，应该返回 3。\n",
    "\n",
    "如果两个较大数的距离相等，则可以返回其中任意一个。如果索引 i 处的数组元素没有最近的较大整数，则返回 null。\n",
    "\n",
    "进一步提问：如果可以预处理数组，是否可以在常数时间内完成这个任务？"
   ]
  },
  {
   "cell_type": "code",
   "execution_count": null,
   "metadata": {},
   "outputs": [],
   "source": [
    "from typing import List\n",
    "\n",
    "\n",
    "def find_nearest_larger(nums: List[int], index: int):\n",
    "    target = nums[index]\n",
    "    min_distance = float(\"inf\")\n",
    "    res_index = None\n",
    "    for i in range(len(nums)):\n",
    "        if nums[i] > target and abs(i - index) < min_distance:\n",
    "            min_distance = abs(i - index)\n",
    "            res_index = i\n",
    "    return res_index"
   ]
  }
 ],
 "metadata": {
  "language_info": {
   "name": "python"
  }
 },
 "nbformat": 4,
 "nbformat_minor": 2
}
