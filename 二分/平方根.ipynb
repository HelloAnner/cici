{
 "cells": [
  {
   "cell_type": "markdown",
   "metadata": {},
   "source": [
    "直接调用接口计算"
   ]
  },
  {
   "cell_type": "code",
   "execution_count": 2,
   "metadata": {},
   "outputs": [
    {
     "name": "stdout",
     "output_type": "stream",
     "text": [
      "9.9498743710662\n"
     ]
    }
   ],
   "source": [
    "import math\n",
    "\n",
    "\n",
    "n = 99\n",
    "print(math.sqrt(n))"
   ]
  },
  {
   "cell_type": "code",
   "execution_count": 1,
   "metadata": {},
   "outputs": [
    {
     "name": "stdout",
     "output_type": "stream",
     "text": [
      "9.949874371047372\n"
     ]
    }
   ],
   "source": [
    "def find_square_root(n):\n",
    "    if n < 0:\n",
    "        raise ValueError(\"n must >= 0\")\n",
    "    if n == 0:\n",
    "        return 0\n",
    "    low, high = 0, n\n",
    "    while True:\n",
    "        mid = (low+ high) / 2\n",
    "        square = mid * mid\n",
    "        if abs(square-n) < 1e-9:\n",
    "            return mid\n",
    "        elif square < n:\n",
    "            low = mid\n",
    "        else:\n",
    "            high = mid\n",
    "\n",
    "n = 99\n",
    "print(find_square_root(n))"
   ]
  }
 ],
 "metadata": {
  "kernelspec": {
   "display_name": "base",
   "language": "python",
   "name": "python3"
  },
  "language_info": {
   "codemirror_mode": {
    "name": "ipython",
    "version": 3
   },
   "file_extension": ".py",
   "mimetype": "text/x-python",
   "name": "python",
   "nbconvert_exporter": "python",
   "pygments_lexer": "ipython3",
   "version": "3.12.2"
  }
 },
 "nbformat": 4,
 "nbformat_minor": 2
}
