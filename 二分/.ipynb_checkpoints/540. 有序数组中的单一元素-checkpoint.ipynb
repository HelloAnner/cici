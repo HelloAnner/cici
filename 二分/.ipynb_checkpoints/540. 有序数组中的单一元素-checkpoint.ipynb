{
 "cells": [
  {
   "cell_type": "markdown",
   "metadata": {},
   "source": [
    "给定一个只包含整数的有序数组 nums ，每个元素都会出现两次，唯有一个数只会出现一次，请找出这个唯一的数字。\n",
    "\n",
    "采用的方案可以在 O(log n) 时间复杂度和 O(1) 空间复杂度中运行\n",
    "\n",
    "![](images/2024-04-23-08-20-16.png)"
   ]
  },
  {
   "cell_type": "code",
   "execution_count": null,
   "metadata": {},
   "outputs": [],
   "source": [
    "from typing import List\n",
    "\n",
    "\n",
    "class Solution:\n",
    "    def singleNonDuplicate(self, nums: List[int]) -> int:\n",
    "        low, high = 0, len(nums) - 1\n",
    "        while low < high:\n",
    "            mid = (low + high) // 2\n",
    "            if nums[mid] == nums[mid ^ 1]:\n",
    "                low = mid + 1\n",
    "            else:\n",
    "                high = mid\n",
    "        return nums[low]"
   ]
  }
 ],
 "metadata": {
  "language_info": {
   "name": "python"
  }
 },
 "nbformat": 4,
 "nbformat_minor": 2
}
