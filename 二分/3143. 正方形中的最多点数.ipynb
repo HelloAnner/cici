{
 "cells": [
  {
   "cell_type": "markdown",
   "metadata": {},
   "source": [
    "给你一个二维数组 points 和一个字符串 s ，其中 points[i] 表示第 i 个点的坐标，s[i] 表示第 i 个点的 标签 。\n",
    "\n",
    "如果一个正方形的中心在 (0, 0) ，所有边都平行于坐标轴，且正方形内 不 存在标签相同的两个点，那么我们称这个正方形是 合法的。\n",
    "\n",
    "请你返回 合法 正方形中可以包含的 最多 点数。\n",
    "\n",
    "注意：\n",
    "如果一个点位于正方形的边上或者在边以内，则认为该点位于正方形内。\n",
    "正方形的边长可以为零。"
   ]
  },
  {
   "cell_type": "markdown",
   "metadata": {},
   "source": [
    "由于正方形边长越大，越不合法，有单调性，所以可以二分边长的一半。\n",
    "\n",
    "在二分中统计遇到的字符，如果没有遇到重复的字符，则正方形合法，则用字符个数更新答案的最大值。\n",
    "\n",
    "就是一个无限逼近最大的合法正方形的过程"
   ]
  },
  {
   "cell_type": "code",
   "execution_count": null,
   "metadata": {},
   "outputs": [],
   "source": [
    "from bisect import bisect_left\n",
    "from typing import List\n",
    "\n",
    "\n",
    "class Solution:\n",
    "    def maxPointsInsideSquare(self, points: List[List[int]], s: str) -> int:\n",
    "        ans = 0\n",
    "\n",
    "        def check(size: int) -> bool:\n",
    "            vis = set()\n",
    "            for (x, y), c in zip(points, s):\n",
    "                # 点在正方形\n",
    "                if abs(x) <= size and abs(y) <= size:\n",
    "                    if c in vis:\n",
    "                        return True\n",
    "                    vis.add(c)\n",
    "            nonlocal ans\n",
    "            ans = len(vis)\n",
    "            return False\n",
    "\n",
    "        bisect_left(range(1_000_000_001), True, key=check)\n",
    "        return ans"
   ]
  }
 ],
 "metadata": {
  "language_info": {
   "name": "python"
  }
 },
 "nbformat": 4,
 "nbformat_minor": 2
}
