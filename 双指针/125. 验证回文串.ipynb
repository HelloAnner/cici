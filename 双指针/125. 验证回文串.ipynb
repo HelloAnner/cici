{
 "cells": [
  {
   "cell_type": "markdown",
   "metadata": {},
   "source": [
    "如果在将所有大写字符转换为小写字符、并移除所有非字母数字字符之后，短语正着读和反着读都一样。则可以认为该短语是一个 回文串 。\n",
    "\n",
    "字母和数字都属于字母数字字符。\n",
    "\n",
    "给你一个字符串 s，如果它是 回文串 ，返回 true ；否则，返回 false 。\n",
    "\n",
    "\n",
    "示例 1：\n",
    "输入: s = \"A man, a plan, a canal: Panama\"\n",
    "输出：true\n",
    "解释：\"amanaplanacanalpanama\" 是回文串。"
   ]
  },
  {
   "cell_type": "code",
   "execution_count": null,
   "metadata": {},
   "outputs": [],
   "source": [
    "class Solution:\n",
    "    def isPalindrome(self, s: str) -> bool:\n",
    "        s_good = \"\".join(ch.lower() for ch in s if ch.isalnum())\n",
    "        return s_good == s_good[::-1]"
   ]
  },
  {
   "cell_type": "code",
   "execution_count": null,
   "metadata": {},
   "outputs": [],
   "source": [
    "class Solution:\n",
    "    def isPalindrome(self, s: str) -> bool:\n",
    "        sgood = \"\".join(ch.lower() for ch in s if ch.isalnum())\n",
    "        n = len(sgood)\n",
    "        left, right = 0, n - 1\n",
    "        while left < right:\n",
    "            if sgood[left] != sgood[right]:\n",
    "                return False\n",
    "            left, right = left + 1, right - 1\n",
    "        return True"
   ]
  }
 ],
 "metadata": {
  "language_info": {
   "name": "python"
  }
 },
 "nbformat": 4,
 "nbformat_minor": 2
}
