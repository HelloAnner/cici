{
 "cells": [
  {
   "cell_type": "markdown",
   "metadata": {},
   "source": [
    "以数组 intervals 表示若干个区间的集合，其中单个区间为 intervals[i] = [starti, endi] 。请你合并所有重叠的区间，并返回 一个不重叠的区间数组，该数组需恰好覆盖输入中的所有区间 。\n",
    "\n",
    "示例 1：\n",
    "输入：intervals = [[1,3],[2,6],[8,10],[15,18]]\n",
    "输出：[[1,6],[8,10],[15,18]]\n",
    "解释：区间 [1,3] 和 [2,6] 重叠, 将它们合并为 [1,6]."
   ]
  },
  {
   "cell_type": "code",
   "execution_count": null,
   "metadata": {},
   "outputs": [],
   "source": [
    "from typing import List\n",
    "\n",
    "\n",
    "class Solution:\n",
    "    def merge(self, intervals: List[List[int]]) -> List[List[int]]:\n",
    "        intervals.sort(key=lambda p: p[0])  # 按照左端点从小到大排序\n",
    "        ans = []\n",
    "        for p in intervals:\n",
    "            if ans and p[0] <= ans[-1][1]:\n",
    "                ans[-1][1] = max(ans[-1][1], p[1])\n",
    "            else:\n",
    "                ans.append(p)\n",
    "        return ans"
   ]
  }
 ],
 "metadata": {
  "language_info": {
   "name": "python"
  }
 },
 "nbformat": 4,
 "nbformat_minor": 2
}
