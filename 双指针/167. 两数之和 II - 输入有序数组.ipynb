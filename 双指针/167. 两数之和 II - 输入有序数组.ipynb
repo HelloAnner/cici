{
 "cells": [
  {
   "cell_type": "markdown",
   "metadata": {},
   "source": [
    "给你一个下标从 1 开始的整数数组 numbers ，该数组已按 非递减顺序排列  ，请你从数组中找出满足相加之和等于目标数 target 的两个数。如果设这两个数分别是 numbers[index1] 和 numbers[index2] ，则 1 <= index1 < index2 <= numbers.length 。\n",
    "\n",
    "以长度为 2 的整数数组 [index1, index2] 的形式返回这两个整数的下标 index1 和 index2。\n",
    "\n",
    "你可以假设每个输入 只对应唯一的答案 ，而且你 不可以 重复使用相同的元素。\n",
    "\n",
    "你所设计的解决方案必须只使用常量级的额外空间。"
   ]
  },
  {
   "cell_type": "code",
   "execution_count": null,
   "metadata": {},
   "outputs": [],
   "source": [
    "from typing import List\n",
    "\n",
    "\n",
    "class Solution:\n",
    "    def twoSum(self, numbers: List[int], target: int) -> List[int]:\n",
    "        low, high = 0, len(numbers) - 1\n",
    "        while low < high:\n",
    "            total = numbers[low] + numbers[high]\n",
    "            if total == target:\n",
    "                return [low + 1, high + 1]\n",
    "            elif total < target:\n",
    "                low += 1\n",
    "            else:\n",
    "                high -= 1\n",
    "        return [-1, -1]"
   ]
  }
 ],
 "metadata": {
  "language_info": {
   "name": "python"
  }
 },
 "nbformat": 4,
 "nbformat_minor": 2
}
