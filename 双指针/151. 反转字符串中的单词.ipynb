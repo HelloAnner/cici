{
 "cells": [
  {
   "cell_type": "markdown",
   "metadata": {},
   "source": [
    "给你一个字符串 s ，请你反转字符串中 单词 的顺序。\n",
    "\n",
    "单词 是由非空格字符组成的字符串。s 中使用至少一个空格将字符串中的 单词 分隔开。\n",
    "\n",
    "返回 单词 顺序颠倒且 单词 之间用单个空格连接的结果字符串。\n",
    "\n",
    "注意：输入字符串 s中可能会存在前导空格、尾随空格或者单词间的多个空格。返回的结果字符串中，单词间应当仅用单个空格分隔，且不包含任何额外的空格。"
   ]
  },
  {
   "cell_type": "code",
   "execution_count": null,
   "metadata": {},
   "outputs": [],
   "source": [
    "class Solution:\n",
    "    def reverseWords(self, s: str) -> str:\n",
    "        return \" \".join(reversed(s.split()))"
   ]
  },
  {
   "cell_type": "code",
   "execution_count": null,
   "metadata": {},
   "outputs": [],
   "source": [
    "import collections\n",
    "\n",
    "\n",
    "class Solution:\n",
    "    def reverseWords(self, s: str) -> str:\n",
    "        left, right = 0, len(s) - 1\n",
    "        # 去掉字符串开头的空白字符\n",
    "        while left <= right and s[left] == \" \":\n",
    "            left += 1\n",
    "\n",
    "        # 去掉字符串末尾的空白字符\n",
    "        while left <= right and s[right] == \" \":\n",
    "            right -= 1\n",
    "\n",
    "        d, word = collections.deque(), []\n",
    "        # 将单词 push 到队列的头部\n",
    "        while left <= right:\n",
    "            if s[left] == \" \" and word:\n",
    "                d.appendleft(\"\".join(word))\n",
    "                word = []\n",
    "            elif s[left] != \" \":\n",
    "                word.append(s[left])\n",
    "            left += 1\n",
    "        d.appendleft(\"\".join(word))\n",
    "\n",
    "        return \" \".join(d)"
   ]
  }
 ],
 "metadata": {
  "language_info": {
   "name": "python"
  }
 },
 "nbformat": 4,
 "nbformat_minor": 2
}
