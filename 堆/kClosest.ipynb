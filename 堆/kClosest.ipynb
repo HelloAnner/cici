{
 "cells": [
  {
   "cell_type": "markdown",
   "metadata": {},
   "source": [
    "Given a list of points, a central point, and an integer k, find the nearest k points from the central point.\n",
    "\n",
    "For example, given the list of points [(0, 0), (5, 4), (3, 1)], the central point (1, 2), and k = 2, return [(0, 0), (3, 1)]."
   ]
  },
  {
   "cell_type": "code",
   "execution_count": null,
   "metadata": {},
   "outputs": [],
   "source": [
    "import heapq\n",
    "import math\n",
    "\n",
    "\n",
    "def euclidean_distance(point1, point2):\n",
    "    \"\"\"Calculate the Euclidean distance between two points.\"\"\"\n",
    "    return math.sqrt((point1[0] - point2[0]) ** 2 + (point1[1] - point2[1]) ** 2)\n",
    "\n",
    "def find_nearest_k_points(points, central_point, k):\n",
    "    # 创建一个空的最小堆\n",
    "    min_heap = []\n",
    "\n",
    "    # 遍历所有点，计算与中心点的距离，并将其推入堆中\n",
    "    for point in points:\n",
    "        distance = (central_point[0] - point[0]) ** 2 + (\n",
    "            central_point[1] - point[1]\n",
    "        ) ** 2\n",
    "        heapq.heappush(min_heap, (distance, point))\n",
    "\n",
    "    # 从堆中弹出最小的 k 个元素\n",
    "    nearest_k_points = []\n",
    "    for _ in range(k):\n",
    "        _, point = heapq.heappop(min_heap)\n",
    "        nearest_k_points.append(point)\n",
    "\n",
    "    return nearest_k_points\n",
    "\n",
    "\n",
    "def find_nearest_k_points(points, central_point, k):\n",
    "    \"\"\"Find the k nearest points from the central point.\"\"\"\n",
    "    # Calculate distances and sort the points by distance\n",
    "    points_with_distance = [\n",
    "        (point, euclidean_distance(point, central_point)) for point in points\n",
    "    ]\n",
    "    points_with_distance.sort(key=lambda x: x[1])\n",
    "\n",
    "    # Return the first k points\n",
    "    return [point for point, _ in points_with_distance[:k]]"
   ]
  }
 ],
 "metadata": {
  "language_info": {
   "name": "python"
  }
 },
 "nbformat": 4,
 "nbformat_minor": 2
}
