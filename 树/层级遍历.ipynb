{
 "cells": [
  {
   "cell_type": "markdown",
   "id": "6efca6d7527816d3",
   "metadata": {
    "collapsed": false
   },
   "source": [
    "Print the nodes in a binary tree level-wise. For example, the following should print 1, 2, 3, 4, 5.\n",
    "\n",
    "  1\n",
    " / \\\n",
    "2   3\n",
    "   / \\\n",
    "  4   5\n"
   ]
  },
  {
   "cell_type": "code",
   "execution_count": null,
   "id": "initial_id",
   "metadata": {
    "collapsed": true
   },
   "outputs": [],
   "source": [
    "from collections import deque\n",
    "\n",
    "\n",
    "class TreeNode:\n",
    "    def __init__(self, value):\n",
    "        self.value = value\n",
    "        self.left = None\n",
    "        self.right = None\n",
    "\n",
    "def level_order_traversal(root):\n",
    "    if root is None:\n",
    "        return  []\n",
    "    queue = deque([root])\n",
    "    res = []\n",
    "    \n",
    "    while queue:\n",
    "        level_size = len(deque)\n",
    "        current_level = []\n",
    "        \n",
    "        for _ in range(level_size):\n",
    "            node = queue.popleft()\n",
    "            current_level.append(node.value)\n",
    "            if node.left:\n",
    "                queue.append(node.left)\n",
    "            if node.right:\n",
    "                queue.append(node.right)\n",
    "        \n",
    "        res.append(current_level)\n",
    "    \n",
    "    return res"
   ]
  }
 ],
 "metadata": {
  "kernelspec": {
   "display_name": "Python 3",
   "language": "python",
   "name": "python3"
  },
  "language_info": {
   "codemirror_mode": {
    "name": "ipython",
    "version": 2
   },
   "file_extension": ".py",
   "mimetype": "text/x-python",
   "name": "python",
   "nbconvert_exporter": "python",
   "pygments_lexer": "ipython2",
   "version": "2.7.6"
  }
 },
 "nbformat": 4,
 "nbformat_minor": 5
}
