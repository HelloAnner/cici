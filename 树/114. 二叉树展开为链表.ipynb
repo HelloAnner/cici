{
 "cells": [
  {
   "cell_type": "markdown",
   "metadata": {},
   "source": [
    "给你二叉树的根结点 root ，请你将它展开为一个单链表：\n",
    "\n",
    "展开后的单链表应该同样使用 TreeNode ，其中 right 子指针指向链表中下一个结点，而左子指针始终为 null 。\n",
    "展开后的单链表应该与二叉树 先序遍历 顺序相同。"
   ]
  },
  {
   "cell_type": "code",
   "execution_count": null,
   "metadata": {},
   "outputs": [],
   "source": [
    "# Definition for a binary tree node.\n",
    "class TreeNode:\n",
    "    def __init__(self, val=0, left=None, right=None):\n",
    "        self.val = val\n",
    "        self.left = left\n",
    "        self.right = right\n",
    "\n",
    "\n",
    "from typing import Optional\n",
    "\n",
    "\n",
    "class Solution:\n",
    "    def flatten(self, root: Optional[TreeNode]) -> None:\n",
    "        preorderList = list()\n",
    "\n",
    "        def preorderTraversal(root: TreeNode):\n",
    "            if root:\n",
    "                preorderList.append(root)\n",
    "                preorderTraversal(root.left)\n",
    "                preorderTraversal(root.right)\n",
    "\n",
    "        preorderTraversal(root)\n",
    "        size = len(preorderList)\n",
    "        for i in range(1, size):\n",
    "            prev, curr = preorderList[i - 1], preorderList[i]\n",
    "            prev.left = None\n",
    "            prev.right = curr"
   ]
  }
 ],
 "metadata": {
  "language_info": {
   "name": "python"
  }
 },
 "nbformat": 4,
 "nbformat_minor": 2
}
