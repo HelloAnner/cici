{
 "cells": [
  {
   "cell_type": "markdown",
   "metadata": {},
   "source": [
    "给你一个二叉树的根节点 root ，树中每个节点都存放有一个 0 到 9 之间的数字。\n",
    "每条从根节点到叶节点的路径都代表一个数字：\n",
    "\n",
    "例如，从根节点到叶节点的路径 1 -> 2 -> 3 表示数字 123 。\n",
    "计算从根节点到叶节点生成的 所有数字之和 。\n",
    "\n",
    "叶节点 是指没有子节点的节点。"
   ]
  },
  {
   "cell_type": "code",
   "execution_count": null,
   "metadata": {},
   "outputs": [],
   "source": [
    "# Definition for a binary tree node.\n",
    "from typing import Optional\n",
    "\n",
    "\n",
    "class TreeNode:\n",
    "    def __init__(self, val=0, left=None, right=None):\n",
    "        self.val = val\n",
    "        self.left = left\n",
    "        self.right = right\n",
    "\n",
    "\n",
    "class Solution:\n",
    "    def sumNumbers(self, root: Optional[TreeNode]) -> int:\n",
    "        ans = 0\n",
    "\n",
    "        def dfs(node: Optional[TreeNode], x: int) -> None:\n",
    "            if node is None:\n",
    "                return\n",
    "            x = x * 10 + node.val\n",
    "            if node.left is node.right:\n",
    "                nonlocal ans\n",
    "                ans += x\n",
    "                return\n",
    "            dfs(node.left, x)\n",
    "            dfs(node.right, x)\n",
    "\n",
    "        dfs(root, 0)\n",
    "        return ans"
   ]
  }
 ],
 "metadata": {
  "language_info": {
   "name": "python"
  }
 },
 "nbformat": 4,
 "nbformat_minor": 2
}
