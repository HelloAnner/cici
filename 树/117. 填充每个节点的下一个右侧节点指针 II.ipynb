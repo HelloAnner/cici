{
 "cells": [
  {
   "cell_type": "markdown",
   "metadata": {},
   "source": [
    "给定一个二叉树：\n",
    "\n",
    "struct Node {\n",
    "  int val;\n",
    "  Node *left;\n",
    "  Node *right;\n",
    "  Node *next;\n",
    "}\n",
    "填充它的每个 next 指针，让这个指针指向其下一个右侧节点。如果找不到下一个右侧节点，则将 next 指针设置为 NULL 。\n",
    "\n",
    "初始状态下，所有 next 指针都被设置为 NULL 。"
   ]
  },
  {
   "cell_type": "markdown",
   "metadata": {},
   "source": [
    "创建一个空数组 pre（因为一开始不知道二叉树有多深）。\n",
    "DFS 这棵二叉树，递归参数为当前节点 node，以及当前节点的深度 depth。每往下递归一层，就把 depth 加一。\n",
    "如果 depth 等于 pre 数组的长度，说明 node 是这一层最左边的节点，把 node 添加到 pre 的末尾。\n",
    "否则，把 pre[depth] 的 next 指向 node，然后更新 pre[depth] 为 node。\n",
    "递归边界：如果 node 是空节点，直接返回。\n",
    "递归入口：dfs(root,0)。\n",
    "最后返回 root。"
   ]
  },
  {
   "cell_type": "code",
   "execution_count": null,
   "metadata": {},
   "outputs": [],
   "source": [
    "# Definition for a Node.\n",
    "class Node:\n",
    "    def __init__(\n",
    "        self,\n",
    "        val: int = 0,\n",
    "        left: \"Node\" = None,\n",
    "        right: \"Node\" = None,\n",
    "        next: \"Node\" = None,\n",
    "    ):\n",
    "        self.val = val\n",
    "        self.left = left\n",
    "        self.right = right\n",
    "        self.next = next\n",
    "\n",
    "\n",
    "class Solution:\n",
    "    def connect(self, root: \"Node\") -> \"Node\":\n",
    "        pre = []\n",
    "\n",
    "        def dfs(node: Node, depth: int) -> None:\n",
    "            if node is None:\n",
    "                return\n",
    "            if depth == len(pre):\n",
    "                pre.append(node)\n",
    "            else:\n",
    "                pre[depth].next = node\n",
    "                pre[depth] = node\n",
    "            # 先递归到最左边\n",
    "            dfs(node.left, depth + 1)\n",
    "            dfs(node.right, depth + 1)\n",
    "\n",
    "        dfs(root, 0)\n",
    "        return root"
   ]
  }
 ],
 "metadata": {
  "language_info": {
   "name": "python"
  }
 },
 "nbformat": 4,
 "nbformat_minor": 2
}
