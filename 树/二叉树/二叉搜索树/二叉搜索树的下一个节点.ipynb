{
 "cells": [
  {
   "cell_type": "markdown",
   "metadata": {},
   "source": [
    "给定一个二叉搜索树中的节点，返回下一个较大的元素，也称为中序遍历的后继节点。"
   ]
  },
  {
   "cell_type": "markdown",
   "metadata": {},
   "source": [
    "  10\n",
    "  /  \\\n",
    " 5    30\n",
    "     /  \\\n",
    "   22    35\n",
    "\n",
    "\n",
    "22 的下一个元素是 30"
   ]
  },
  {
   "cell_type": "code",
   "execution_count": null,
   "metadata": {},
   "outputs": [],
   "source": [
    "class TreeNode:\n",
    "    def __init__(self, val=0, left=None, right=None):\n",
    "        self.val = val\n",
    "        self.left = left\n",
    "        self.right = right\n",
    "\n",
    "\n",
    "def inorderSuccessor(root, p):\n",
    "    successor = None  # 保存后继节点\n",
    "    while root:\n",
    "        if root.val > p.val:\n",
    "            successor = root  # 更新后继节点为当前节点\n",
    "            root = root.left  # 继续往左子树搜索\n",
    "        else:\n",
    "            root = root.right  # 后继节点肯定是元素更大的，所以当前节点不是后继节点，继续往右子树搜索\n",
    "    return successor"
   ]
  }
 ],
 "metadata": {
  "language_info": {
   "name": "python"
  }
 },
 "nbformat": 4,
 "nbformat_minor": 2
}
