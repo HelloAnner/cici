{
 "cells": [
  {
   "cell_type": "markdown",
   "metadata": {},
   "source": [
    "给你一棵二叉树的根节点，返回该树的 直径 。\n",
    "\n",
    "二叉树的 直径 是指树中任意两个节点之间最长路径的 长度 。这条路径可能经过也可能不经过根节点 root 。\n",
    "\n",
    "两节点之间路径的 长度 由它们之间边数表示。"
   ]
  },
  {
   "cell_type": "markdown",
   "metadata": {},
   "source": [
    "1. 左子树 dfs 高度 +  右子树 dfs 高度"
   ]
  },
  {
   "cell_type": "code",
   "execution_count": null,
   "metadata": {},
   "outputs": [],
   "source": [
    "# Definition for a binary tree node.\n",
    "from typing import Optional\n",
    "\n",
    "\n",
    "class TreeNode:\n",
    "    def __init__(self, val=0, left=None, right=None):\n",
    "        self.val = val\n",
    "        self.left = left\n",
    "        self.right = right\n",
    "class Solution:\n",
    "    def diameterOfBinaryTree(self, root: Optional[TreeNode]) -> int:\n",
    "        self.max_diameter = 0\n",
    "\n",
    "        def dfs(node:TreeNode) -> int:\n",
    "            if not node :\n",
    "                return 0\n",
    "\n",
    "            left_depth = dfs(node.left)\n",
    "            right_depth = dfs(node.right)\n",
    "\n",
    "            self.max_diameter = max(self.max_diameter, left_depth + right_depth)\n",
    "            \n",
    "            return 1+ max(left_depth,right_depth)\n",
    "        \n",
    "        dfs(root)\n",
    "        \n",
    "        return self.max_diameter"
   ]
  }
 ],
 "metadata": {
  "language_info": {
   "name": "python"
  }
 },
 "nbformat": 4,
 "nbformat_minor": 2
}
