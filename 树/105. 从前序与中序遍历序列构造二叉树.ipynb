{
 "cells": [
  {
   "cell_type": "markdown",
   "metadata": {},
   "source": [
    "给定两个整数数组 preorder 和 inorder ，其中 preorder 是二叉树的先序遍历， inorder 是同一棵树的中序遍历，请构造二叉树并返回其根节点。"
   ]
  },
  {
   "cell_type": "markdown",
   "metadata": {},
   "source": [
    "preorder[-1] 就是二叉树的根"
   ]
  },
  {
   "cell_type": "code",
   "execution_count": null,
   "metadata": {},
   "outputs": [],
   "source": [
    "# Definition for a binary tree node.\n",
    "from typing import List\n",
    "\n",
    "\n",
    "class TreeNode:\n",
    "    def __init__(self, val=0, left=None, right=None):\n",
    "        self.val = val\n",
    "        self.left = left\n",
    "        self.right = right\n",
    "\n",
    "\n",
    "class Solution:\n",
    "    def buildTree(self, preorder: List[int], inorder: List[int]) -> TreeNode:\n",
    "        def recur(root, left, right):\n",
    "            if left > right:\n",
    "                return  # 递归终止\n",
    "            node = TreeNode(preorder[root])  # 建立根节点\n",
    "            i = dic[preorder[root]]  # 划分根节点、左子树、右子树\n",
    "            node.left = recur(root + 1, left, i - 1)  # 开启左子树递归\n",
    "            node.right = recur(i - left + root + 1, i + 1, right)  # 开启右子树递归\n",
    "            return node  # 回溯返回根节点\n",
    "\n",
    "        dic, preorder = {}, preorder\n",
    "        for i in range(len(inorder)):\n",
    "            dic[inorder[i]] = i\n",
    "        return recur(0, 0, len(inorder) - 1)"
   ]
  }
 ],
 "metadata": {
  "language_info": {
   "name": "python"
  }
 },
 "nbformat": 4,
 "nbformat_minor": 2
}
