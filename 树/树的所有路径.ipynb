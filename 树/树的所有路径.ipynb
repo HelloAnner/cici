{
 "cells": [
  {
   "cell_type": "markdown",
   "source": [
    "Given a binary tree, return all paths from the root to leaves.\n",
    "\n",
    "For example, given the tree:\n",
    "\n",
    "  1\n",
    "  / \\\n",
    " 2   3\n",
    "    / \\\n",
    "   4   5\n",
    "Return [[1, 2], [1, 3, 4], [1, 3, 5]]."
   ],
   "metadata": {
    "collapsed": false
   },
   "id": "6951ffd44073ebbb"
  },
  {
   "cell_type": "code",
   "execution_count": 1,
   "id": "initial_id",
   "metadata": {
    "collapsed": true,
    "ExecuteTime": {
     "end_time": "2024-04-15T11:41:14.160984Z",
     "start_time": "2024-04-15T11:41:14.157091Z"
    }
   },
   "outputs": [],
   "source": [
    "class TreeNode:\n",
    "    def __init__(self,value):\n",
    "        self.val = value\n",
    "        self.left = None\n",
    "        self.right = None\n",
    "    \n",
    "\n",
    "def binary_tree_paths(root):\n",
    "    if not root:\n",
    "        return []\n",
    "    paths = []\n",
    "    \n",
    "    def dfs(node,path):\n",
    "        if not node.left and  not node.right:\n",
    "            path.append(node.val)\n",
    "            paths.append(paths)\n",
    "            return \n",
    "        path.append(node.val)\n",
    "        \n",
    "        if node.left:\n",
    "            dfs(node.left,path[:])\n",
    "        \n",
    "        if node.right:\n",
    "            dfs(node.right,path[:])\n",
    "    \n",
    "    dfs(root,[])\n",
    "    return paths"
   ]
  },
  {
   "cell_type": "code",
   "outputs": [],
   "source": [],
   "metadata": {
    "collapsed": false
   },
   "id": "71d5c114ea599b6e"
  }
 ],
 "metadata": {
  "kernelspec": {
   "display_name": "Python 3",
   "language": "python",
   "name": "python3"
  },
  "language_info": {
   "codemirror_mode": {
    "name": "ipython",
    "version": 2
   },
   "file_extension": ".py",
   "mimetype": "text/x-python",
   "name": "python",
   "nbconvert_exporter": "python",
   "pygments_lexer": "ipython2",
   "version": "2.7.6"
  }
 },
 "nbformat": 4,
 "nbformat_minor": 5
}
