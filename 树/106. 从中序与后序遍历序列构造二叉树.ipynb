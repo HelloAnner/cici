{
 "cells": [
  {
   "cell_type": "markdown",
   "metadata": {},
   "source": [
    "给定两个整数数组 inorder 和 postorder ，其中 inorder 是二叉树的中序遍历， postorder 是同一棵树的后序遍历，请你构造并返回这颗 二叉树 。\n",
    "\n",
    "返回层序遍历\n",
    "\n",
    "输入：inorder = [9,3,15,20,7], postorder = [9,15,7,20,3]\n",
    "输出：[3,9,20,null,null,15,7]\n"
   ]
  },
  {
   "cell_type": "markdown",
   "metadata": {},
   "source": [
    "中序遍历：按照「左子树-根-右子树」的顺序遍历二叉树。\n",
    "\n",
    "后序遍历：按照「左子树-右子树-根」的顺序遍历二叉树。\n",
    "\n",
    "postorder[-1] 就是二叉树的根\n",
    "\n",
    "从中序遍历中获取到左右子树的大小\n"
   ]
  },
  {
   "cell_type": "code",
   "execution_count": null,
   "metadata": {},
   "outputs": [],
   "source": [
    "# Definition for a binary tree node.\n",
    "from typing import List, Optional\n",
    "\n",
    "\n",
    "class TreeNode:\n",
    "    def __init__(self, val=0, left=None, right=None):\n",
    "        self.val = val\n",
    "        self.left = left\n",
    "        self.right = right\n",
    "\n",
    "\n",
    "class Solution:\n",
    "    def buildTree(self, inorder: List[int], postorder: List[int])-> Optional[TreeNode]:\n",
    "        if not postorder:\n",
    "            return None\n",
    "        left_size = inorder.index(postorder[-1])\n",
    "        left =self.buildTree(inorder[:left_size], postorder[:left_size])\n",
    "        right = self.buildTree(inorder[left_size + 1 :], postorder[left_size:-1])\n",
    "        return TreeNode(postorder[-1], left, right)"
   ]
  }
 ],
 "metadata": {
  "language_info": {
   "name": "python"
  }
 },
 "nbformat": 4,
 "nbformat_minor": 2
}
