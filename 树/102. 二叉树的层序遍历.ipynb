{
 "cells": [
  {
   "metadata": {},
   "cell_type": "markdown",
   "source": "给你二叉树的根节点 root ，返回其节点值的 层序遍历 。 （即逐层地，从左到右访问所有节点）。",
   "id": "9ee76bbeb9ee2121"
  },
  {
   "metadata": {},
   "cell_type": "markdown",
   "source": "两个数组:",
   "id": "c2f0b91c73f60e00"
  },
  {
   "cell_type": "code",
   "execution_count": null,
   "id": "initial_id",
   "metadata": {
    "collapsed": true
   },
   "outputs": [],
   "source": [
    "from typing import List, Optional\n",
    "\n",
    "\n",
    "# Definition for a binary tree node.\n",
    "class TreeNode:\n",
    "    def __init__(self, val=0, left=None, right=None):\n",
    "        self.val = val\n",
    "        self.left = left\n",
    "        self.right = right\n",
    "\n",
    "\n",
    "class Solution:\n",
    "    def levelOrder(self, root: Optional[TreeNode]) -> List[List[int]]:\n",
    "        if root is None:\n",
    "            return []\n",
    "        ans = []\n",
    "        cur = [root]\n",
    "        while cur:\n",
    "            nxt = []\n",
    "            vals = []\n",
    "            for node in cur:\n",
    "                vals.append(node.val)\n",
    "                if node.left:  nxt.append(node.left)\n",
    "                if node.right: nxt.append(node.right)\n",
    "            cur = nxt\n",
    "            ans.append(vals)\n",
    "        return ans\n",
    "\n"
   ]
  },
  {
   "metadata": {},
   "cell_type": "markdown",
   "source": "一个队列:",
   "id": "d0424e9886e813b8"
  },
  {
   "metadata": {},
   "cell_type": "code",
   "outputs": [],
   "execution_count": null,
   "source": [
    "from collections import deque\n",
    "\n",
    "\n",
    "class Solution:\n",
    "    def levelOrder(self, root: Optional[TreeNode]) -> List[List[int]]:\n",
    "        if root is None:\n",
    "            return []\n",
    "        ans = []\n",
    "        q = deque([root])\n",
    "        while q:\n",
    "            vals = []\n",
    "            for _ in range(len(q)):\n",
    "                node = q.popleft()\n",
    "                vals.append(node.val)\n",
    "                if node.left:  q.append(node.left)\n",
    "                if node.right: q.append(node.right)\n",
    "            ans.append(vals)\n",
    "        return ans"
   ],
   "id": "5d7ec2adce44c61a"
  }
 ],
 "metadata": {
  "kernelspec": {
   "display_name": "Python 3",
   "language": "python",
   "name": "python3"
  },
  "language_info": {
   "codemirror_mode": {
    "name": "ipython",
    "version": 2
   },
   "file_extension": ".py",
   "mimetype": "text/x-python",
   "name": "python",
   "nbconvert_exporter": "python",
   "pygments_lexer": "ipython2",
   "version": "2.7.6"
  }
 },
 "nbformat": 4,
 "nbformat_minor": 5
}
