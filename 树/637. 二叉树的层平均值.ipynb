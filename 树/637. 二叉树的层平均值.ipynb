{
 "cells": [
  {
   "cell_type": "markdown",
   "metadata": {},
   "source": [
    "给定一个非空二叉树的根节点 root , 以数组的形式返回每一层节点的平均值。与实际答案相差 10-5 以内的答案可以被接受。\n"
   ]
  },
  {
   "cell_type": "code",
   "execution_count": null,
   "metadata": {},
   "outputs": [],
   "source": [
    "# Definition for a binary tree node.\n",
    "from typing import List, Optional\n",
    "\n",
    "\n",
    "class TreeNode:\n",
    "    def __init__(self, val=0, left=None, right=None):\n",
    "        self.val = val\n",
    "        self.left = left\n",
    "        self.right = right\n",
    "\n",
    "\n",
    "class Solution:\n",
    "    def averageOfLevels(self, root: Optional[TreeNode]) -> List[float]:\n",
    "        def dfs(root: TreeNode, level: int):\n",
    "            if not root:\n",
    "                return\n",
    "            if level < len(totals):\n",
    "                totals[level] += root.val\n",
    "                counts[level] += 1\n",
    "            else:\n",
    "                totals.append(root.val)\n",
    "                counts.append(1)\n",
    "            dfs(root.left, level + 1)\n",
    "            dfs(root.right, level + 1)\n",
    "\n",
    "        totals = list()\n",
    "        counts = list()\n",
    "        dfs(root, 0)\n",
    "        return [total / count for total, count in zip(totals, counts)]"
   ]
  }
 ],
 "metadata": {
  "language_info": {
   "name": "python"
  }
 },
 "nbformat": 4,
 "nbformat_minor": 2
}
