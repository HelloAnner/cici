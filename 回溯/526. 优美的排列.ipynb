{
 "cells": [
  {
   "cell_type": "markdown",
   "metadata": {},
   "source": [
    "假设有从 1 到 n 的 n 个整数。用这些整数构造一个数组 perm（下标从 1 开始），只要满足下述条件 之一 ，该数组就是一个 优美的排列 ：\n",
    "\n",
    "perm[i] 能够被 i 整除\n",
    "i 能够被 perm[i] 整除\n",
    "给你一个整数 n ，返回可以构造的 优美排列 的 数量 。"
   ]
  },
  {
   "cell_type": "code",
   "execution_count": null,
   "metadata": {},
   "outputs": [],
   "source": [
    "from collections import defaultdict\n",
    "\n",
    "\n",
    "class Solution:\n",
    "    def countArrangement(self, n: int) -> int:\n",
    "        match = defaultdict(list)\n",
    "        for i in range(1, n + 1):\n",
    "            for j in range(1, n + 1):\n",
    "                if i % j == 0 or j % i == 0:\n",
    "                    match[i].append(j)\n",
    "\n",
    "        num = 0\n",
    "        vis = set()\n",
    "\n",
    "        def back_track(index: int) -> None:\n",
    "            if index == n + 1:\n",
    "                nonlocal num\n",
    "                num += 1\n",
    "                return\n",
    "\n",
    "            for x in match[index]:\n",
    "                if x not in vis:\n",
    "                    vis.add(x)\n",
    "                    back_track(index + 1)\n",
    "                    vis.discard(x)\n",
    "        \n",
    "        back_track(1)\n",
    "        return num"
   ]
  }
 ],
 "metadata": {
  "language_info": {
   "name": "python"
  }
 },
 "nbformat": 4,
 "nbformat_minor": 2
}
