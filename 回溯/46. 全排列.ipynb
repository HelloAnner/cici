{
 "cells": [
  {
   "cell_type": "markdown",
   "metadata": {},
   "source": [
    "给定一个不含重复数字的数组 nums ，返回其 所有可能的全排列 。你可以 按任意顺序 返回答案。\n",
    "\n",
    "示例 1：\n",
    "输入：nums = [1,2,3]\n",
    "输出：[[1,2,3],[1,3,2],[2,1,3],[2,3,1],[3,1,2],[3,2,1]]\n"
   ]
  },
  {
   "cell_type": "code",
   "execution_count": null,
   "metadata": {},
   "outputs": [],
   "source": [
    "from typing import List\n",
    "\n",
    "\n",
    "class Solution:\n",
    "    def permute(self, nums: List[int]) -> List[List[int]]:\n",
    "        def back_track(first=0):\n",
    "            if first == n:\n",
    "                res.append(nums[:])\n",
    "            for i in range(first, n):\n",
    "                nums[first], nums[i] = nums[i], nums[first]\n",
    "                back_track(first + 1)\n",
    "                nums[first], nums[i] = nums[i], nums[first]\n",
    "\n",
    "        n = len(nums)\n",
    "        res = []\n",
    "        back_track()\n",
    "        return res"
   ]
  }
 ],
 "metadata": {
  "language_info": {
   "name": "python"
  }
 },
 "nbformat": 4,
 "nbformat_minor": 2
}
