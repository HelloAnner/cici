{
 "cells": [
  {
   "cell_type": "markdown",
   "metadata": {},
   "source": [
    "给你一个整数数组 nums ，如果 nums 至少 包含 2 个元素，你可以执行以下操作中的 任意 一个：\n",
    "\n",
    "选择 nums 中最前面两个元素并且删除它们。\n",
    "选择 nums 中最后两个元素并且删除它们。\n",
    "选择 nums 中第一个和最后一个元素并且删除它们。\n",
    "一次操作的 分数 是被删除元素的和。\n",
    "\n",
    "在确保 所有操作分数相同 的前提下，请你求出 最多 能进行多少次操作。\n",
    "\n",
    "请你返回按照上述要求 最多 可以进行的操作次数。\n",
    "\n",
    " \n",
    "\n",
    "示例 1：\n",
    "\n",
    "输入：nums = [3,2,1,2,3,4]\n",
    "输出：3\n",
    "解释：我们执行以下操作：\n",
    "- 删除前两个元素，分数为 3 + 2 = 5 ，nums = [1,2,3,4] 。\n",
    "- 删除第一个元素和最后一个元素，分数为 1 + 4 = 5 ，nums = [2,3] 。\n",
    "- 删除第一个元素和最后一个元素，分数为 2 + 3 = 5 ，nums = [] 。\n",
    "由于 nums 为空，我们无法继续进行任何操作。"
   ]
  },
  {
   "cell_type": "markdown",
   "metadata": {},
   "source": [
    "删除前两个数，剩下这是一个连续的子数组。\n",
    "删除后两个数，剩下这也是一个连续的子数组。\n",
    "删除第一个和最后一个数，剩下这还是一个连续的子数组。\n",
    "无论怎么删除，剩下的都是连续子数组，都是和原问题相似的，规模更小的子问题。我们可以用子数组的左右端点下标表示状态，状态的值就是这个子数组的操作次数。"
   ]
  },
  {
   "cell_type": "code",
   "execution_count": null,
   "metadata": {},
   "outputs": [],
   "source": [
    "from typing import List\n",
    "\n",
    "\n",
    "class Solution:\n",
    "    def maxOperations(self, nums: List[int]) -> int:\n",
    "        @cache  # 缓存装饰器，避免重复计算 dfs 的结果（记忆化）\n",
    "        def dfs(i:int,j:int,target:int) -> int:\n",
    "                if i>=j:\n",
    "                        return 0\n",
    "                res = 0\n",
    "                if nums[i] + nums[i + 1] == target:  # 删除前两个数\n",
    "                        res = max(res, dfs(i + 2, j, target) + 1)\n",
    "                if nums[j - 1] + nums[j] == target:  # 删除后两个数\n",
    "                        res = max(res, dfs(i, j - 2, target) + 1)\n",
    "                if nums[i] + nums[j] == target:  # 删除第一个和最后一个数\n",
    "                        res = max(res, dfs(i + 1, j - 1, target) + 1)\n",
    "                return res\n",
    "        n = len(nums)\n",
    "        res1 = dfs(2, n - 1, nums[0] + nums[1])  # 删除前两个数\n",
    "        res2 = dfs(0, n - 3, nums[-2] + nums[-1])  # 删除后两个数\n",
    "        res3 = dfs(1, n - 2, nums[0] + nums[-1])  # 删除第一个和最后一个数\n",
    "        return max(res1, res2, res3) + 1  # 加上第一次操作\n",
    "        \n"
   ]
  }
 ],
 "metadata": {
  "language_info": {
   "name": "python"
  }
 },
 "nbformat": 4,
 "nbformat_minor": 2
}
