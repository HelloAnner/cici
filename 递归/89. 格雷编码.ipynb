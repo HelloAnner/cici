{
 "cells": [
  {
   "cell_type": "markdown",
   "metadata": {},
   "source": [
    "格雷码（Gray code）是一种二进制编码，其中每个连续的值仅在一位上有差异，同时在循环回到起始值时也是如此。格雷码在硬件中常用，以防止在状态转换期间出现临时的错误值。\n",
    "\n",
    "给定位数 n，生成一个可能的格雷码序列。\n",
    "\n",
    "例如，对于 n = 2，一个格雷码序列可以是 [00, 01, 11, 10]。"
   ]
  },
  {
   "cell_type": "code",
   "execution_count": 3,
   "metadata": {},
   "outputs": [
    {
     "name": "stdout",
     "output_type": "stream",
     "text": [
      "['00000', '00001', '00011', '00010', '00110', '00111', '00101', '00100', '01100', '01101', '01111', '01110', '01010', '01011', '01001', '01000', '11000', '11001', '11011', '11010', '11110', '11111', '11101', '11100', '10100', '10101', '10111', '10110', '10010', '10011', '10001', '10000']\n"
     ]
    }
   ],
   "source": [
    "from typing import List\n",
    "\n",
    "\n",
    "def generate_gray_code(n: int) -> List[str]:\n",
    "    if n == 0:\n",
    "        return [\"0\"]\n",
    "    if n == 1:\n",
    "        return [\"0\", \"1\"]\n",
    "\n",
    "    prev_gray_code = generate_gray_code(n - 1)\n",
    "    gray_code = []\n",
    "\n",
    "    for code in prev_gray_code:\n",
    "        gray_code.append(\"0\" + code)\n",
    "    for code in reversed(prev_gray_code):\n",
    "        gray_code.append(\"1\" + code)\n",
    "\n",
    "    return gray_code"
   ]
  },
  {
   "cell_type": "markdown",
   "metadata": {},
   "source": [
    "修改为 List[int]"
   ]
  },
  {
   "cell_type": "code",
   "execution_count": null,
   "metadata": {},
   "outputs": [],
   "source": [
    "from typing import List\n",
    "\n",
    "\n",
    "def generate_gray_code(n: int) -> List[int]:\n",
    "    if n == 0:\n",
    "        return [0]\n",
    "    if n == 1:\n",
    "        return [0, 1]\n",
    "\n",
    "    prev_gray_code = generate_gray_code(n - 1)\n",
    "    gray_code = []\n",
    "\n",
    "    for code in prev_gray_code:\n",
    "        gray_code.append((code << 1) + 0)\n",
    "    for code in reversed(prev_gray_code):\n",
    "        gray_code.append((code << 1) + 1)\n",
    "\n",
    "    return gray_code"
   ]
  }
 ],
 "metadata": {
  "kernelspec": {
   "display_name": "base",
   "language": "python",
   "name": "python3"
  },
  "language_info": {
   "codemirror_mode": {
    "name": "ipython",
    "version": 3
   },
   "file_extension": ".py",
   "mimetype": "text/x-python",
   "name": "python",
   "nbconvert_exporter": "python",
   "pygments_lexer": "ipython3",
   "version": "3.12.2"
  }
 },
 "nbformat": 4,
 "nbformat_minor": 2
}
