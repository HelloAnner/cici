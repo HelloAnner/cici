{
 "cells": [
  {
   "cell_type": "markdown",
   "metadata": {},
   "source": [
    "在经典汉诺塔问题中，有 3 根柱子及 N 个不同大小的穿孔圆盘，盘子可以滑入任意一根柱子。一开始，所有盘子自上而下按升序依次套在第一根柱子上(即每一个盘子只能放在更大的盘子上面)。移动圆盘时受到以下限制:\n",
    "(1) 每次只能移动一个盘子;\n",
    "(2) 盘子只能从柱子顶端滑出移到下一根柱子;\n",
    "(3) 盘子只能叠在比它大的盘子上。\n",
    "\n",
    "请编写程序，用栈将所有盘子从第一根柱子移到最后一根柱子。"
   ]
  },
  {
   "cell_type": "code",
   "execution_count": 1,
   "metadata": {},
   "outputs": [
    {
     "name": "stdout",
     "output_type": "stream",
     "text": [
      "Move disk 1 from rod 1 to rod 3\n",
      "Move disk 2 from rod 1 to rod 2\n",
      "Move disk 1 from rod 3 to rod 2\n",
      "Move disk 3 from rod 1 to rod 3\n",
      "Move disk 1 from rod 2 to rod 1\n",
      "Move disk 2 from rod 2 to rod 3\n",
      "Move disk 1 from rod 1 to rod 3\n"
     ]
    }
   ],
   "source": [
    "def tower_of_hanoi(n, source, auxiliary, target):\n",
    "    if n > 0:\n",
    "        # 将 n-1 个圆盘从起始柱子移动到辅助柱子\n",
    "        tower_of_hanoi(n - 1, source, target, auxiliary)\n",
    "        # 将最大的圆盘从起始柱子移动到目标柱子\n",
    "        print(f\"Move disk {n} from rod {source} to rod {target}\")\n",
    "        # 将 n-1 个圆盘从辅助柱子移动到目标柱子\n",
    "        tower_of_hanoi(n - 1, auxiliary, source, target)\n",
    "\n",
    "\n",
    "# 示例\n",
    "n = 3  # 圆盘的数量\n",
    "tower_of_hanoi(n, 1, 2, 3)"
   ]
  }
 ],
 "metadata": {
  "kernelspec": {
   "display_name": "base",
   "language": "python",
   "name": "python3"
  },
  "language_info": {
   "codemirror_mode": {
    "name": "ipython",
    "version": 3
   },
   "file_extension": ".py",
   "mimetype": "text/x-python",
   "name": "python",
   "nbconvert_exporter": "python",
   "pygments_lexer": "ipython3",
   "version": "3.12.2"
  }
 },
 "nbformat": 4,
 "nbformat_minor": 2
}
