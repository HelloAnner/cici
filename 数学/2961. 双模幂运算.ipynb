{
 "cells": [
  {
   "cell_type": "markdown",
   "metadata": {},
   "source": [
    "给你一个下标从 0 开始的二维数组 variables ，其中 variables[i] = [ai, bi, ci, mi]，以及一个整数 target 。\n",
    "\n",
    "如果满足以下公式，则下标 i 是 好下标：\n",
    "\n",
    "0 <= i < variables.length\n",
    "((aibi % 10)ci) % mi == target\n",
    "返回一个由 好下标 组成的数组，顺序不限 。\n",
    "\n",
    "输入：variables = [[2,3,3,10],[3,3,3,1],[6,1,1,4]], target = 2\n",
    "输出：[0,2]\n",
    "解释：对于 variables 数组中的每个下标 i ：\n",
    "1) 对于下标 0 ，variables[0] = [2,3,3,10] ，(23 % 10)3 % 10 = 2 。\n",
    "2) 对于下标 1 ，variables[1] = [3,3,3,1] ，(33 % 10)3 % 1 = 0 。\n",
    "3) 对于下标 2 ，variables[2] = [6,1,1,4] ，(61 % 10)1 % 4 = 2 。\n",
    "因此，返回 [0,2] 作为答案。"
   ]
  },
  {
   "cell_type": "code",
   "execution_count": null,
   "metadata": {},
   "outputs": [],
   "source": [
    "from typing import List\n",
    "\n",
    "\n",
    "class Solution:\n",
    "    def getGoodIndices(self, variables: List[List[int]], target: int) -> List[int]:\n",
    "        return [\n",
    "            i\n",
    "            for i, (a, b, c, m) in enumerate(variables)\n",
    "            if pow(pow(a, b, 10), c, m) == target\n",
    "        ]"
   ]
  }
 ],
 "metadata": {
  "language_info": {
   "name": "python"
  }
 },
 "nbformat": 4,
 "nbformat_minor": 2
}
