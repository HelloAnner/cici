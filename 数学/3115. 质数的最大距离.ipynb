{
 "cells": [
  {
   "cell_type": "markdown",
   "metadata": {},
   "source": [
    "给你一个整数数组 nums。\n",
    "\n",
    "返回两个（不一定不同的）质数在 nums 中 下标 的 最大距离。"
   ]
  },
  {
   "cell_type": "code",
   "execution_count": null,
   "metadata": {},
   "outputs": [],
   "source": [
    "from math import isqrt\n",
    "from typing import List\n",
    "\n",
    "\n",
    "class Solution:\n",
    "    def maximumPrimeDifference(self, nums: List[int]) -> int:\n",
    "        # isqrt 计算整数平方根\n",
    "        is_prime = lambda n: n >= 2 and all(n % i for i in range(2, isqrt(n) + 1))\n",
    "        i = 0\n",
    "        while not is_prime(nums[i]):\n",
    "            i += 1\n",
    "\n",
    "        j = len(nums) - 1\n",
    "        while not is_prime(nums[j]):\n",
    "            j -= 1\n",
    "\n",
    "        return j - i"
   ]
  }
 ],
 "metadata": {
  "language_info": {
   "name": "python"
  }
 },
 "nbformat": 4,
 "nbformat_minor": 2
}
