{
 "cells": [
  {
   "cell_type": "markdown",
   "metadata": {},
   "source": [
    "给你一个下标从 0 开始的整数数组 nums 。如果下标对 i、j 满足 0 ≤ i < j < nums.length ，如果 nums[i] 的 第一个数字 和 nums[j] 的 最后一个数字 互质 ，则认为 nums[i] 和 nums[j] 是一组 美丽下标对 。\n",
    "\n",
    "返回 nums 中 美丽下标对 的总数目。\n",
    "\n",
    "对于两个整数 x 和 y ，如果不存在大于 1 的整数可以整除它们，则认为 x 和 y 互质 。换而言之，如果 gcd(x, y) == 1 ，则认为 x 和 y 互质，其中 gcd(x, y) 是 x 和 y 的 最大公因数 。"
   ]
  },
  {
   "cell_type": "code",
   "execution_count": null,
   "metadata": {},
   "outputs": [],
   "source": [
    "from math import gcd\n",
    "from typing import List\n",
    "\n",
    "\n",
    "class Solution:\n",
    "    def countBeautifulPairs(self, nums: List[int]) -> int:\n",
    "        # 暴力\n",
    "        n = len(nums)\n",
    "        res = 0\n",
    "        for i in range(n):\n",
    "            while nums[i] >= 10:\n",
    "                nums[i] = nums[i] // 10\n",
    "            for j in range(i + 1, n):\n",
    "                if gcd(nums[i], nums[j] % 10) == 1:\n",
    "                    res += 1\n",
    "        return res"
   ]
  },
  {
   "cell_type": "code",
   "execution_count": null,
   "metadata": {},
   "outputs": [],
   "source": [
    "from math import gcd\n",
    "from typing import List\n",
    "\n",
    "\n",
    "class Solution:\n",
    "    def countBeautifulPairs(self, nums: List[int]) -> int:\n",
    "        # 次数数组\n",
    "        ans = 0\n",
    "        cnt = [0] * 10\n",
    "        for n in nums:\n",
    "            for i, v in enumerate(cnt):\n",
    "                if v and gcd(i, n % 10) == 1:\n",
    "                    ans += v\n",
    "            while n >= 10:\n",
    "                n = n // 10\n",
    "            cnt[n] += 1\n",
    "        return ans"
   ]
  }
 ],
 "metadata": {
  "language_info": {
   "name": "python"
  }
 },
 "nbformat": 4,
 "nbformat_minor": 2
}
