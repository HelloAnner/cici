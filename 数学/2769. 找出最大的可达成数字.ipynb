{
 "cells": [
  {
   "cell_type": "markdown",
   "metadata": {},
   "source": [
    "给你两个整数 num 和 t 。\n",
    "\n",
    "如果整数 x 可以在执行下述操作不超过 t 次的情况下变为与 num 相等，则称其为 可达成数字 ：\n",
    "\n",
    "每次操作将 x 的值增加或减少 1 ，同时可以选择将 num 的值增加或减少 1 。\n",
    "返回所有可达成数字中的最大值。可以证明至少存在一个可达成数字。\n",
    "\n",
    "输入：num = 4, t = 1\n",
    "输出：6\n",
    "解释：最大可达成数字是 x = 6 ，执行下述操作可以使其等于 num ：\n",
    "- x 减少 1 ，同时 num 增加 1 。此时，x = 5 且 num = 5 。 \n",
    "可以证明不存在大于 6 的可达成数字。"
   ]
  },
  {
   "cell_type": "code",
   "execution_count": null,
   "metadata": {},
   "outputs": [],
   "source": [
    "class Solution:\n",
    "    def theMaximumAchievableX(self, num: int, t: int) -> int:\n",
    "        return num + 2 * t"
   ]
  }
 ],
 "metadata": {
  "language_info": {
   "name": "python"
  }
 },
 "nbformat": 4,
 "nbformat_minor": 2
}
