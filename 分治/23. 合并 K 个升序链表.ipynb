{
 "cells": [
  {
   "cell_type": "markdown",
   "metadata": {},
   "source": [
    "给你一个链表数组，每个链表都已经按升序排列。\n",
    "\n",
    "请你将所有链表合并到一个升序链表中，返回合并后的链表。\n",
    "\n",
    "输入：lists = [[1,4,5],[1,3,4],[2,6]]\n",
    "输出：[1,1,2,3,4,4,5,6]\n",
    "解释：链表数组如下：\n",
    "[\n",
    "  1->4->5,\n",
    "  1->3->4,\n",
    "  2->6\n",
    "]\n",
    "将它们合并到一个有序链表中得到。\n",
    "1->1->2->3->4->4->5->6"
   ]
  },
  {
   "cell_type": "code",
   "execution_count": null,
   "metadata": {},
   "outputs": [],
   "source": [
    "from typing import List, Optional\n",
    "\n",
    "\n",
    "class ListNode:\n",
    "    def __init__(self, val=0, next=None):\n",
    "        self.val = val\n",
    "        self.next = next\n",
    "\n",
    "\n",
    "class Solution:\n",
    "    # 21. 合并两个有序链表\n",
    "    def mergeTwoLists(\n",
    "        self, list1: Optional[ListNode], list2: Optional[ListNode]\n",
    "    ) -> Optional[ListNode]:\n",
    "        cur = dummy = ListNode()  # 用哨兵节点简化代码逻辑\n",
    "        while list1 and list2:\n",
    "            if list1.val < list2.val:\n",
    "                cur.next = list1  # 把 list1 加到新链表中\n",
    "                list1 = list1.next\n",
    "            else:  # 注：相等的情况加哪个节点都是可以的\n",
    "                cur.next = list2  # 把 list2 加到新链表中\n",
    "                list2 = list2.next\n",
    "            cur = cur.next\n",
    "        cur.next = list1 if list1 else list2  # 拼接剩余链表\n",
    "        return dummy.next\n",
    "\n",
    "    def mergeKLists(self, lists: List[Optional[ListNode]]) -> Optional[ListNode]:\n",
    "        m = len(lists)\n",
    "        if m == 0:\n",
    "            return None  # 注意输入的 lists 可能是空的\n",
    "        if m == 1:\n",
    "            return lists[0]  # 无需合并，直接返回\n",
    "        left = self.mergeKLists(lists[: m // 2])  # 合并左半部分\n",
    "        right = self.mergeKLists(lists[m // 2 :])  # 合并右半部分\n",
    "        return self.mergeTwoLists(left, right)  # 最后把左半和右半合并"
   ]
  }
 ],
 "metadata": {
  "language_info": {
   "name": "python"
  }
 },
 "nbformat": 4,
 "nbformat_minor": 2
}
