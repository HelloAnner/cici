{
 "cells": [
  {
   "cell_type": "markdown",
   "metadata": {},
   "source": [
    "给你一个大小为 3 * 3 ，下标从 0 开始的二维整数矩阵 grid ，分别表示每一个格子里石头的数目。网格图中总共恰好有 9 个石头，一个格子里可能会有 多个 石头。\n",
    "\n",
    "每一次操作中，你可以将一个石头从它当前所在格子移动到一个至少有一条公共边的相邻格子。\n",
    "\n",
    "请你返回每个格子恰好有一个石头的 最少移动次数 。\n",
    "\n",
    "输入：grid = [[1,1,0],[1,1,1],[1,2,1]]\n",
    "输出：3\n",
    "解释：让每个格子都有一个石头的一个操作序列为：\n",
    "1 - 将一个石头从格子 (2,1) 移动到 (2,2) 。\n",
    "2 - 将一个石头从格子 (2,2) 移动到 (1,2) 。\n",
    "3 - 将一个石头从格子 (1,2) 移动到 (0,2) 。\n",
    "总共需要 3 次操作让每个格子都有一个石头。\n",
    "让每个格子都有一个石头的最少操作次数为 3 。"
   ]
  },
  {
   "cell_type": "markdown",
   "metadata": {},
   "source": [
    "由于所有移走的石子个数等于所有移入的石子个数（即 0 的个数），我们可以把移走的石子的坐标记录到列表 from 中（可能有重复的坐标），移入的石子的坐标记录到列表 to 中。这两个列表的长度是一样的。\n",
    "\n",
    "枚举 from 的所有排列，与 to 匹配，即累加从 from[i] 到 to[i] 的曼哈顿距离。\n",
    "\n",
    "所有距离之和的最小值就是答案。"
   ]
  },
  {
   "cell_type": "code",
   "execution_count": null,
   "metadata": {},
   "outputs": [],
   "source": [
    "from cmath import inf\n",
    "from itertools import permutations\n",
    "from typing import List\n",
    "\n",
    "\n",
    "class Solution:\n",
    "    def minimumMoves(self, grid: List[List[int]]) -> int:\n",
    "        from_ = []\n",
    "        to = []\n",
    "        for i, row in enumerate(grid):\n",
    "            for j, cnt in enumerate(row):\n",
    "                if cnt > 1:\n",
    "                    # 添加一个集合到结尾位置\n",
    "                    from_.extend([(i, j)] * (cnt - 1))\n",
    "                elif cnt == 0:\n",
    "                    to.append((i, j))\n",
    "        ans = inf\n",
    "        # 全排列一下 from\n",
    "        for from2 in permutations(from_):\n",
    "            total = 0\n",
    "            for (x1, y1), (x2, y2) in zip(from2, to):\n",
    "                total += abs(x1 - x2) + abs(y1 - y2)\n",
    "            ans = min(ans, total)\n",
    "        return ans"
   ]
  }
 ],
 "metadata": {
  "language_info": {
   "name": "python"
  }
 },
 "nbformat": 4,
 "nbformat_minor": 2
}
