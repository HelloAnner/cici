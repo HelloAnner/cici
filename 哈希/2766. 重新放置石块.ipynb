{
 "cells": [
  {
   "cell_type": "markdown",
   "metadata": {},
   "source": [
    "给你一个下标从 0 开始的整数数组 nums ，表示一些石块的初始位置。再给你两个长度 相等 下标从 0 开始的整数数组 moveFrom 和 moveTo 。\n",
    "\n",
    "在 moveFrom.length 次操作内，你可以改变石块的位置。在第 i 次操作中，你将位置在 moveFrom[i] 的所有石块移到位置 moveTo[i] 。\n",
    "\n",
    "完成这些操作后，请你按升序返回所有 有 石块的位置。\n",
    "\n",
    "注意：\n",
    "\n",
    "如果一个位置至少有一个石块，我们称这个位置 有 石块。\n",
    "一个位置可能会有多个石块。\n",
    " \n",
    "\n",
    "示例 1：\n",
    "\n",
    "输入：nums = [1,6,7,8], moveFrom = [1,7,2], moveTo = [2,9,5]\n",
    "输出：[5,6,8,9]\n",
    "解释：一开始，石块在位置 1,6,7,8 。\n",
    "第 i = 0 步操作中，我们将位置 1 处的石块移到位置 2 处，位置 2,6,7,8 有石块。\n",
    "第 i = 1 步操作中，我们将位置 7 处的石块移到位置 9 处，位置 2,6,8,9 有石块。\n",
    "第 i = 2 步操作中，我们将位置 2 处的石块移到位置 5 处，位置 5,6,8,9 有石块。\n",
    "最后，至少有一个石块的位置为 [5,6,8,9] 。"
   ]
  },
  {
   "cell_type": "code",
   "execution_count": null,
   "metadata": {},
   "outputs": [],
   "source": [
    "from typing import List\n",
    "\n",
    "\n",
    "class Solution:\n",
    "    def relocateMarbles(\n",
    "        self, nums: List[int], moveFrom: List[int], moveTo: List[int]\n",
    "    ) -> List[int]:\n",
    "        st = set(nums)\n",
    "        for f, t in zip(moveFrom, moveTo):\n",
    "            st.remove(f)\n",
    "            st.add(t)\n",
    "        return sorted(st)"
   ]
  }
 ],
 "metadata": {
  "language_info": {
   "name": "python"
  }
 },
 "nbformat": 4,
 "nbformat_minor": 2
}
