{
 "cells": [
  {
   "cell_type": "markdown",
   "metadata": {},
   "source": [
    "给你两个下标从 0 开始的整数数组 nums1 和 nums2 ，它们分别含有 n 和 m 个元素。请你计算以下两个数值：\n",
    "\n",
    "answer1：使得 nums1[i] 在 nums2 中出现的下标 i 的数量。\n",
    "answer2：使得 nums2[i] 在 nums1 中出现的下标 i 的数量。\n",
    "返回 [answer1, answer2]。\n",
    "\n",
    "\n",
    "输入：nums1 = [4,3,2,3,1], nums2 = [2,2,5,2,3,6]\n",
    "输出：[3,4]\n",
    "\n",
    "解释：\n",
    "nums1 中下标在 1，2，3 的元素在 nums2 中也存在。所以 answer1 为 3。\n",
    "nums2 中下标在 0，1，3，4 的元素在 nums1 中也存在。所以 answer2 为 4。\n",
    "\n"
   ]
  },
  {
   "cell_type": "code",
   "execution_count": null,
   "metadata": {},
   "outputs": [],
   "source": [
    "from typing import List\n",
    "\n",
    "\n",
    "class Solution:\n",
    "    def findIntersectionValues(self, nums1: List[int], nums2: List[int]) -> List[int]:\n",
    "        s1 = set(nums1)\n",
    "        s2 = set(nums2)\n",
    "        return [sum(x in s2 for x in nums1), sum(x in s1 for x in nums2)]"
   ]
  }
 ],
 "metadata": {
  "language_info": {
   "name": "python"
  }
 },
 "nbformat": 4,
 "nbformat_minor": 2
}
