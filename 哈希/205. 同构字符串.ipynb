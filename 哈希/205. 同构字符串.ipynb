{
 "cells": [
  {
   "cell_type": "markdown",
   "metadata": {},
   "source": [
    "给定两个字符串 s 和 t ，判断它们是否是同构的。\n",
    "\n",
    "如果 s 中的字符可以按某种映射关系替换得到 t ，那么这两个字符串是同构的。\n",
    "\n",
    "每个出现的字符都应当映射到另一个字符，同时不改变字符的顺序。不同字符不能映射到同一个字符上，相同字符只能映射到同一个字符上，字符可以映射到自己本身。\n",
    "\n",
    "输入：s = \"egg\", t = \"add\"\n",
    "输出：true"
   ]
  },
  {
   "cell_type": "code",
   "execution_count": null,
   "metadata": {},
   "outputs": [],
   "source": [
    "class Solution:\n",
    "    def isIsomorphic(self, s: str, t: str) -> bool:\n",
    "        s2t, t2s = {}, {}\n",
    "        for a, b in zip(s, t):\n",
    "            if a in s2t and s2t[a] != b or b in t2s and t2s[b] != a:\n",
    "                return False\n",
    "            s2t[a], t2s[b] = b, a\n",
    "        return True"
   ]
  }
 ],
 "metadata": {
  "language_info": {
   "name": "python"
  }
 },
 "nbformat": 4,
 "nbformat_minor": 2
}
