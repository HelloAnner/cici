{
 "cells": [
  {
   "cell_type": "markdown",
   "metadata": {},
   "source": [
    "给你一个整数数组 matches 其中 matches[i] = [winneri, loseri] 表示在一场比赛中 winneri 击败了 loseri 。\n",
    "\n",
    "返回一个长度为 2 的列表 answer ：\n",
    "\n",
    "answer[0] 是所有 没有 输掉任何比赛的玩家列表。\n",
    "answer[1] 是所有恰好输掉 一场 比赛的玩家列表。\n",
    "两个列表中的值都应该按 递增 顺序返回。\n",
    "\n",
    "注意：\n",
    "\n",
    "只考虑那些参与 至少一场 比赛的玩家。\n",
    "生成的测试用例保证 不存在 两场比赛结果 相同 。"
   ]
  },
  {
   "cell_type": "code",
   "execution_count": null,
   "metadata": {},
   "outputs": [],
   "source": [
    "from typing import Counter, List\n",
    "\n",
    "\n",
    "class Solution:\n",
    "    def findWinners(self, matches: List[List[int]]) -> List[List[int]]:\n",
    "        players = set(x for m in matches for x in m)\n",
    "        loss_count = Counter(loser for _, loser in matches)\n",
    "        return [\n",
    "            sorted(x for x in players if x not in loss_count),\n",
    "            sorted(x for x, c in loss_count.items() if c == 1),\n",
    "        ]"
   ]
  }
 ],
 "metadata": {
  "language_info": {
   "name": "python"
  }
 },
 "nbformat": 4,
 "nbformat_minor": 2
}
