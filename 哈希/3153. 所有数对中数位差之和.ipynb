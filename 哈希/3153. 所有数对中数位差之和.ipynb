{
 "cells": [
  {
   "cell_type": "markdown",
   "metadata": {},
   "source": [
    "你有一个数组 nums ，它只包含 正 整数，所有正整数的数位长度都 相同 。\n",
    "\n",
    "两个整数的 数位差 指的是两个整数 相同 位置上不同数字的数目。\n",
    "\n",
    "请你返回 nums 中 所有 整数对里，数位差之和。\n",
    "\n",
    "示例 1：\n",
    "\n",
    "输入：nums = [13,23,12]\n",
    "\n",
    "输出：4\n",
    "\n",
    "解释：\n",
    "计算过程如下：\n",
    "\n",
    "- 13 和 23 的数位差为 1 。\n",
    "- 13 和 12 的数位差为 1 。\n",
    "- 23 和 12 的数位差为 2 。\n",
    "  所以所有整数数对的数位差之和为 1 + 1 + 2 = 4 。\n"
   ]
  },
  {
   "cell_type": "code",
   "execution_count": null,
   "metadata": {},
   "outputs": [],
   "source": [
    "from typing import List\n",
    "\n",
    "\n",
    "class Solution:\n",
    "    def sumDigitDifferences(self, nums: List[int]) -> int:\n",
    "        res = 0\n",
    "        n = len(nums)\n",
    "        while nums[0] > 0:\n",
    "            cnt = [0] * 10\n",
    "            for i in range(n):\n",
    "                cnt[nums[i] % 10] += 1\n",
    "                nums[i] = nums[i] // 10\n",
    "            for i in range(10):\n",
    "                res += (n - cnt[i]) * cnt[i]\n",
    "        return res // 2\n"
   ]
  }
 ],
 "metadata": {
  "language_info": {
   "name": "python"
  }
 },
 "nbformat": 4,
 "nbformat_minor": 2
}
