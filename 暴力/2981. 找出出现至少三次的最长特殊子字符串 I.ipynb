{
 "cells": [
  {
   "cell_type": "markdown",
   "metadata": {},
   "source": [
    "给你一个仅由小写英文字母组成的字符串 s 。\n",
    "\n",
    "如果一个字符串仅由单一字符组成，那么它被称为 特殊 字符串。例如，字符串 \"abc\" 不是特殊字符串，而字符串 \"ddd\"、\"zz\" 和 \"f\" 是特殊字符串。\n",
    "\n",
    "返回在 s 中出现 至少三次 的 最长特殊子字符串 的长度，如果不存在出现至少三次的特殊子字符串，则返回 -1 。\n",
    "\n",
    "子字符串 是字符串中的一个连续 非空 字符序列。"
   ]
  },
  {
   "cell_type": "markdown",
   "metadata": {},
   "source": [
    "由于特殊子串只包含单一字母，我们按照相同字母分组，每组统计相同字母连续出现的长度。例如字符串 aaaabbbabb 分成 aaaa+bbb+a+bb 四组，字母 a 有长度 444 和长度 111，字母 b 有长度 333 和长度 222。所以字母 a 的长度列表为 [4,1][4,1][4,1]，字母 b 的长度列表为 [3,2][3,2][3,2]。\n",
    "\n",
    "遍历每个字母对应的长度列表 aaa，把 aaa 从大到小排序。"
   ]
  },
  {
   "cell_type": "code",
   "execution_count": null,
   "metadata": {},
   "outputs": [],
   "source": [
    "from collections import defaultdict\n",
    "\n",
    "\n",
    "class Solution:\n",
    "    def maximumLength(self, s: str) -> int:\n",
    "        groups = defaultdict(list)\n",
    "        cnt = 0\n",
    "        for i, c in enumerate(s):\n",
    "            cnt += 1\n",
    "            if i + 1 == len(s) or c != s[i + 1]:\n",
    "                groups[c].append(cnt)\n",
    "                cnt = 0\n",
    "\n",
    "        ans = 0\n",
    "        for a in groups.values():\n",
    "            a.sort(reverse=True)\n",
    "            a.extend([0, 0])\n",
    "            ans = max(ans, a[0] - 2, min(a[0] - 1, a[1]), a[2])\n",
    "\n",
    "        return ans if ans else -1"
   ]
  }
 ],
 "metadata": {
  "language_info": {
   "name": "python"
  }
 },
 "nbformat": 4,
 "nbformat_minor": 2
}
