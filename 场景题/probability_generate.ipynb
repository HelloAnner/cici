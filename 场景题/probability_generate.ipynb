{
 "cells": [
  {
   "cell_type": "markdown",
   "metadata": {},
   "source": [
    "You are given n numbers as well as n probabilities that sum up to 1. Write a function to generate one of the numbers with its corresponding probability.\n",
    "\n",
    "For example, given the numbers [1, 2, 3, 4] and probabilities [0.1, 0.5, 0.2, 0.2], your function should return 1 10% of the time, 2 50% of the time, and 3 and 4 20% of the time.\n",
    "\n",
    "You can generate random numbers between 0 and 1 uniformly."
   ]
  },
  {
   "cell_type": "code",
   "execution_count": null,
   "metadata": {},
   "outputs": [],
   "source": [
    "import random\n",
    "\n",
    "\n",
    "def generate_number(numbers, probabilities):\n",
    "    # 生成一个介于0和1之间的随机数\n",
    "    rand = random.random()\n",
    "\n",
    "    # 使用累积概率计算生成的随机数所在的区间\n",
    "    cumulative_prob = 0\n",
    "    for num, prob in zip(numbers, probabilities):\n",
    "        cumulative_prob += prob\n",
    "        if rand <= cumulative_prob:\n",
    "            return num\n",
    "\n",
    "    # 如果未能在任何区间中生成随机数，则返回最后一个数字\n",
    "    return numbers[-1]"
   ]
  }
 ],
 "metadata": {
  "language_info": {
   "name": "python"
  }
 },
 "nbformat": 4,
 "nbformat_minor": 2
}
