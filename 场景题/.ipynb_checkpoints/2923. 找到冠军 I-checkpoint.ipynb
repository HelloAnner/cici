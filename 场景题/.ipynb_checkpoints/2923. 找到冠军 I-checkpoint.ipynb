{
 "cells": [
  {
   "cell_type": "markdown",
   "source": [
    "一场比赛中共有 n 支队伍，按从 0 到  n - 1 编号。\n",
    "\n",
    "给你一个下标从 0 开始、大小为 n * n 的二维布尔矩阵 grid 。对于满足 0 <= i, j <= n - 1 且 i != j 的所有 i, j ：如果 grid[i][j] == 1，那么 i 队比 j 队 强 ；否则，j 队比 i 队 强 。\n",
    "\n",
    "在这场比赛中，如果不存在某支强于 a 队的队伍，则认为 a 队将会是 冠军 。\n",
    "\n",
    "返回这场比赛中将会成为冠军的队伍。\n"
   ],
   "metadata": {
    "collapsed": false
   },
   "id": "a2dbb310b829e4a7"
  },
  {
   "cell_type": "markdown",
   "source": [
    "**直接查找**"
   ],
   "metadata": {
    "collapsed": false
   },
   "id": "2a477701c419f58a"
  },
  {
   "cell_type": "code",
   "execution_count": null,
   "id": "initial_id",
   "metadata": {
    "collapsed": true
   },
   "outputs": [],
   "source": [
    "from typing import List\n",
    "\n",
    "\n",
    "class Solution:\n",
    "    def findChampion(self, grid: List[List[int]]) -> int:\n",
    "        for i, row in enumerate(grid):\n",
    "            if sum(row) == len(grid) - 1:\n",
    "                return i "
   ]
  }
 ],
 "metadata": {
  "kernelspec": {
   "display_name": "Python 3",
   "language": "python",
   "name": "python3"
  },
  "language_info": {
   "codemirror_mode": {
    "name": "ipython",
    "version": 2
   },
   "file_extension": ".py",
   "mimetype": "text/x-python",
   "name": "python",
   "nbconvert_exporter": "python",
   "pygments_lexer": "ipython2",
   "version": "2.7.6"
  }
 },
 "nbformat": 4,
 "nbformat_minor": 5
}
