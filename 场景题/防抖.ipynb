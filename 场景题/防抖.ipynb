{
 "cells": [
  {
   "cell_type": "markdown",
   "metadata": {},
   "source": [
    "Given a function f, and N return a debounced f of N milliseconds.\n",
    "\n",
    "That is, as long as the debounced f continues to be invoked, f itself will not be called for N milliseconds."
   ]
  },
  {
   "cell_type": "markdown",
   "metadata": {},
   "source": [
    "![](images/2024-04-10-08-14-12.png)"
   ]
  },
  {
   "cell_type": "code",
   "execution_count": null,
   "metadata": {},
   "outputs": [],
   "source": [
    "from threading import Timer\n",
    "\n",
    "\n",
    "def debounce(fn: callable , delay:int) -> callable:\n",
    "    timeout:Timer = None\n",
    "    \n",
    "    def _debounce(*args,**kargs):\n",
    "        nonlocal timeout\n",
    "        if timeout is not None:\n",
    "            timeout.cancel()\n",
    "        timeout = Timer(delay/1000 , fn ,args,kargs)\n",
    "        timeout.start()\n",
    "    \n",
    "    return _debounce"
   ]
  }
 ],
 "metadata": {
  "language_info": {
   "name": "python"
  }
 },
 "nbformat": 4,
 "nbformat_minor": 2
}
