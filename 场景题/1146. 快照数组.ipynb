{
 "cells": [
  {
   "cell_type": "markdown",
   "metadata": {},
   "source": [
    "实现支持下列接口的「快照数组」- SnapshotArray：\n",
    "\n",
    "SnapshotArray(int length) - 初始化一个与指定长度相等的 类数组 的数据结构。初始时，每个元素都等于 0。\n",
    "void set(index, val) - 会将指定索引 index 处的元素设置为 val。\n",
    "int snap() - 获取该数组的快照，并返回快照的编号 snap_id（快照号是调用 snap() 的总次数减去 1）。\n",
    "int get(index, snap_id) - 根据指定的 snap_id 选择快照，并返回该快照指定索引 index 的值。"
   ]
  },
  {
   "cell_type": "code",
   "execution_count": null,
   "metadata": {},
   "outputs": [],
   "source": [
    "from bisect import bisect_right\n",
    "\n",
    "\n",
    "class SnapshotArray:\n",
    "\n",
    "    def __init__(self, length: int):\n",
    "        self.snap_cnt = 0\n",
    "        #  维护了一个二维数组，每一列都是相同 index 的不同版本数据\n",
    "        self.data = [[] for _ in range(length)]\n",
    "\n",
    "    def set(self, index: int, val: int) -> None:\n",
    "        self.data[index].append((self.snap_cnt, val))\n",
    "\n",
    "    def snap(self) -> int:\n",
    "        ans = self.snap_cnt\n",
    "        self.snap_cnt += 1\n",
    "        return ans\n",
    "\n",
    "    def get(self, index: int, snap_id: int) -> int:\n",
    "        # 使用元祖为0的位置的有序性，保证可以可以二分\n",
    "        x = bisect_right(self.data[index], (snap_id + 1, -1))\n",
    "        return 0 if x == 0 else self.data[index][x - 1][1]\n",
    "\n",
    "\n",
    "# Your SnapshotArray object will be instantiated and called as such:\n",
    "# obj = SnapshotArray(length)\n",
    "# obj.set(index,val)\n",
    "# param_2 = obj.snap()\n",
    "# param_3 = obj.get(index,snap_id)"
   ]
  }
 ],
 "metadata": {
  "language_info": {
   "name": "python"
  }
 },
 "nbformat": 4,
 "nbformat_minor": 2
}
