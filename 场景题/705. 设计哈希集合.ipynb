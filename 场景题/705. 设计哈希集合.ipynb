{
 "cells": [
  {
   "cell_type": "markdown",
   "source": [
    "不使用任何内建的哈希表库设计一个哈希集合（HashSet）。\n",
    "\n",
    "实现 MyHashSet 类：\n",
    "\n",
    "void add(key) 向哈希集合中插入值 key 。\n",
    "bool contains(key) 返回哈希集合中是否存在这个值 key 。\n",
    "void remove(key) 将给定值 key 从哈希集合中删除。如果哈希集合中没有这个值，什么也不做。"
   ],
   "metadata": {
    "collapsed": false
   },
   "id": "6485dc8c051f3cad"
  },
  {
   "cell_type": "markdown",
   "source": [
    "实现一个经典的数组 + 链表 的实现方式"
   ],
   "metadata": {
    "collapsed": false
   },
   "id": "bf170cd6eb3a1f7d"
  },
  {
   "cell_type": "code",
   "execution_count": null,
   "id": "initial_id",
   "metadata": {
    "collapsed": true
   },
   "outputs": [],
   "source": [
    "class MyHashSet:\n",
    "\n",
    "    def __init__(self):\n",
    "        self.size = 1000\n",
    "        self.data = [[] for _ in range(self.size)]\n",
    "\n",
    "    def add(self, key: int) -> None:\n",
    "        if self.contains(key):\n",
    "            return \n",
    "        idx = self.hash(key)\n",
    "        self.data[idx].append(key)\n",
    "\n",
    "    def remove(self, key: int) -> None:\n",
    "        if not self.contains(key):\n",
    "            return \n",
    "        idx = self.hash(key)\n",
    "        self.data[idx].remove(key)\n",
    "\n",
    "    def contains(self, key: int) -> bool:\n",
    "        idx = self.hash(key)\n",
    "        return  any( v == key for v in self.data[idx])\n",
    "    \n",
    "    def hash(self,key) -> int:\n",
    "        return key % self.size\n",
    "\n",
    "\n",
    "# Your MyHashSet object will be instantiated and called as such:\n",
    "# obj = MyHashSet()\n",
    "# obj.add(key)\n",
    "# obj.remove(key)\n",
    "# param_3 = obj.contains(key)"
   ]
  }
 ],
 "metadata": {
  "kernelspec": {
   "display_name": "Python 3",
   "language": "python",
   "name": "python3"
  },
  "language_info": {
   "codemirror_mode": {
    "name": "ipython",
    "version": 2
   },
   "file_extension": ".py",
   "mimetype": "text/x-python",
   "name": "python",
   "nbconvert_exporter": "python",
   "pygments_lexer": "ipython2",
   "version": "2.7.6"
  }
 },
 "nbformat": 4,
 "nbformat_minor": 5
}
