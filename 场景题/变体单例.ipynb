{
 "cells": [
  {
   "cell_type": "markdown",
   "metadata": {},
   "source": [
    "```java\n",
    "public class Singleton {\n",
    "    private static volatile Singleton instance1;\n",
    "    private static volatile Singleton instance2;\n",
    "    private static volatile int callCount;\n",
    "\n",
    "    private Singleton() {\n",
    "        // 私有构造函数，防止外部实例化\n",
    "    }\n",
    "\n",
    "    public static Singleton getInstance() {\n",
    "        if (callCount % 2 == 0) {\n",
    "            if (instance1 == null) {\n",
    "                synchronized (Singleton.class) {\n",
    "                    if (instance1 == null) {\n",
    "                        instance1 = new Singleton();\n",
    "                    }\n",
    "                }\n",
    "            }\n",
    "            return instance1;\n",
    "        } else {\n",
    "            if (instance2 == null) {\n",
    "                synchronized (Singleton.class) {\n",
    "                    if (instance2 == null) {\n",
    "                        instance2 = new Singleton();\n",
    "                    }\n",
    "                }\n",
    "            }\n",
    "            return instance2;\n",
    "        }\n",
    "    }\n",
    "\n",
    "    public static void main(String[] args) {\n",
    "        // 示例用法\n",
    "        Singleton singleton1 = Singleton.getInstance(); // 返回 instance1\n",
    "        Singleton singleton2 = Singleton.getInstance(); // 返回 instance2\n",
    "        Singleton singleton3 = Singleton.getInstance(); // 返回 instance1\n",
    "        Singleton singleton4 = Singleton.getInstance(); // 返回 instance2\n",
    "    }\n",
    "}\n",
    "```"
   ]
  }
 ],
 "metadata": {
  "language_info": {
   "name": "python"
  }
 },
 "nbformat": 4,
 "nbformat_minor": 2
}
