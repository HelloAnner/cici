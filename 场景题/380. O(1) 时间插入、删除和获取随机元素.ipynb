{
 "cells": [
  {
   "cell_type": "markdown",
   "metadata": {},
   "source": [
    "实现RandomizedSet 类： \n",
    "\n",
    "RandomizedSet() 初始化 RandomizedSet 对象  \n",
    "bool insert(int val) 当元素 val 不存在时，向集合中插入该项，并返回 true ；否则，返回 false 。  \n",
    "bool remove(int val) 当元素 val 存在时，从集合中移除该项，并返回 true ；否则，返回 false 。  \n",
    "int getRandom() 随机返回现有集合中的一项（测试用例保证调用此方法时集合中至少存在一个元素）。每个元素应该有 相同的概率 被返回。  \n",
    "你必须实现类的所有函数，并满足每个函数的 平均 时间复杂度为 O(1) 。  "
   ]
  },
  {
   "cell_type": "markdown",
   "metadata": {},
   "source": [
    "哈希表存储 元素 和 对应的 下标的 关系 ， 方便快速判断元素是不是存在 和 找到对应的元素位置  \n",
    "\n",
    "使用变长数组存储元素内容  "
   ]
  },
  {
   "cell_type": "code",
   "execution_count": null,
   "metadata": {},
   "outputs": [],
   "source": [
    "from random import choice\n",
    "\n",
    "\n",
    "class RandomizedSet:\n",
    "\n",
    "    def __init__(self):\n",
    "        self.nums = []\n",
    "        self.indices = {}\n",
    "\n",
    "    def insert(self, val: int) -> bool:\n",
    "        if val in self.indices:\n",
    "            return False\n",
    "        self.indices[val] = len(self.nums)\n",
    "        self.nums.append(val)\n",
    "        return True\n",
    "\n",
    "    def remove(self, val: int) -> bool:\n",
    "        if val not in self.indices:\n",
    "            \n",
    "            return False\n",
    "        id = self.indices[val]\n",
    "        self.nums[id] = self.nums[-1]\n",
    "        self.indices[self.nums[-1]] = id\n",
    "        self.nums.pop()\n",
    "        del self.indices[val]\n",
    "        return True\n",
    "\n",
    "    def getRandom(self) -> int:\n",
    "        return choice(self.nums)\n",
    "\n",
    "\n",
    "# Your RandomizedSet object will be instantiated and called as such:\n",
    "# obj = RandomizedSet()\n",
    "# param_1 = obj.insert(val)\n",
    "# param_2 = obj.remove(val)\n",
    "# param_3 = obj.getRandom()"
   ]
  }
 ],
 "metadata": {
  "language_info": {
   "name": "python"
  }
 },
 "nbformat": 4,
 "nbformat_minor": 2
}
