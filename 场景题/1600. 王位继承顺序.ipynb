{
 "cells": [
  {
   "cell_type": "markdown",
   "metadata": {},
   "source": [
    "一个王国里住着国王、他的孩子们、他的孙子们等等。每一个时间点，这个家庭里有人出生也有人死亡。\n",
    "\n",
    "这个王国有一个明确规定的王位继承顺序，第一继承人总是国王自己。我们定义递归函数 Successor(x, curOrder) ，给定一个人 x 和当前的继承顺序，该函数返回 x 的下一继承人。\n",
    "\n",
    "Successor(x, curOrder):\n",
    "    如果 x 没有孩子或者所有 x 的孩子都在 curOrder 中：\n",
    "        如果 x 是国王，那么返回 null\n",
    "        否则，返回 Successor(x 的父亲, curOrder)\n",
    "    否则，返回 x 不在 curOrder 中最年长的孩子\n",
    "比方说，假设王国由国王，他的孩子 Alice 和 Bob （Alice 比 Bob 年长）和 Alice 的孩子 Jack 组成。\n",
    "\n",
    "一开始， curOrder 为 [\"king\"].\n",
    "调用 Successor(king, curOrder) ，返回 Alice ，所以我们将 Alice 放入 curOrder 中，得到 [\"king\", \"Alice\"] 。\n",
    "调用 Successor(Alice, curOrder) ，返回 Jack ，所以我们将 Jack 放入 curOrder 中，得到 [\"king\", \"Alice\", \"Jack\"] 。\n",
    "调用 Successor(Jack, curOrder) ，返回 Bob ，所以我们将 Bob 放入 curOrder 中，得到 [\"king\", \"Alice\", \"Jack\", \"Bob\"] 。\n",
    "调用 Successor(Bob, curOrder) ，返回 null 。最终得到继承顺序为 [\"king\", \"Alice\", \"Jack\", \"Bob\"] 。\n",
    "通过以上的函数，我们总是能得到一个唯一的继承顺序。\n",
    "\n",
    "请你实现 ThroneInheritance 类：\n",
    "\n",
    "ThroneInheritance(string kingName) 初始化一个 ThroneInheritance 类的对象。国王的名字作为构造函数的参数传入。\n",
    "\n",
    "void birth(string parentName, string childName) 表示 parentName 新拥有了一个名为 childName 的孩子。\n",
    "\n",
    "void death(string name) 表示名为 name 的人死亡。一个人的死亡不会影响 Successor 函数，也不会影响当前的继承顺序。你可以只将这个人标记为死亡状态。\n",
    "\n",
    "string[] getInheritanceOrder() 返回 除去 死亡人员的当前继承顺序列表。\n"
   ]
  },
  {
   "cell_type": "markdown",
   "metadata": {},
   "source": [
    "ThroneInheritance(kingName)：我们将 kingName\\texttt{kingName}kingName 作为树的根节点；\n",
    "\n",
    "birth(parentName, childName)\\texttt{birth(parentName, childName)}birth(parentName, childName)：我们在树中添加一条从 parentName\\texttt{parentName}parentName 到 childName\\texttt{childName}childName 的边，将 childName\\texttt{childName}childName 作为 parentName\\texttt{parentName}parentName 的子节点；\n",
    "\n",
    "death(name)\\texttt{death(name)}death(name)：我们使用一个哈希集合记录所有的死亡人员，将 name\\texttt{name}name 加入该哈希集合中；\n",
    "\n",
    "getInheritanceOrder()\\texttt{getInheritanceOrder()}getInheritanceOrder()：我们从根节点开始对整棵树进行前序遍历。需要注意的是，如果遍历到死亡人员，那么不能将其加入继承顺序列表中。"
   ]
  },
  {
   "cell_type": "code",
   "execution_count": null,
   "metadata": {},
   "outputs": [],
   "source": [
    "from collections import defaultdict\n",
    "from typing import List\n",
    "\n",
    "\n",
    "class ThroneInheritance:\n",
    "\n",
    "    def __init__(self, kingName: str):\n",
    "        self.edges = defaultdict(list)\n",
    "        self.dead = set()\n",
    "        self.king = kingName\n",
    "\n",
    "    def birth(self, parentName: str, childName: str) -> None:\n",
    "        self.edges[parentName].append(childName)\n",
    "\n",
    "    def death(self, name: str) -> None:\n",
    "        self.dead.add(name)\n",
    "\n",
    "    def getInheritanceOrder(self) -> List[str]:\n",
    "        ans = list()\n",
    "        def preorder(name:str) -> None:\n",
    "            if name not in self.dead:\n",
    "                ans.append(name)\n",
    "            if name in self.edges:\n",
    "                for childName in self.edges[name]:\n",
    "                    preorder(childName)\n",
    "        \n",
    "        preorder(self.king)\n",
    "        return ans\n",
    "\n",
    "\n",
    "# Your ThroneInheritance object will be instantiated and called as such:\n",
    "# obj = ThroneInheritance(kingName)\n",
    "# obj.birth(parentName,childName)\n",
    "# obj.death(name)\n",
    "# param_3 = obj.getInheritanceOrder()"
   ]
  },
  {
   "cell_type": "code",
   "execution_count": null,
   "metadata": {},
   "outputs": [],
   "source": []
  }
 ],
 "metadata": {
  "language_info": {
   "name": "python"
  }
 },
 "nbformat": 4,
 "nbformat_minor": 2
}
